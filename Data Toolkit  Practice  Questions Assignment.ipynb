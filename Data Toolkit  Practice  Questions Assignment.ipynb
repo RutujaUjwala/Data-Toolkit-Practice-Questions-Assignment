{
 "cells": [
  {
   "cell_type": "code",
   "execution_count": 1,
   "id": "5fb5764e-d224-4383-8f63-0615c27fd2eb",
   "metadata": {},
   "outputs": [],
   "source": [
    "import numpy as np"
   ]
  },
  {
   "cell_type": "code",
   "execution_count": null,
   "id": "4d4dc00f-2b2b-4487-8c3b-53d3e1403616",
   "metadata": {},
   "outputs": [],
   "source": [
    "#1)Demonstrate three different methods for creating identical 2D arrays in NumPy. Provide the code for each \n",
    "# method and the final output after each method"
   ]
  },
  {
   "cell_type": "code",
   "execution_count": 3,
   "id": "f510f908-7718-4682-8b0b-b8249b5f044a",
   "metadata": {},
   "outputs": [
    {
     "data": {
      "text/plain": [
       "array([[7., 7., 7.],\n",
       "       [7., 7., 7.],\n",
       "       [7., 7., 7.]])"
      ]
     },
     "execution_count": 3,
     "metadata": {},
     "output_type": "execute_result"
    }
   ],
   "source": [
    "# Method 1: Using numpy.zeroes()\n",
    "\n",
    "arr0=np.zeros([3,3])+7\n",
    "arr0"
   ]
  },
  {
   "cell_type": "code",
   "execution_count": 6,
   "id": "d01549c4-5d7b-432a-8008-2e46b5699998",
   "metadata": {},
   "outputs": [
    {
     "data": {
      "text/plain": [
       "array([[7., 7., 7.],\n",
       "       [7., 7., 7.],\n",
       "       [7., 7., 7.]])"
      ]
     },
     "execution_count": 6,
     "metadata": {},
     "output_type": "execute_result"
    }
   ],
   "source": [
    "# Method 2: Using numpy.ones()\n",
    "\n",
    "arr1=np.ones([3,3])*7\n",
    "arr1"
   ]
  },
  {
   "cell_type": "code",
   "execution_count": 8,
   "id": "7a766488-14e4-40ec-9f13-a63f6cdf34e2",
   "metadata": {},
   "outputs": [
    {
     "data": {
      "text/plain": [
       "array([[7, 7, 7],\n",
       "       [7, 7, 7],\n",
       "       [7, 7, 7]])"
      ]
     },
     "execution_count": 8,
     "metadata": {},
     "output_type": "execute_result"
    }
   ],
   "source": [
    "# Method 3: Using numpy.full()\n",
    "arr2=np.full((3,3),7)\n",
    "arr2"
   ]
  },
  {
   "cell_type": "code",
   "execution_count": null,
   "id": "1f94f452-2bea-40c4-aa2f-f617f755de66",
   "metadata": {},
   "outputs": [],
   "source": [
    "# 2)Using the Numpy function, generate an array of 100 evenly spaced numbers between 1 and 10 and \n",
    "# Reshape that 1D array into a 2D array"
   ]
  },
  {
   "cell_type": "code",
   "execution_count": 12,
   "id": "c2660786-f35c-4ac9-ac21-9dceed8ea988",
   "metadata": {},
   "outputs": [
    {
     "data": {
      "text/plain": [
       "array([[ 1.        ,  1.09090909,  1.18181818,  1.27272727,  1.36363636,\n",
       "         1.45454545,  1.54545455,  1.63636364,  1.72727273,  1.81818182],\n",
       "       [ 1.90909091,  2.        ,  2.09090909,  2.18181818,  2.27272727,\n",
       "         2.36363636,  2.45454545,  2.54545455,  2.63636364,  2.72727273],\n",
       "       [ 2.81818182,  2.90909091,  3.        ,  3.09090909,  3.18181818,\n",
       "         3.27272727,  3.36363636,  3.45454545,  3.54545455,  3.63636364],\n",
       "       [ 3.72727273,  3.81818182,  3.90909091,  4.        ,  4.09090909,\n",
       "         4.18181818,  4.27272727,  4.36363636,  4.45454545,  4.54545455],\n",
       "       [ 4.63636364,  4.72727273,  4.81818182,  4.90909091,  5.        ,\n",
       "         5.09090909,  5.18181818,  5.27272727,  5.36363636,  5.45454545],\n",
       "       [ 5.54545455,  5.63636364,  5.72727273,  5.81818182,  5.90909091,\n",
       "         6.        ,  6.09090909,  6.18181818,  6.27272727,  6.36363636],\n",
       "       [ 6.45454545,  6.54545455,  6.63636364,  6.72727273,  6.81818182,\n",
       "         6.90909091,  7.        ,  7.09090909,  7.18181818,  7.27272727],\n",
       "       [ 7.36363636,  7.45454545,  7.54545455,  7.63636364,  7.72727273,\n",
       "         7.81818182,  7.90909091,  8.        ,  8.09090909,  8.18181818],\n",
       "       [ 8.27272727,  8.36363636,  8.45454545,  8.54545455,  8.63636364,\n",
       "         8.72727273,  8.81818182,  8.90909091,  9.        ,  9.09090909],\n",
       "       [ 9.18181818,  9.27272727,  9.36363636,  9.45454545,  9.54545455,\n",
       "         9.63636364,  9.72727273,  9.81818182,  9.90909091, 10.        ]])"
      ]
     },
     "execution_count": 12,
     "metadata": {},
     "output_type": "execute_result"
    }
   ],
   "source": [
    "#generate an array o evenly spaced numbers between 1 and 10\n",
    "arr1d=np.linspace(1,10,100)\n",
    "\n",
    "#Reshape the 1D array to 2D array\n",
    "array2d=arr1d.reshape(10,10)\n",
    "array2d"
   ]
  },
  {
   "cell_type": "code",
   "execution_count": null,
   "id": "5f93a681-19e1-4701-b725-97279728445c",
   "metadata": {},
   "outputs": [],
   "source": [
    "# 3)Explain the following terms\n",
    "#--The difference in np.array, np.asarray and np.asanyarray\n",
    "#--The difference between Deep copy and shallow copy"
   ]
  },
  {
   "cell_type": "code",
   "execution_count": 6,
   "id": "5b2416cf-2571-4165-889b-8299cc250c04",
   "metadata": {},
   "outputs": [
    {
     "name": "stdout",
     "output_type": "stream",
     "text": [
      "array1: [1 2 3]\n",
      "array2: [1 2 3]\n"
     ]
    }
   ],
   "source": [
    "#--The difference in np.array, np.asarray and np.asanyarray\n",
    "#1) np.array()\n",
    "'''-Creates a new \"nd.array\" array from any object that can be converted to an array.\n",
    "-Copies the input data unless specified with the \"copy=False\" argument.\n",
    "- When you need to ensure a new array is created, independent of the input.'''\n",
    "\n",
    "import numpy as np\n",
    "# Input as a python list\n",
    "a = [1, 2, 3]\n",
    "array1 = np.array(a)\n",
    "print(\"array1:\",array1)\n",
    "\n",
    "# input as an ndarray\n",
    "b=np.array([1,2,3])\n",
    "array2=np.array(b)\n",
    "print(\"array2:\",array2) #create new array\n"
   ]
  },
  {
   "cell_type": "code",
   "execution_count": 12,
   "id": "799939a7-a36b-49e8-b96c-12d05be1ea40",
   "metadata": {},
   "outputs": [
    {
     "name": "stdout",
     "output_type": "stream",
     "text": [
      "array1: [1 2 3]\n",
      "array2 is b: True\n"
     ]
    }
   ],
   "source": [
    "#2) np.asarray()\n",
    "'''- Converts the input into an \"nd.array\", but avoids creating a copy if the input is already an array.\n",
    "- Copies the input data unless specified with the \"copy=False\" argument.\n",
    "- When you need to ensure a new array is created, independent of the input.'''\n",
    "\n",
    "# Input as a Python list\n",
    "a = [1, 2, 3]\n",
    "array1 = np.asarray(a)\n",
    "print('array1:',array1)  # [1 2 3]\n",
    "\n",
    "# Input as an ndarray\n",
    "b = np.array([1, 2, 3])\n",
    "array2 = np.asarray(b)\n",
    "print(\"array2 is b:\",array2 is b)  # True, no new array is created\n",
    "\n"
   ]
  },
  {
   "cell_type": "code",
   "execution_count": 16,
   "id": "4739257a-e185-4f11-909d-cd58b7c88e4f",
   "metadata": {},
   "outputs": [
    {
     "name": "stdout",
     "output_type": "stream",
     "text": [
      "array1: [1 2 3]\n",
      "array2: <class 'numpy.matrix'>\n"
     ]
    }
   ],
   "source": [
    "#3)np.asanyarray()\n",
    "'''-Similar to \"np.asarray()\", but it allows subclasses of ndarray to be passed through without being converted to a base ndarray. \n",
    "This is useful when working with objects like matrices or masked arrays, where preserving the subclass is important.\n",
    "- If the input is an instance of a subclass of ndarray (e.g., np.matrix), \n",
    "it will return the same object without converting it to a base ndarray.\n",
    "- When you want to convert input to an array but preserve the subclass if applicable.'''\n",
    "\n",
    "# Input as a Python list\n",
    "a = [1, 2, 3]\n",
    "array1 = np.asanyarray(a)\n",
    "print(\"array1:\",array1)  # [1 2 3]\n",
    "\n",
    "# Input as a matrix\n",
    "b = np.matrix([1, 2, 3])\n",
    "array2 = np.asanyarray(b)\n",
    "print(\"array2:\",type(array2))  # <class 'numpy.matrix'>, it preserves the matrix subclass\n",
    "\n"
   ]
  },
  {
   "cell_type": "code",
   "execution_count": null,
   "id": "03fdbc22-56b2-4fe1-bef3-d089e28c7e56",
   "metadata": {},
   "outputs": [],
   "source": [
    "# 4) Generate a 3x3 array with random floating-point numbers between 5 and 20. Then, round each numberin \n",
    "# the array to 2 decimal places."
   ]
  },
  {
   "cell_type": "code",
   "execution_count": 27,
   "id": "eab1d3ef-3cc0-4b1b-8ed0-7b03c024f8d5",
   "metadata": {},
   "outputs": [
    {
     "name": "stdout",
     "output_type": "stream",
     "text": [
      "random_array:\n",
      " [[ 7.47427061  8.54891998 15.32521146]\n",
      " [12.41286406 11.47766549 11.46699333]\n",
      " [16.33919615  7.84668231 15.3528446 ]]\n",
      "rounded_array:\n",
      " [[ 7.47  8.55 15.33]\n",
      " [12.41 11.48 11.47]\n",
      " [16.34  7.85 15.35]]\n"
     ]
    }
   ],
   "source": [
    "# Generate a 3x3 array with random floats between 5 and 20\n",
    "random_array = np.random.uniform(5, 20, (3, 3))\n",
    "print('random_array:\\n',random_array)\n",
    "\n",
    "# Round each number in the array to 2 decimal places\n",
    "rounded_array = np.round(random_array, 2)\n",
    "print(\"rounded_array:\\n\",rounded_array)"
   ]
  },
  {
   "cell_type": "code",
   "execution_count": null,
   "id": "896aeef7-7c23-47bd-8683-e500f84e2aac",
   "metadata": {},
   "outputs": [],
   "source": [
    "# 5 ) Create a NumPy array with random integers between 1 and 10 of shape (5, 6). After creating the array \n",
    "# perform the following operations:\n",
    "# a)Extract all even integers from array.\n",
    "# b)Extract all odd integers from array"
   ]
  },
  {
   "cell_type": "code",
   "execution_count": 32,
   "id": "291e4c24-e98c-4543-9c9a-af944100839a",
   "metadata": {},
   "outputs": [
    {
     "name": "stdout",
     "output_type": "stream",
     "text": [
      "arr:\n",
      " [[3 9 7 6 5 3]\n",
      " [2 9 7 1 6 9]\n",
      " [3 6 4 7 7 7]\n",
      " [4 3 3 8 5 8]\n",
      " [8 4 8 6 6 5]]\n",
      "even_arr:\n",
      " [6 2 6 6 4 4 8 8 8 4 8 6 6]\n",
      "odd_arr:\n",
      " [3 9 7 5 3 9 7 1 9 3 7 7 7 3 3 5 5]\n"
     ]
    }
   ],
   "source": [
    "arr=np.random.randint(1,10,(5,6))\n",
    "print(\"arr:\\n\",arr)\n",
    "\n",
    "even_arr=arr[arr% 2 ==0]\n",
    "print(\"even_arr:\\n\",even_arr)\n",
    "\n",
    "odd_arr=arr[arr% 2!=0]\n",
    "print(\"odd_arr:\\n\",odd_arr)"
   ]
  },
  {
   "cell_type": "code",
   "execution_count": null,
   "id": "607ceaac-1841-4429-a459-fc27dfdb6cb3",
   "metadata": {},
   "outputs": [],
   "source": [
    "# 6)Create a 3D NumPy array of shape (3, 3, 3) containing random integers between 1 and 10. Perform the \n",
    "# following operations:\n",
    " # a) Find the indices of the maximum values along each depth level (third axis).\n",
    " # b) Perform element-wise multiplication of between both array"
   ]
  },
  {
   "cell_type": "code",
   "execution_count": 39,
   "id": "b2b0abb1-ad7c-4369-9c50-84d485f30dac",
   "metadata": {},
   "outputs": [
    {
     "name": "stdout",
     "output_type": "stream",
     "text": [
      "arr_3d:\n",
      " [[[ 1  8 10]\n",
      "  [ 1  2  9]\n",
      "  [ 7  8  4]]\n",
      "\n",
      " [[ 4  7  6]\n",
      "  [ 4  2  1]\n",
      "  [ 1  5  8]]\n",
      "\n",
      " [[ 7  5  4]\n",
      "  [ 1  9  6]\n",
      "  [ 6  5  4]]]\n",
      "max_indices:\n",
      " [[2 2 1]\n",
      " [1 0 2]\n",
      " [0 1 0]]\n"
     ]
    }
   ],
   "source": [
    "# a) Find the indices of the maximum values along each depth level (third axis)\n",
    "\n",
    "# Create a 3D array of shape (3, 3, 3) with random integers\n",
    "arr_3d=np.random.randint(1,11,(3,3,3))\n",
    "print('arr_3d:\\n', arr_3d)\n",
    "#indices of the maximum values along the third axis (depth level\n",
    "max_indices=np.argmax(arr_3d,axis=2)\n",
    "print(\"max_indices:\\n\",max_indices)"
   ]
  },
  {
   "cell_type": "code",
   "execution_count": 42,
   "id": "53f7f1a8-579b-4cb8-93aa-2cfc89433cfa",
   "metadata": {},
   "outputs": [
    {
     "name": "stdout",
     "output_type": "stream",
     "text": [
      "arr1:\n",
      " [[[ 8  5  9]\n",
      "  [ 6  8  9]\n",
      "  [ 6  6 10]]\n",
      "\n",
      " [[ 9  8  3]\n",
      "  [ 9  6  5]\n",
      "  [ 5 10  8]]\n",
      "\n",
      " [[ 6  5  6]\n",
      "  [ 4  6  7]\n",
      "  [ 7  2  4]]]\n",
      "arr2:\n",
      " [[[ 6  4  8]\n",
      "  [ 2  3  7]\n",
      "  [10  7  5]]\n",
      "\n",
      " [[10  7  6]\n",
      "  [ 7  8 10]\n",
      "  [ 4  4 10]]\n",
      "\n",
      " [[ 3  9  1]\n",
      "  [ 3  9  8]\n",
      "  [ 9  8  9]]]\n",
      "result:\n",
      " [[[48 20 72]\n",
      "  [12 24 63]\n",
      "  [60 42 50]]\n",
      "\n",
      " [[90 56 18]\n",
      "  [63 48 50]\n",
      "  [20 40 80]]\n",
      "\n",
      " [[18 45  6]\n",
      "  [12 54 56]\n",
      "  [63 16 36]]]\n"
     ]
    }
   ],
   "source": [
    "# b) Perform element-wise multiplication of between both array\n",
    "\n",
    "arr1=np.random.randint(1,11,(3,3,3))\n",
    "print('arr1:\\n', arr1)\n",
    "\n",
    "arr2=np.random.randint(1,11,(3,3,3))\n",
    "print('arr2:\\n', arr2)\n",
    "\n",
    "#Perform element-wise multiplication\n",
    "result= arr1*arr2\n",
    "print('result:\\n',result)"
   ]
  },
  {
   "cell_type": "code",
   "execution_count": 82,
   "id": "fb7e2442-f61b-4b76-8564-55382d0afeaf",
   "metadata": {},
   "outputs": [
    {
     "data": {
      "text/html": [
       "<div>\n",
       "<style scoped>\n",
       "    .dataframe tbody tr th:only-of-type {\n",
       "        vertical-align: middle;\n",
       "    }\n",
       "\n",
       "    .dataframe tbody tr th {\n",
       "        vertical-align: top;\n",
       "    }\n",
       "\n",
       "    .dataframe thead th {\n",
       "        text-align: right;\n",
       "    }\n",
       "</style>\n",
       "<table border=\"1\" class=\"dataframe\">\n",
       "  <thead>\n",
       "    <tr style=\"text-align: right;\">\n",
       "      <th></th>\n",
       "      <th>Index</th>\n",
       "      <th>User Id</th>\n",
       "      <th>First Name</th>\n",
       "      <th>Last Name</th>\n",
       "      <th>Gender</th>\n",
       "      <th>Email</th>\n",
       "      <th>Phone</th>\n",
       "      <th>Date of birth</th>\n",
       "      <th>Job Title</th>\n",
       "      <th>Salary</th>\n",
       "    </tr>\n",
       "  </thead>\n",
       "  <tbody>\n",
       "    <tr>\n",
       "      <th>0</th>\n",
       "      <td>1</td>\n",
       "      <td>8717bbf45cCDbEe</td>\n",
       "      <td>Shelia</td>\n",
       "      <td>Mahoney</td>\n",
       "      <td>Male</td>\n",
       "      <td>pwarner@example.org</td>\n",
       "      <td>857.139.8239</td>\n",
       "      <td>27-01-2014</td>\n",
       "      <td>Probation officer</td>\n",
       "      <td>90000</td>\n",
       "    </tr>\n",
       "    <tr>\n",
       "      <th>1</th>\n",
       "      <td>2</td>\n",
       "      <td>3d5AD30A4cD38ed</td>\n",
       "      <td>Jo</td>\n",
       "      <td>Rivers</td>\n",
       "      <td>Female</td>\n",
       "      <td>fergusonkatherine@example.net</td>\n",
       "      <td>NaN</td>\n",
       "      <td>26-07-1931</td>\n",
       "      <td>Dancer</td>\n",
       "      <td>80000</td>\n",
       "    </tr>\n",
       "    <tr>\n",
       "      <th>2</th>\n",
       "      <td>3</td>\n",
       "      <td>810Ce0F276Badec</td>\n",
       "      <td>Sheryl</td>\n",
       "      <td>Lowery</td>\n",
       "      <td>Female</td>\n",
       "      <td>fhoward@example.org</td>\n",
       "      <td>(599)782-0605</td>\n",
       "      <td>25-11-2013</td>\n",
       "      <td>Copy</td>\n",
       "      <td>50000</td>\n",
       "    </tr>\n",
       "    <tr>\n",
       "      <th>3</th>\n",
       "      <td>4</td>\n",
       "      <td>BF2a889C00f0cE1</td>\n",
       "      <td>Whitney</td>\n",
       "      <td>Hooper</td>\n",
       "      <td>Male</td>\n",
       "      <td>zjohnston@example.com</td>\n",
       "      <td>NaN</td>\n",
       "      <td>17-11-2012</td>\n",
       "      <td>Counselling psychologist</td>\n",
       "      <td>65000</td>\n",
       "    </tr>\n",
       "    <tr>\n",
       "      <th>4</th>\n",
       "      <td>5</td>\n",
       "      <td>9afFEafAe1CBBB9</td>\n",
       "      <td>Lindsey</td>\n",
       "      <td>Rice</td>\n",
       "      <td>Female</td>\n",
       "      <td>elin@example.net</td>\n",
       "      <td>(390)417-1635x3010</td>\n",
       "      <td>15-04-1923</td>\n",
       "      <td>Biomedical engineer</td>\n",
       "      <td>100000</td>\n",
       "    </tr>\n",
       "    <tr>\n",
       "      <th>...</th>\n",
       "      <td>...</td>\n",
       "      <td>...</td>\n",
       "      <td>...</td>\n",
       "      <td>...</td>\n",
       "      <td>...</td>\n",
       "      <td>...</td>\n",
       "      <td>...</td>\n",
       "      <td>...</td>\n",
       "      <td>...</td>\n",
       "      <td>...</td>\n",
       "    </tr>\n",
       "    <tr>\n",
       "      <th>995</th>\n",
       "      <td>996</td>\n",
       "      <td>fedF4c7Fd9e7cFa</td>\n",
       "      <td>Kurt</td>\n",
       "      <td>Bryant</td>\n",
       "      <td>Female</td>\n",
       "      <td>lyonsdaisy@example.net</td>\n",
       "      <td>021.775.2933</td>\n",
       "      <td>05-01-1959</td>\n",
       "      <td>Personnel officer</td>\n",
       "      <td>90000</td>\n",
       "    </tr>\n",
       "    <tr>\n",
       "      <th>996</th>\n",
       "      <td>997</td>\n",
       "      <td>ECddaFEDdEc4FAB</td>\n",
       "      <td>Donna</td>\n",
       "      <td>Barry</td>\n",
       "      <td>Female</td>\n",
       "      <td>dariusbryan@example.com</td>\n",
       "      <td>001-149-710-7799x721</td>\n",
       "      <td>06-10-2001</td>\n",
       "      <td>Education administrator</td>\n",
       "      <td>50000</td>\n",
       "    </tr>\n",
       "    <tr>\n",
       "      <th>997</th>\n",
       "      <td>998</td>\n",
       "      <td>2adde51d8B8979E</td>\n",
       "      <td>Cathy</td>\n",
       "      <td>Mckinney</td>\n",
       "      <td>Female</td>\n",
       "      <td>georgechan@example.org</td>\n",
       "      <td>+1-750-774-4128x33265</td>\n",
       "      <td>13-05-1918</td>\n",
       "      <td>Commercial/residential surveyor</td>\n",
       "      <td>60000</td>\n",
       "    </tr>\n",
       "    <tr>\n",
       "      <th>998</th>\n",
       "      <td>999</td>\n",
       "      <td>Fb2FE369D1E171A</td>\n",
       "      <td>Jermaine</td>\n",
       "      <td>Phelps</td>\n",
       "      <td>Male</td>\n",
       "      <td>wanda04@example.net</td>\n",
       "      <td>(915)292-2254</td>\n",
       "      <td>31-08-1971</td>\n",
       "      <td>Ambulance person</td>\n",
       "      <td>100000</td>\n",
       "    </tr>\n",
       "    <tr>\n",
       "      <th>999</th>\n",
       "      <td>1000</td>\n",
       "      <td>8b756f6231DDC6e</td>\n",
       "      <td>Lee</td>\n",
       "      <td>Tran</td>\n",
       "      <td>Female</td>\n",
       "      <td>deannablack@example.org</td>\n",
       "      <td>079.752.5424x67259</td>\n",
       "      <td>24-01-1947</td>\n",
       "      <td>Nurse, learning disability</td>\n",
       "      <td>90000</td>\n",
       "    </tr>\n",
       "  </tbody>\n",
       "</table>\n",
       "<p>1000 rows × 10 columns</p>\n",
       "</div>"
      ],
      "text/plain": [
       "     Index          User Id First Name Last Name  Gender  \\\n",
       "0        1  8717bbf45cCDbEe     Shelia   Mahoney    Male   \n",
       "1        2  3d5AD30A4cD38ed         Jo    Rivers  Female   \n",
       "2        3  810Ce0F276Badec     Sheryl    Lowery  Female   \n",
       "3        4  BF2a889C00f0cE1    Whitney    Hooper    Male   \n",
       "4        5  9afFEafAe1CBBB9    Lindsey      Rice  Female   \n",
       "..     ...              ...        ...       ...     ...   \n",
       "995    996  fedF4c7Fd9e7cFa       Kurt    Bryant  Female   \n",
       "996    997  ECddaFEDdEc4FAB      Donna     Barry  Female   \n",
       "997    998  2adde51d8B8979E      Cathy  Mckinney  Female   \n",
       "998    999  Fb2FE369D1E171A   Jermaine    Phelps    Male   \n",
       "999   1000  8b756f6231DDC6e        Lee      Tran  Female   \n",
       "\n",
       "                             Email                  Phone Date of birth  \\\n",
       "0              pwarner@example.org           857.139.8239    27-01-2014   \n",
       "1    fergusonkatherine@example.net                    NaN    26-07-1931   \n",
       "2              fhoward@example.org          (599)782-0605    25-11-2013   \n",
       "3            zjohnston@example.com                    NaN    17-11-2012   \n",
       "4                 elin@example.net     (390)417-1635x3010    15-04-1923   \n",
       "..                             ...                    ...           ...   \n",
       "995         lyonsdaisy@example.net           021.775.2933    05-01-1959   \n",
       "996        dariusbryan@example.com   001-149-710-7799x721    06-10-2001   \n",
       "997         georgechan@example.org  +1-750-774-4128x33265    13-05-1918   \n",
       "998            wanda04@example.net          (915)292-2254    31-08-1971   \n",
       "999        deannablack@example.org     079.752.5424x67259    24-01-1947   \n",
       "\n",
       "                           Job Title  Salary  \n",
       "0                  Probation officer   90000  \n",
       "1                             Dancer   80000  \n",
       "2                               Copy   50000  \n",
       "3           Counselling psychologist   65000  \n",
       "4                Biomedical engineer  100000  \n",
       "..                               ...     ...  \n",
       "995                Personnel officer   90000  \n",
       "996          Education administrator   50000  \n",
       "997  Commercial/residential surveyor   60000  \n",
       "998                 Ambulance person  100000  \n",
       "999       Nurse, learning disability   90000  \n",
       "\n",
       "[1000 rows x 10 columns]"
      ]
     },
     "execution_count": 82,
     "metadata": {},
     "output_type": "execute_result"
    }
   ],
   "source": [
    "import pandas as pd\n",
    "df1=pd.read_csv('People Data.csv')\n",
    "df1"
   ]
  },
  {
   "cell_type": "code",
   "execution_count": 83,
   "id": "b26212ac-731d-4c89-97c4-d716876127ac",
   "metadata": {},
   "outputs": [
    {
     "data": {
      "text/html": [
       "<div>\n",
       "<style scoped>\n",
       "    .dataframe tbody tr th:only-of-type {\n",
       "        vertical-align: middle;\n",
       "    }\n",
       "\n",
       "    .dataframe tbody tr th {\n",
       "        vertical-align: top;\n",
       "    }\n",
       "\n",
       "    .dataframe thead th {\n",
       "        text-align: right;\n",
       "    }\n",
       "</style>\n",
       "<table border=\"1\" class=\"dataframe\">\n",
       "  <thead>\n",
       "    <tr style=\"text-align: right;\">\n",
       "      <th></th>\n",
       "      <th>Index</th>\n",
       "      <th>User Id</th>\n",
       "      <th>First Name</th>\n",
       "      <th>Last Name</th>\n",
       "      <th>Gender</th>\n",
       "      <th>Email</th>\n",
       "      <th>Phone</th>\n",
       "      <th>Date of birth</th>\n",
       "      <th>Job Title</th>\n",
       "      <th>Salary</th>\n",
       "    </tr>\n",
       "  </thead>\n",
       "  <tbody>\n",
       "    <tr>\n",
       "      <th>0</th>\n",
       "      <td>1</td>\n",
       "      <td>8717bbf45cCDbEe</td>\n",
       "      <td>Shelia</td>\n",
       "      <td>Mahoney</td>\n",
       "      <td>Male</td>\n",
       "      <td>pwarner@example.org</td>\n",
       "      <td>8.571398e+09</td>\n",
       "      <td>27-01-2014</td>\n",
       "      <td>Probation officer</td>\n",
       "      <td>90000</td>\n",
       "    </tr>\n",
       "    <tr>\n",
       "      <th>1</th>\n",
       "      <td>2</td>\n",
       "      <td>3d5AD30A4cD38ed</td>\n",
       "      <td>Jo</td>\n",
       "      <td>Rivers</td>\n",
       "      <td>Female</td>\n",
       "      <td>fergusonkatherine@example.net</td>\n",
       "      <td>NaN</td>\n",
       "      <td>26-07-1931</td>\n",
       "      <td>Dancer</td>\n",
       "      <td>80000</td>\n",
       "    </tr>\n",
       "    <tr>\n",
       "      <th>2</th>\n",
       "      <td>3</td>\n",
       "      <td>810Ce0F276Badec</td>\n",
       "      <td>Sheryl</td>\n",
       "      <td>Lowery</td>\n",
       "      <td>Female</td>\n",
       "      <td>fhoward@example.org</td>\n",
       "      <td>5.997821e+09</td>\n",
       "      <td>25-11-2013</td>\n",
       "      <td>Copy</td>\n",
       "      <td>50000</td>\n",
       "    </tr>\n",
       "    <tr>\n",
       "      <th>3</th>\n",
       "      <td>4</td>\n",
       "      <td>BF2a889C00f0cE1</td>\n",
       "      <td>Whitney</td>\n",
       "      <td>Hooper</td>\n",
       "      <td>Male</td>\n",
       "      <td>zjohnston@example.com</td>\n",
       "      <td>NaN</td>\n",
       "      <td>17-11-2012</td>\n",
       "      <td>Counselling psychologist</td>\n",
       "      <td>65000</td>\n",
       "    </tr>\n",
       "    <tr>\n",
       "      <th>4</th>\n",
       "      <td>5</td>\n",
       "      <td>9afFEafAe1CBBB9</td>\n",
       "      <td>Lindsey</td>\n",
       "      <td>Rice</td>\n",
       "      <td>Female</td>\n",
       "      <td>elin@example.net</td>\n",
       "      <td>3.904172e+13</td>\n",
       "      <td>15-04-1923</td>\n",
       "      <td>Biomedical engineer</td>\n",
       "      <td>100000</td>\n",
       "    </tr>\n",
       "    <tr>\n",
       "      <th>...</th>\n",
       "      <td>...</td>\n",
       "      <td>...</td>\n",
       "      <td>...</td>\n",
       "      <td>...</td>\n",
       "      <td>...</td>\n",
       "      <td>...</td>\n",
       "      <td>...</td>\n",
       "      <td>...</td>\n",
       "      <td>...</td>\n",
       "      <td>...</td>\n",
       "    </tr>\n",
       "    <tr>\n",
       "      <th>995</th>\n",
       "      <td>996</td>\n",
       "      <td>fedF4c7Fd9e7cFa</td>\n",
       "      <td>Kurt</td>\n",
       "      <td>Bryant</td>\n",
       "      <td>Female</td>\n",
       "      <td>lyonsdaisy@example.net</td>\n",
       "      <td>2.177529e+08</td>\n",
       "      <td>05-01-1959</td>\n",
       "      <td>Personnel officer</td>\n",
       "      <td>90000</td>\n",
       "    </tr>\n",
       "    <tr>\n",
       "      <th>996</th>\n",
       "      <td>997</td>\n",
       "      <td>ECddaFEDdEc4FAB</td>\n",
       "      <td>Donna</td>\n",
       "      <td>Barry</td>\n",
       "      <td>Female</td>\n",
       "      <td>dariusbryan@example.com</td>\n",
       "      <td>1.149711e+13</td>\n",
       "      <td>06-10-2001</td>\n",
       "      <td>Education administrator</td>\n",
       "      <td>50000</td>\n",
       "    </tr>\n",
       "    <tr>\n",
       "      <th>997</th>\n",
       "      <td>998</td>\n",
       "      <td>2adde51d8B8979E</td>\n",
       "      <td>Cathy</td>\n",
       "      <td>Mckinney</td>\n",
       "      <td>Female</td>\n",
       "      <td>georgechan@example.org</td>\n",
       "      <td>1.750774e+15</td>\n",
       "      <td>13-05-1918</td>\n",
       "      <td>Commercial/residential surveyor</td>\n",
       "      <td>60000</td>\n",
       "    </tr>\n",
       "    <tr>\n",
       "      <th>998</th>\n",
       "      <td>999</td>\n",
       "      <td>Fb2FE369D1E171A</td>\n",
       "      <td>Jermaine</td>\n",
       "      <td>Phelps</td>\n",
       "      <td>Male</td>\n",
       "      <td>wanda04@example.net</td>\n",
       "      <td>9.152922e+09</td>\n",
       "      <td>31-08-1971</td>\n",
       "      <td>Ambulance person</td>\n",
       "      <td>100000</td>\n",
       "    </tr>\n",
       "    <tr>\n",
       "      <th>999</th>\n",
       "      <td>1000</td>\n",
       "      <td>8b756f6231DDC6e</td>\n",
       "      <td>Lee</td>\n",
       "      <td>Tran</td>\n",
       "      <td>Female</td>\n",
       "      <td>deannablack@example.org</td>\n",
       "      <td>7.975254e+13</td>\n",
       "      <td>24-01-1947</td>\n",
       "      <td>Nurse, learning disability</td>\n",
       "      <td>90000</td>\n",
       "    </tr>\n",
       "  </tbody>\n",
       "</table>\n",
       "<p>1000 rows × 10 columns</p>\n",
       "</div>"
      ],
      "text/plain": [
       "     Index          User Id First Name Last Name  Gender  \\\n",
       "0        1  8717bbf45cCDbEe     Shelia   Mahoney    Male   \n",
       "1        2  3d5AD30A4cD38ed         Jo    Rivers  Female   \n",
       "2        3  810Ce0F276Badec     Sheryl    Lowery  Female   \n",
       "3        4  BF2a889C00f0cE1    Whitney    Hooper    Male   \n",
       "4        5  9afFEafAe1CBBB9    Lindsey      Rice  Female   \n",
       "..     ...              ...        ...       ...     ...   \n",
       "995    996  fedF4c7Fd9e7cFa       Kurt    Bryant  Female   \n",
       "996    997  ECddaFEDdEc4FAB      Donna     Barry  Female   \n",
       "997    998  2adde51d8B8979E      Cathy  Mckinney  Female   \n",
       "998    999  Fb2FE369D1E171A   Jermaine    Phelps    Male   \n",
       "999   1000  8b756f6231DDC6e        Lee      Tran  Female   \n",
       "\n",
       "                             Email         Phone Date of birth  \\\n",
       "0              pwarner@example.org  8.571398e+09    27-01-2014   \n",
       "1    fergusonkatherine@example.net           NaN    26-07-1931   \n",
       "2              fhoward@example.org  5.997821e+09    25-11-2013   \n",
       "3            zjohnston@example.com           NaN    17-11-2012   \n",
       "4                 elin@example.net  3.904172e+13    15-04-1923   \n",
       "..                             ...           ...           ...   \n",
       "995         lyonsdaisy@example.net  2.177529e+08    05-01-1959   \n",
       "996        dariusbryan@example.com  1.149711e+13    06-10-2001   \n",
       "997         georgechan@example.org  1.750774e+15    13-05-1918   \n",
       "998            wanda04@example.net  9.152922e+09    31-08-1971   \n",
       "999        deannablack@example.org  7.975254e+13    24-01-1947   \n",
       "\n",
       "                           Job Title  Salary  \n",
       "0                  Probation officer   90000  \n",
       "1                             Dancer   80000  \n",
       "2                               Copy   50000  \n",
       "3           Counselling psychologist   65000  \n",
       "4                Biomedical engineer  100000  \n",
       "..                               ...     ...  \n",
       "995                Personnel officer   90000  \n",
       "996          Education administrator   50000  \n",
       "997  Commercial/residential surveyor   60000  \n",
       "998                 Ambulance person  100000  \n",
       "999       Nurse, learning disability   90000  \n",
       "\n",
       "[1000 rows x 10 columns]"
      ]
     },
     "execution_count": 83,
     "metadata": {},
     "output_type": "execute_result"
    }
   ],
   "source": [
    "#7)Clean and transform the 'Phone' column in the sample dataset to remove non-numeric characters and \n",
    "# convert it to a numeric data type. Also display the table attributes and data types of each column\n",
    "\n",
    "# Convert the 'Phone' column to string format\n",
    "df1['Phone'] = df1['Phone'].astype(str)\n",
    "\n",
    "# Remove non-numeric characters\n",
    "df1['Phone'] = df1['Phone'].str.replace(r'\\D', '', regex=True)\n",
    "\n",
    "# Convert back to numeric values, coercing errors to NaN\n",
    "df1['Phone'] = pd.to_numeric(df1['Phone'], errors='coerce')\n",
    "df1\n",
    "\n",
    "\n"
   ]
  },
  {
   "cell_type": "code",
   "execution_count": 74,
   "id": "4543f436-fb15-4e5c-9748-13e968211fe8",
   "metadata": {},
   "outputs": [
    {
     "data": {
      "text/plain": [
       "Index              int64\n",
       "User Id           object\n",
       "First Name        object\n",
       "Last Name         object\n",
       "Gender            object\n",
       "Email             object\n",
       "Phone            float64\n",
       "Date of birth     object\n",
       "Job Title         object\n",
       "Salary             int64\n",
       "dtype: object"
      ]
     },
     "execution_count": 74,
     "metadata": {},
     "output_type": "execute_result"
    }
   ],
   "source": [
    "df1.dtypes"
   ]
  },
  {
   "cell_type": "code",
   "execution_count": null,
   "id": "f9976a1f-d05a-44ed-8907-c10b6ace988f",
   "metadata": {},
   "outputs": [],
   "source": [
    "# 8)Perform the following tasks using people dataset:\n",
    "# a) Read the 'data.csv' file using pandas, skipping the first 50 rows.\n",
    "# b) Only read the columns: 'Last Name', ‘Gender’,’Email’,‘Phone’ and ‘Salary’ from the file.\n",
    "# c) Display the first 10 rows of the filtered dataset.\n",
    "# d) Extract the ‘Salary’' column as a Series and display its last 5 values"
   ]
  },
  {
   "cell_type": "code",
   "execution_count": 84,
   "id": "e2313a43-9155-4a71-a1b4-e6697a4aca36",
   "metadata": {},
   "outputs": [
    {
     "data": {
      "text/html": [
       "<div>\n",
       "<style scoped>\n",
       "    .dataframe tbody tr th:only-of-type {\n",
       "        vertical-align: middle;\n",
       "    }\n",
       "\n",
       "    .dataframe tbody tr th {\n",
       "        vertical-align: top;\n",
       "    }\n",
       "\n",
       "    .dataframe thead th {\n",
       "        text-align: right;\n",
       "    }\n",
       "</style>\n",
       "<table border=\"1\" class=\"dataframe\">\n",
       "  <thead>\n",
       "    <tr style=\"text-align: right;\">\n",
       "      <th></th>\n",
       "      <th>Index</th>\n",
       "      <th>User Id</th>\n",
       "      <th>First Name</th>\n",
       "      <th>Last Name</th>\n",
       "      <th>Gender</th>\n",
       "      <th>Email</th>\n",
       "      <th>Phone</th>\n",
       "      <th>Date of birth</th>\n",
       "      <th>Job Title</th>\n",
       "      <th>Salary</th>\n",
       "    </tr>\n",
       "  </thead>\n",
       "  <tbody>\n",
       "    <tr>\n",
       "      <th>50</th>\n",
       "      <td>51</td>\n",
       "      <td>CccE5DAb6E288e5</td>\n",
       "      <td>Jo</td>\n",
       "      <td>Zavala</td>\n",
       "      <td>Male</td>\n",
       "      <td>pamela64@example.net</td>\n",
       "      <td>1.859449e+15</td>\n",
       "      <td>23-11-1992</td>\n",
       "      <td>Nurse, adult</td>\n",
       "      <td>80000</td>\n",
       "    </tr>\n",
       "    <tr>\n",
       "      <th>51</th>\n",
       "      <td>52</td>\n",
       "      <td>DfBDc3621D4bcec</td>\n",
       "      <td>Joshua</td>\n",
       "      <td>Carey</td>\n",
       "      <td>Female</td>\n",
       "      <td>dianashepherd@example.net</td>\n",
       "      <td>1.274740e+13</td>\n",
       "      <td>07-01-1915</td>\n",
       "      <td>Seismic interpreter</td>\n",
       "      <td>70000</td>\n",
       "    </tr>\n",
       "    <tr>\n",
       "      <th>52</th>\n",
       "      <td>53</td>\n",
       "      <td>f55b0A249f5E44D</td>\n",
       "      <td>Rickey</td>\n",
       "      <td>Hobbs</td>\n",
       "      <td>Female</td>\n",
       "      <td>ingramtiffany@example.org</td>\n",
       "      <td>2.411800e+12</td>\n",
       "      <td>01-07-1910</td>\n",
       "      <td>Barrister</td>\n",
       "      <td>60000</td>\n",
       "    </tr>\n",
       "    <tr>\n",
       "      <th>53</th>\n",
       "      <td>54</td>\n",
       "      <td>Ed71DcfaBFd0beE</td>\n",
       "      <td>Robyn</td>\n",
       "      <td>Reilly</td>\n",
       "      <td>Male</td>\n",
       "      <td>carriecrawford@example.org</td>\n",
       "      <td>2.077978e+13</td>\n",
       "      <td>27-07-1982</td>\n",
       "      <td>Engineer, structural</td>\n",
       "      <td>100000</td>\n",
       "    </tr>\n",
       "    <tr>\n",
       "      <th>54</th>\n",
       "      <td>55</td>\n",
       "      <td>FDaFD0c3f5387EC</td>\n",
       "      <td>Christina</td>\n",
       "      <td>Conrad</td>\n",
       "      <td>Male</td>\n",
       "      <td>fuentesclaudia@example.net</td>\n",
       "      <td>1.599043e+13</td>\n",
       "      <td>06-01-1998</td>\n",
       "      <td>Producer, radio</td>\n",
       "      <td>50000</td>\n",
       "    </tr>\n",
       "    <tr>\n",
       "      <th>...</th>\n",
       "      <td>...</td>\n",
       "      <td>...</td>\n",
       "      <td>...</td>\n",
       "      <td>...</td>\n",
       "      <td>...</td>\n",
       "      <td>...</td>\n",
       "      <td>...</td>\n",
       "      <td>...</td>\n",
       "      <td>...</td>\n",
       "      <td>...</td>\n",
       "    </tr>\n",
       "    <tr>\n",
       "      <th>995</th>\n",
       "      <td>996</td>\n",
       "      <td>fedF4c7Fd9e7cFa</td>\n",
       "      <td>Kurt</td>\n",
       "      <td>Bryant</td>\n",
       "      <td>Female</td>\n",
       "      <td>lyonsdaisy@example.net</td>\n",
       "      <td>2.177529e+08</td>\n",
       "      <td>05-01-1959</td>\n",
       "      <td>Personnel officer</td>\n",
       "      <td>90000</td>\n",
       "    </tr>\n",
       "    <tr>\n",
       "      <th>996</th>\n",
       "      <td>997</td>\n",
       "      <td>ECddaFEDdEc4FAB</td>\n",
       "      <td>Donna</td>\n",
       "      <td>Barry</td>\n",
       "      <td>Female</td>\n",
       "      <td>dariusbryan@example.com</td>\n",
       "      <td>1.149711e+13</td>\n",
       "      <td>06-10-2001</td>\n",
       "      <td>Education administrator</td>\n",
       "      <td>50000</td>\n",
       "    </tr>\n",
       "    <tr>\n",
       "      <th>997</th>\n",
       "      <td>998</td>\n",
       "      <td>2adde51d8B8979E</td>\n",
       "      <td>Cathy</td>\n",
       "      <td>Mckinney</td>\n",
       "      <td>Female</td>\n",
       "      <td>georgechan@example.org</td>\n",
       "      <td>1.750774e+15</td>\n",
       "      <td>13-05-1918</td>\n",
       "      <td>Commercial/residential surveyor</td>\n",
       "      <td>60000</td>\n",
       "    </tr>\n",
       "    <tr>\n",
       "      <th>998</th>\n",
       "      <td>999</td>\n",
       "      <td>Fb2FE369D1E171A</td>\n",
       "      <td>Jermaine</td>\n",
       "      <td>Phelps</td>\n",
       "      <td>Male</td>\n",
       "      <td>wanda04@example.net</td>\n",
       "      <td>9.152922e+09</td>\n",
       "      <td>31-08-1971</td>\n",
       "      <td>Ambulance person</td>\n",
       "      <td>100000</td>\n",
       "    </tr>\n",
       "    <tr>\n",
       "      <th>999</th>\n",
       "      <td>1000</td>\n",
       "      <td>8b756f6231DDC6e</td>\n",
       "      <td>Lee</td>\n",
       "      <td>Tran</td>\n",
       "      <td>Female</td>\n",
       "      <td>deannablack@example.org</td>\n",
       "      <td>7.975254e+13</td>\n",
       "      <td>24-01-1947</td>\n",
       "      <td>Nurse, learning disability</td>\n",
       "      <td>90000</td>\n",
       "    </tr>\n",
       "  </tbody>\n",
       "</table>\n",
       "<p>950 rows × 10 columns</p>\n",
       "</div>"
      ],
      "text/plain": [
       "     Index          User Id First Name Last Name  Gender  \\\n",
       "50      51  CccE5DAb6E288e5         Jo    Zavala    Male   \n",
       "51      52  DfBDc3621D4bcec     Joshua     Carey  Female   \n",
       "52      53  f55b0A249f5E44D     Rickey     Hobbs  Female   \n",
       "53      54  Ed71DcfaBFd0beE      Robyn    Reilly    Male   \n",
       "54      55  FDaFD0c3f5387EC  Christina    Conrad    Male   \n",
       "..     ...              ...        ...       ...     ...   \n",
       "995    996  fedF4c7Fd9e7cFa       Kurt    Bryant  Female   \n",
       "996    997  ECddaFEDdEc4FAB      Donna     Barry  Female   \n",
       "997    998  2adde51d8B8979E      Cathy  Mckinney  Female   \n",
       "998    999  Fb2FE369D1E171A   Jermaine    Phelps    Male   \n",
       "999   1000  8b756f6231DDC6e        Lee      Tran  Female   \n",
       "\n",
       "                          Email         Phone Date of birth  \\\n",
       "50         pamela64@example.net  1.859449e+15    23-11-1992   \n",
       "51    dianashepherd@example.net  1.274740e+13    07-01-1915   \n",
       "52    ingramtiffany@example.org  2.411800e+12    01-07-1910   \n",
       "53   carriecrawford@example.org  2.077978e+13    27-07-1982   \n",
       "54   fuentesclaudia@example.net  1.599043e+13    06-01-1998   \n",
       "..                          ...           ...           ...   \n",
       "995      lyonsdaisy@example.net  2.177529e+08    05-01-1959   \n",
       "996     dariusbryan@example.com  1.149711e+13    06-10-2001   \n",
       "997      georgechan@example.org  1.750774e+15    13-05-1918   \n",
       "998         wanda04@example.net  9.152922e+09    31-08-1971   \n",
       "999     deannablack@example.org  7.975254e+13    24-01-1947   \n",
       "\n",
       "                           Job Title  Salary  \n",
       "50                      Nurse, adult   80000  \n",
       "51               Seismic interpreter   70000  \n",
       "52                         Barrister   60000  \n",
       "53              Engineer, structural  100000  \n",
       "54                   Producer, radio   50000  \n",
       "..                               ...     ...  \n",
       "995                Personnel officer   90000  \n",
       "996          Education administrator   50000  \n",
       "997  Commercial/residential surveyor   60000  \n",
       "998                 Ambulance person  100000  \n",
       "999       Nurse, learning disability   90000  \n",
       "\n",
       "[950 rows x 10 columns]"
      ]
     },
     "execution_count": 84,
     "metadata": {},
     "output_type": "execute_result"
    }
   ],
   "source": [
    "# a) Read the 'data.csv' file using pandas, skipping the first 50 rows.\n",
    "skip_50=df1.iloc[50:1000]\n",
    "skip_50"
   ]
  },
  {
   "cell_type": "code",
   "execution_count": 88,
   "id": "3f3734a2-622f-4db0-8581-6d77c62972c5",
   "metadata": {},
   "outputs": [
    {
     "data": {
      "text/html": [
       "<div>\n",
       "<style scoped>\n",
       "    .dataframe tbody tr th:only-of-type {\n",
       "        vertical-align: middle;\n",
       "    }\n",
       "\n",
       "    .dataframe tbody tr th {\n",
       "        vertical-align: top;\n",
       "    }\n",
       "\n",
       "    .dataframe thead th {\n",
       "        text-align: right;\n",
       "    }\n",
       "</style>\n",
       "<table border=\"1\" class=\"dataframe\">\n",
       "  <thead>\n",
       "    <tr style=\"text-align: right;\">\n",
       "      <th></th>\n",
       "      <th>Last Name</th>\n",
       "      <th>Gender</th>\n",
       "      <th>Email</th>\n",
       "      <th>Phone</th>\n",
       "      <th>Salary</th>\n",
       "    </tr>\n",
       "  </thead>\n",
       "  <tbody>\n",
       "    <tr>\n",
       "      <th>0</th>\n",
       "      <td>Mahoney</td>\n",
       "      <td>Male</td>\n",
       "      <td>pwarner@example.org</td>\n",
       "      <td>8.571398e+09</td>\n",
       "      <td>90000</td>\n",
       "    </tr>\n",
       "    <tr>\n",
       "      <th>1</th>\n",
       "      <td>Rivers</td>\n",
       "      <td>Female</td>\n",
       "      <td>fergusonkatherine@example.net</td>\n",
       "      <td>NaN</td>\n",
       "      <td>80000</td>\n",
       "    </tr>\n",
       "    <tr>\n",
       "      <th>3</th>\n",
       "      <td>Hooper</td>\n",
       "      <td>Male</td>\n",
       "      <td>zjohnston@example.com</td>\n",
       "      <td>NaN</td>\n",
       "      <td>65000</td>\n",
       "    </tr>\n",
       "    <tr>\n",
       "      <th>4</th>\n",
       "      <td>Rice</td>\n",
       "      <td>Female</td>\n",
       "      <td>elin@example.net</td>\n",
       "      <td>3.904172e+13</td>\n",
       "      <td>100000</td>\n",
       "    </tr>\n",
       "    <tr>\n",
       "      <th>6</th>\n",
       "      <td>Hoffman</td>\n",
       "      <td>Male</td>\n",
       "      <td>jeffharvey@example.com</td>\n",
       "      <td>9.365575e+12</td>\n",
       "      <td>60000</td>\n",
       "    </tr>\n",
       "    <tr>\n",
       "      <th>...</th>\n",
       "      <td>...</td>\n",
       "      <td>...</td>\n",
       "      <td>...</td>\n",
       "      <td>...</td>\n",
       "      <td>...</td>\n",
       "    </tr>\n",
       "    <tr>\n",
       "      <th>995</th>\n",
       "      <td>Bryant</td>\n",
       "      <td>Female</td>\n",
       "      <td>lyonsdaisy@example.net</td>\n",
       "      <td>2.177529e+08</td>\n",
       "      <td>90000</td>\n",
       "    </tr>\n",
       "    <tr>\n",
       "      <th>996</th>\n",
       "      <td>Barry</td>\n",
       "      <td>Female</td>\n",
       "      <td>dariusbryan@example.com</td>\n",
       "      <td>1.149711e+13</td>\n",
       "      <td>50000</td>\n",
       "    </tr>\n",
       "    <tr>\n",
       "      <th>997</th>\n",
       "      <td>Mckinney</td>\n",
       "      <td>Female</td>\n",
       "      <td>georgechan@example.org</td>\n",
       "      <td>1.750774e+15</td>\n",
       "      <td>60000</td>\n",
       "    </tr>\n",
       "    <tr>\n",
       "      <th>998</th>\n",
       "      <td>Phelps</td>\n",
       "      <td>Male</td>\n",
       "      <td>wanda04@example.net</td>\n",
       "      <td>9.152922e+09</td>\n",
       "      <td>100000</td>\n",
       "    </tr>\n",
       "    <tr>\n",
       "      <th>999</th>\n",
       "      <td>Tran</td>\n",
       "      <td>Female</td>\n",
       "      <td>deannablack@example.org</td>\n",
       "      <td>7.975254e+13</td>\n",
       "      <td>90000</td>\n",
       "    </tr>\n",
       "  </tbody>\n",
       "</table>\n",
       "<p>997 rows × 5 columns</p>\n",
       "</div>"
      ],
      "text/plain": [
       "    Last Name  Gender                          Email         Phone  Salary\n",
       "0     Mahoney    Male            pwarner@example.org  8.571398e+09   90000\n",
       "1      Rivers  Female  fergusonkatherine@example.net           NaN   80000\n",
       "3      Hooper    Male          zjohnston@example.com           NaN   65000\n",
       "4        Rice  Female               elin@example.net  3.904172e+13  100000\n",
       "6     Hoffman    Male         jeffharvey@example.com  9.365575e+12   60000\n",
       "..        ...     ...                            ...           ...     ...\n",
       "995    Bryant  Female         lyonsdaisy@example.net  2.177529e+08   90000\n",
       "996     Barry  Female        dariusbryan@example.com  1.149711e+13   50000\n",
       "997  Mckinney  Female         georgechan@example.org  1.750774e+15   60000\n",
       "998    Phelps    Male            wanda04@example.net  9.152922e+09  100000\n",
       "999      Tran  Female        deannablack@example.org  7.975254e+13   90000\n",
       "\n",
       "[997 rows x 5 columns]"
      ]
     },
     "execution_count": 88,
     "metadata": {},
     "output_type": "execute_result"
    }
   ],
   "source": [
    "# b) Only read the columns: 'Last Name', ‘Gender’,’Email’,‘Phone’ and ‘Salary’ from the file.\n",
    "df1[['Last Name','Gender','Email','Phone' , 'Salary']]"
   ]
  },
  {
   "cell_type": "code",
   "execution_count": 89,
   "id": "44ab916b-3454-4c56-9df7-f3f87d0abd01",
   "metadata": {},
   "outputs": [
    {
     "data": {
      "text/html": [
       "<div>\n",
       "<style scoped>\n",
       "    .dataframe tbody tr th:only-of-type {\n",
       "        vertical-align: middle;\n",
       "    }\n",
       "\n",
       "    .dataframe tbody tr th {\n",
       "        vertical-align: top;\n",
       "    }\n",
       "\n",
       "    .dataframe thead th {\n",
       "        text-align: right;\n",
       "    }\n",
       "</style>\n",
       "<table border=\"1\" class=\"dataframe\">\n",
       "  <thead>\n",
       "    <tr style=\"text-align: right;\">\n",
       "      <th></th>\n",
       "      <th>Index</th>\n",
       "      <th>User Id</th>\n",
       "      <th>First Name</th>\n",
       "      <th>Last Name</th>\n",
       "      <th>Gender</th>\n",
       "      <th>Email</th>\n",
       "      <th>Phone</th>\n",
       "      <th>Date of birth</th>\n",
       "      <th>Job Title</th>\n",
       "      <th>Salary</th>\n",
       "    </tr>\n",
       "  </thead>\n",
       "  <tbody>\n",
       "    <tr>\n",
       "      <th>0</th>\n",
       "      <td>1</td>\n",
       "      <td>8717bbf45cCDbEe</td>\n",
       "      <td>Shelia</td>\n",
       "      <td>Mahoney</td>\n",
       "      <td>Male</td>\n",
       "      <td>pwarner@example.org</td>\n",
       "      <td>8.571398e+09</td>\n",
       "      <td>27-01-2014</td>\n",
       "      <td>Probation officer</td>\n",
       "      <td>90000</td>\n",
       "    </tr>\n",
       "    <tr>\n",
       "      <th>1</th>\n",
       "      <td>2</td>\n",
       "      <td>3d5AD30A4cD38ed</td>\n",
       "      <td>Jo</td>\n",
       "      <td>Rivers</td>\n",
       "      <td>Female</td>\n",
       "      <td>fergusonkatherine@example.net</td>\n",
       "      <td>NaN</td>\n",
       "      <td>26-07-1931</td>\n",
       "      <td>Dancer</td>\n",
       "      <td>80000</td>\n",
       "    </tr>\n",
       "    <tr>\n",
       "      <th>3</th>\n",
       "      <td>4</td>\n",
       "      <td>BF2a889C00f0cE1</td>\n",
       "      <td>Whitney</td>\n",
       "      <td>Hooper</td>\n",
       "      <td>Male</td>\n",
       "      <td>zjohnston@example.com</td>\n",
       "      <td>NaN</td>\n",
       "      <td>17-11-2012</td>\n",
       "      <td>Counselling psychologist</td>\n",
       "      <td>65000</td>\n",
       "    </tr>\n",
       "    <tr>\n",
       "      <th>4</th>\n",
       "      <td>5</td>\n",
       "      <td>9afFEafAe1CBBB9</td>\n",
       "      <td>Lindsey</td>\n",
       "      <td>Rice</td>\n",
       "      <td>Female</td>\n",
       "      <td>elin@example.net</td>\n",
       "      <td>3.904172e+13</td>\n",
       "      <td>15-04-1923</td>\n",
       "      <td>Biomedical engineer</td>\n",
       "      <td>100000</td>\n",
       "    </tr>\n",
       "    <tr>\n",
       "      <th>6</th>\n",
       "      <td>7</td>\n",
       "      <td>efeb05c7Cc94EA3</td>\n",
       "      <td>Ernest</td>\n",
       "      <td>Hoffman</td>\n",
       "      <td>Male</td>\n",
       "      <td>jeffharvey@example.com</td>\n",
       "      <td>9.365575e+12</td>\n",
       "      <td>22-12-1984</td>\n",
       "      <td>Health visitor</td>\n",
       "      <td>60000</td>\n",
       "    </tr>\n",
       "    <tr>\n",
       "      <th>7</th>\n",
       "      <td>8</td>\n",
       "      <td>fb1BF3FED57E9d7</td>\n",
       "      <td>Doris</td>\n",
       "      <td>Andersen</td>\n",
       "      <td>Male</td>\n",
       "      <td>alicia33@example.org</td>\n",
       "      <td>4.709523e+09</td>\n",
       "      <td>02-12-2016</td>\n",
       "      <td>Air broker</td>\n",
       "      <td>65000</td>\n",
       "    </tr>\n",
       "    <tr>\n",
       "      <th>8</th>\n",
       "      <td>9</td>\n",
       "      <td>421fAB9a3b98F30</td>\n",
       "      <td>Cheryl</td>\n",
       "      <td>Mays</td>\n",
       "      <td>Male</td>\n",
       "      <td>jake50@example.com</td>\n",
       "      <td>1.382048e+08</td>\n",
       "      <td>16-12-2012</td>\n",
       "      <td>Designer, multimedia</td>\n",
       "      <td>50000</td>\n",
       "    </tr>\n",
       "    <tr>\n",
       "      <th>9</th>\n",
       "      <td>10</td>\n",
       "      <td>4A42Fe10dB717CB</td>\n",
       "      <td>Harry</td>\n",
       "      <td>Mitchell</td>\n",
       "      <td>Male</td>\n",
       "      <td>lanechristina@example.net</td>\n",
       "      <td>5.609035e+13</td>\n",
       "      <td>29-06-1953</td>\n",
       "      <td>Insurance account manager</td>\n",
       "      <td>50000</td>\n",
       "    </tr>\n",
       "    <tr>\n",
       "      <th>10</th>\n",
       "      <td>11</td>\n",
       "      <td>44FAA9C3CE8DB2B</td>\n",
       "      <td>Casey</td>\n",
       "      <td>Ayala</td>\n",
       "      <td>Male</td>\n",
       "      <td>ncantu@example.com</td>\n",
       "      <td>8.629884e+09</td>\n",
       "      <td>17-04-2020</td>\n",
       "      <td>Scientist, water quality</td>\n",
       "      <td>60000</td>\n",
       "    </tr>\n",
       "    <tr>\n",
       "      <th>11</th>\n",
       "      <td>12</td>\n",
       "      <td>86cCc6417942b4B</td>\n",
       "      <td>Sara</td>\n",
       "      <td>Huff</td>\n",
       "      <td>Male</td>\n",
       "      <td>kristy41@example.net</td>\n",
       "      <td>1.041859e+13</td>\n",
       "      <td>21-05-1964</td>\n",
       "      <td>Metallurgist</td>\n",
       "      <td>100000</td>\n",
       "    </tr>\n",
       "  </tbody>\n",
       "</table>\n",
       "</div>"
      ],
      "text/plain": [
       "    Index          User Id First Name Last Name  Gender  \\\n",
       "0       1  8717bbf45cCDbEe     Shelia   Mahoney    Male   \n",
       "1       2  3d5AD30A4cD38ed         Jo    Rivers  Female   \n",
       "3       4  BF2a889C00f0cE1    Whitney    Hooper    Male   \n",
       "4       5  9afFEafAe1CBBB9    Lindsey      Rice  Female   \n",
       "6       7  efeb05c7Cc94EA3     Ernest   Hoffman    Male   \n",
       "7       8  fb1BF3FED57E9d7      Doris  Andersen    Male   \n",
       "8       9  421fAB9a3b98F30     Cheryl      Mays    Male   \n",
       "9      10  4A42Fe10dB717CB      Harry  Mitchell    Male   \n",
       "10     11  44FAA9C3CE8DB2B      Casey     Ayala    Male   \n",
       "11     12  86cCc6417942b4B       Sara      Huff    Male   \n",
       "\n",
       "                            Email         Phone Date of birth  \\\n",
       "0             pwarner@example.org  8.571398e+09    27-01-2014   \n",
       "1   fergusonkatherine@example.net           NaN    26-07-1931   \n",
       "3           zjohnston@example.com           NaN    17-11-2012   \n",
       "4                elin@example.net  3.904172e+13    15-04-1923   \n",
       "6          jeffharvey@example.com  9.365575e+12    22-12-1984   \n",
       "7            alicia33@example.org  4.709523e+09    02-12-2016   \n",
       "8              jake50@example.com  1.382048e+08    16-12-2012   \n",
       "9       lanechristina@example.net  5.609035e+13    29-06-1953   \n",
       "10             ncantu@example.com  8.629884e+09    17-04-2020   \n",
       "11           kristy41@example.net  1.041859e+13    21-05-1964   \n",
       "\n",
       "                    Job Title  Salary  \n",
       "0           Probation officer   90000  \n",
       "1                      Dancer   80000  \n",
       "3    Counselling psychologist   65000  \n",
       "4         Biomedical engineer  100000  \n",
       "6              Health visitor   60000  \n",
       "7                  Air broker   65000  \n",
       "8        Designer, multimedia   50000  \n",
       "9   Insurance account manager   50000  \n",
       "10   Scientist, water quality   60000  \n",
       "11               Metallurgist  100000  "
      ]
     },
     "execution_count": 89,
     "metadata": {},
     "output_type": "execute_result"
    }
   ],
   "source": [
    "# c) Display the first 10 rows of the filtered dataset.\n",
    "df1.head(10)\n"
   ]
  },
  {
   "cell_type": "code",
   "execution_count": 92,
   "id": "c766ac42-133f-4a05-825f-dc94470c642b",
   "metadata": {},
   "outputs": [
    {
     "data": {
      "text/plain": [
       "995     90000\n",
       "996     50000\n",
       "997     60000\n",
       "998    100000\n",
       "999     90000\n",
       "Name: Salary, dtype: int64"
      ]
     },
     "execution_count": 92,
     "metadata": {},
     "output_type": "execute_result"
    }
   ],
   "source": [
    "# d) Extract the ‘Salary’ column as a Series and display its last 5 values\n",
    "salary_series = df1['Salary']\n",
    "\n",
    "salary_series.tail(5)"
   ]
  },
  {
   "cell_type": "code",
   "execution_count": 104,
   "id": "b24f77aa-2aea-45a0-9037-69285f83ab70",
   "metadata": {},
   "outputs": [
    {
     "data": {
      "text/html": [
       "<div>\n",
       "<style scoped>\n",
       "    .dataframe tbody tr th:only-of-type {\n",
       "        vertical-align: middle;\n",
       "    }\n",
       "\n",
       "    .dataframe tbody tr th {\n",
       "        vertical-align: top;\n",
       "    }\n",
       "\n",
       "    .dataframe thead th {\n",
       "        text-align: right;\n",
       "    }\n",
       "</style>\n",
       "<table border=\"1\" class=\"dataframe\">\n",
       "  <thead>\n",
       "    <tr style=\"text-align: right;\">\n",
       "      <th></th>\n",
       "      <th>Index</th>\n",
       "      <th>User Id</th>\n",
       "      <th>First Name</th>\n",
       "      <th>Last Name</th>\n",
       "      <th>Gender</th>\n",
       "      <th>Email</th>\n",
       "      <th>Phone</th>\n",
       "      <th>Date of birth</th>\n",
       "      <th>Job Title</th>\n",
       "      <th>Salary</th>\n",
       "    </tr>\n",
       "  </thead>\n",
       "  <tbody>\n",
       "    <tr>\n",
       "      <th>45</th>\n",
       "      <td>46</td>\n",
       "      <td>99A502C175C4EBd</td>\n",
       "      <td>Olivia</td>\n",
       "      <td>Duke</td>\n",
       "      <td>Female</td>\n",
       "      <td>diana26@example.net</td>\n",
       "      <td>1.366476e+15</td>\n",
       "      <td>13-10-1934</td>\n",
       "      <td>Dentist</td>\n",
       "      <td>60000</td>\n",
       "    </tr>\n",
       "    <tr>\n",
       "      <th>210</th>\n",
       "      <td>211</td>\n",
       "      <td>DF17975CC0a0373</td>\n",
       "      <td>Katrina</td>\n",
       "      <td>Duke</td>\n",
       "      <td>Female</td>\n",
       "      <td>robin78@example.com</td>\n",
       "      <td>7.404340e+09</td>\n",
       "      <td>21-09-1935</td>\n",
       "      <td>Producer, radio</td>\n",
       "      <td>50000</td>\n",
       "    </tr>\n",
       "    <tr>\n",
       "      <th>457</th>\n",
       "      <td>458</td>\n",
       "      <td>dcE1B7DE83c1076</td>\n",
       "      <td>Traci</td>\n",
       "      <td>Duke</td>\n",
       "      <td>Female</td>\n",
       "      <td>perryhoffman@example.org</td>\n",
       "      <td>1.903596e+13</td>\n",
       "      <td>11-02-1997</td>\n",
       "      <td>Herbalist</td>\n",
       "      <td>50000</td>\n",
       "    </tr>\n",
       "    <tr>\n",
       "      <th>729</th>\n",
       "      <td>730</td>\n",
       "      <td>c9b482D7aa3e682</td>\n",
       "      <td>Lonnie</td>\n",
       "      <td>Duke</td>\n",
       "      <td>Female</td>\n",
       "      <td>kevinkramer@example.net</td>\n",
       "      <td>9.826926e+09</td>\n",
       "      <td>12-05-2015</td>\n",
       "      <td>Nurse, adult</td>\n",
       "      <td>70000</td>\n",
       "    </tr>\n",
       "  </tbody>\n",
       "</table>\n",
       "</div>"
      ],
      "text/plain": [
       "     Index          User Id First Name Last Name  Gender  \\\n",
       "45      46  99A502C175C4EBd     Olivia      Duke  Female   \n",
       "210    211  DF17975CC0a0373    Katrina      Duke  Female   \n",
       "457    458  dcE1B7DE83c1076      Traci      Duke  Female   \n",
       "729    730  c9b482D7aa3e682     Lonnie      Duke  Female   \n",
       "\n",
       "                        Email         Phone Date of birth        Job Title  \\\n",
       "45        diana26@example.net  1.366476e+15    13-10-1934          Dentist   \n",
       "210       robin78@example.com  7.404340e+09    21-09-1935  Producer, radio   \n",
       "457  perryhoffman@example.org  1.903596e+13    11-02-1997        Herbalist   \n",
       "729   kevinkramer@example.net  9.826926e+09    12-05-2015     Nurse, adult   \n",
       "\n",
       "     Salary  \n",
       "45    60000  \n",
       "210   50000  \n",
       "457   50000  \n",
       "729   70000  "
      ]
     },
     "execution_count": 104,
     "metadata": {},
     "output_type": "execute_result"
    }
   ],
   "source": [
    "#9)Filter and select rows from the People_Dataset, where the “Last Name' column contains the name 'Duke',  \n",
    "# 'Gender' column contains the word Female and ‘Salary’ should be less than 85000\n",
    "\n",
    "#the “Last Name' column contains the name 'Duke'\n",
    "df1[(df1['Last Name'].str.contains('Duke')) & (df1['Gender'] == 'Female') & (df1['Salary'] < 85000)]\n"
   ]
  },
  {
   "cell_type": "code",
   "execution_count": 111,
   "id": "dc0b697d-ae75-4e17-8310-e66bc08e3a5b",
   "metadata": {},
   "outputs": [
    {
     "data": {
      "text/html": [
       "<div>\n",
       "<style scoped>\n",
       "    .dataframe tbody tr th:only-of-type {\n",
       "        vertical-align: middle;\n",
       "    }\n",
       "\n",
       "    .dataframe tbody tr th {\n",
       "        vertical-align: top;\n",
       "    }\n",
       "\n",
       "    .dataframe thead th {\n",
       "        text-align: right;\n",
       "    }\n",
       "</style>\n",
       "<table border=\"1\" class=\"dataframe\">\n",
       "  <thead>\n",
       "    <tr style=\"text-align: right;\">\n",
       "      <th></th>\n",
       "      <th>0</th>\n",
       "      <th>1</th>\n",
       "      <th>2</th>\n",
       "      <th>3</th>\n",
       "      <th>4</th>\n",
       "    </tr>\n",
       "  </thead>\n",
       "  <tbody>\n",
       "    <tr>\n",
       "      <th>0</th>\n",
       "      <td>4</td>\n",
       "      <td>5</td>\n",
       "      <td>3</td>\n",
       "      <td>4</td>\n",
       "      <td>2</td>\n",
       "    </tr>\n",
       "    <tr>\n",
       "      <th>1</th>\n",
       "      <td>1</td>\n",
       "      <td>5</td>\n",
       "      <td>4</td>\n",
       "      <td>1</td>\n",
       "      <td>4</td>\n",
       "    </tr>\n",
       "    <tr>\n",
       "      <th>2</th>\n",
       "      <td>1</td>\n",
       "      <td>3</td>\n",
       "      <td>2</td>\n",
       "      <td>3</td>\n",
       "      <td>5</td>\n",
       "    </tr>\n",
       "    <tr>\n",
       "      <th>3</th>\n",
       "      <td>5</td>\n",
       "      <td>5</td>\n",
       "      <td>2</td>\n",
       "      <td>3</td>\n",
       "      <td>5</td>\n",
       "    </tr>\n",
       "    <tr>\n",
       "      <th>4</th>\n",
       "      <td>5</td>\n",
       "      <td>5</td>\n",
       "      <td>2</td>\n",
       "      <td>2</td>\n",
       "      <td>5</td>\n",
       "    </tr>\n",
       "    <tr>\n",
       "      <th>5</th>\n",
       "      <td>1</td>\n",
       "      <td>1</td>\n",
       "      <td>3</td>\n",
       "      <td>5</td>\n",
       "      <td>2</td>\n",
       "    </tr>\n",
       "    <tr>\n",
       "      <th>6</th>\n",
       "      <td>5</td>\n",
       "      <td>3</td>\n",
       "      <td>3</td>\n",
       "      <td>4</td>\n",
       "      <td>5</td>\n",
       "    </tr>\n",
       "  </tbody>\n",
       "</table>\n",
       "</div>"
      ],
      "text/plain": [
       "   0  1  2  3  4\n",
       "0  4  5  3  4  2\n",
       "1  1  5  4  1  4\n",
       "2  1  3  2  3  5\n",
       "3  5  5  2  3  5\n",
       "4  5  5  2  2  5\n",
       "5  1  1  3  5  2\n",
       "6  5  3  3  4  5"
      ]
     },
     "execution_count": 111,
     "metadata": {},
     "output_type": "execute_result"
    }
   ],
   "source": [
    "# 10)  Create a 7*5 Dataframe in Pandas using a series generated from 35 random integers between 1 to 6?\n",
    "df2=np.random.randint(1,6,(7,5))\n",
    "df2\n",
    "data_frame=pd.DataFrame(df2)\n",
    "data_frame"
   ]
  },
  {
   "cell_type": "code",
   "execution_count": null,
   "id": "192b0b0f-78b9-40f8-b2af-f9f834110d5c",
   "metadata": {},
   "outputs": [],
   "source": [
    "# 11)Practice Questions\n",
    "# Create two different Series, each of length 50, with the following criteria:\n",
    "# a) The first Series should contain random numbers ranging from 10 to 50.\n",
    "# b) The second Series should contain random numbers ranging from 100 to 1000.\n",
    "# c) Create a DataFrame by joining these Series by column, and, change the names of the columns to 'col1', 'col2', etc"
   ]
  },
  {
   "cell_type": "code",
   "execution_count": 153,
   "id": "2a11a2bf-a0c5-4548-9ec4-bde338955673",
   "metadata": {},
   "outputs": [
    {
     "data": {
      "text/html": [
       "<div>\n",
       "<style scoped>\n",
       "    .dataframe tbody tr th:only-of-type {\n",
       "        vertical-align: middle;\n",
       "    }\n",
       "\n",
       "    .dataframe tbody tr th {\n",
       "        vertical-align: top;\n",
       "    }\n",
       "\n",
       "    .dataframe thead th {\n",
       "        text-align: right;\n",
       "    }\n",
       "</style>\n",
       "<table border=\"1\" class=\"dataframe\">\n",
       "  <thead>\n",
       "    <tr style=\"text-align: right;\">\n",
       "      <th></th>\n",
       "      <th>col1</th>\n",
       "      <th>col2</th>\n",
       "    </tr>\n",
       "  </thead>\n",
       "  <tbody>\n",
       "    <tr>\n",
       "      <th>0</th>\n",
       "      <td>24</td>\n",
       "      <td>178</td>\n",
       "    </tr>\n",
       "    <tr>\n",
       "      <th>1</th>\n",
       "      <td>15</td>\n",
       "      <td>980</td>\n",
       "    </tr>\n",
       "    <tr>\n",
       "      <th>2</th>\n",
       "      <td>30</td>\n",
       "      <td>435</td>\n",
       "    </tr>\n",
       "    <tr>\n",
       "      <th>3</th>\n",
       "      <td>12</td>\n",
       "      <td>351</td>\n",
       "    </tr>\n",
       "    <tr>\n",
       "      <th>4</th>\n",
       "      <td>46</td>\n",
       "      <td>679</td>\n",
       "    </tr>\n",
       "    <tr>\n",
       "      <th>5</th>\n",
       "      <td>37</td>\n",
       "      <td>548</td>\n",
       "    </tr>\n",
       "    <tr>\n",
       "      <th>6</th>\n",
       "      <td>30</td>\n",
       "      <td>992</td>\n",
       "    </tr>\n",
       "    <tr>\n",
       "      <th>7</th>\n",
       "      <td>48</td>\n",
       "      <td>965</td>\n",
       "    </tr>\n",
       "    <tr>\n",
       "      <th>8</th>\n",
       "      <td>24</td>\n",
       "      <td>225</td>\n",
       "    </tr>\n",
       "    <tr>\n",
       "      <th>9</th>\n",
       "      <td>46</td>\n",
       "      <td>926</td>\n",
       "    </tr>\n",
       "    <tr>\n",
       "      <th>10</th>\n",
       "      <td>29</td>\n",
       "      <td>154</td>\n",
       "    </tr>\n",
       "    <tr>\n",
       "      <th>11</th>\n",
       "      <td>43</td>\n",
       "      <td>647</td>\n",
       "    </tr>\n",
       "    <tr>\n",
       "      <th>12</th>\n",
       "      <td>27</td>\n",
       "      <td>420</td>\n",
       "    </tr>\n",
       "    <tr>\n",
       "      <th>13</th>\n",
       "      <td>14</td>\n",
       "      <td>151</td>\n",
       "    </tr>\n",
       "    <tr>\n",
       "      <th>14</th>\n",
       "      <td>28</td>\n",
       "      <td>856</td>\n",
       "    </tr>\n",
       "    <tr>\n",
       "      <th>15</th>\n",
       "      <td>44</td>\n",
       "      <td>723</td>\n",
       "    </tr>\n",
       "    <tr>\n",
       "      <th>16</th>\n",
       "      <td>29</td>\n",
       "      <td>115</td>\n",
       "    </tr>\n",
       "    <tr>\n",
       "      <th>17</th>\n",
       "      <td>19</td>\n",
       "      <td>922</td>\n",
       "    </tr>\n",
       "    <tr>\n",
       "      <th>18</th>\n",
       "      <td>25</td>\n",
       "      <td>738</td>\n",
       "    </tr>\n",
       "    <tr>\n",
       "      <th>19</th>\n",
       "      <td>49</td>\n",
       "      <td>784</td>\n",
       "    </tr>\n",
       "    <tr>\n",
       "      <th>20</th>\n",
       "      <td>14</td>\n",
       "      <td>631</td>\n",
       "    </tr>\n",
       "    <tr>\n",
       "      <th>21</th>\n",
       "      <td>47</td>\n",
       "      <td>362</td>\n",
       "    </tr>\n",
       "    <tr>\n",
       "      <th>22</th>\n",
       "      <td>13</td>\n",
       "      <td>350</td>\n",
       "    </tr>\n",
       "    <tr>\n",
       "      <th>23</th>\n",
       "      <td>28</td>\n",
       "      <td>746</td>\n",
       "    </tr>\n",
       "    <tr>\n",
       "      <th>24</th>\n",
       "      <td>29</td>\n",
       "      <td>923</td>\n",
       "    </tr>\n",
       "    <tr>\n",
       "      <th>25</th>\n",
       "      <td>35</td>\n",
       "      <td>836</td>\n",
       "    </tr>\n",
       "    <tr>\n",
       "      <th>26</th>\n",
       "      <td>32</td>\n",
       "      <td>920</td>\n",
       "    </tr>\n",
       "    <tr>\n",
       "      <th>27</th>\n",
       "      <td>43</td>\n",
       "      <td>834</td>\n",
       "    </tr>\n",
       "    <tr>\n",
       "      <th>28</th>\n",
       "      <td>32</td>\n",
       "      <td>881</td>\n",
       "    </tr>\n",
       "    <tr>\n",
       "      <th>29</th>\n",
       "      <td>29</td>\n",
       "      <td>117</td>\n",
       "    </tr>\n",
       "    <tr>\n",
       "      <th>30</th>\n",
       "      <td>39</td>\n",
       "      <td>612</td>\n",
       "    </tr>\n",
       "    <tr>\n",
       "      <th>31</th>\n",
       "      <td>12</td>\n",
       "      <td>851</td>\n",
       "    </tr>\n",
       "    <tr>\n",
       "      <th>32</th>\n",
       "      <td>36</td>\n",
       "      <td>805</td>\n",
       "    </tr>\n",
       "    <tr>\n",
       "      <th>33</th>\n",
       "      <td>12</td>\n",
       "      <td>778</td>\n",
       "    </tr>\n",
       "    <tr>\n",
       "      <th>34</th>\n",
       "      <td>47</td>\n",
       "      <td>808</td>\n",
       "    </tr>\n",
       "    <tr>\n",
       "      <th>35</th>\n",
       "      <td>10</td>\n",
       "      <td>962</td>\n",
       "    </tr>\n",
       "    <tr>\n",
       "      <th>36</th>\n",
       "      <td>32</td>\n",
       "      <td>397</td>\n",
       "    </tr>\n",
       "    <tr>\n",
       "      <th>37</th>\n",
       "      <td>13</td>\n",
       "      <td>420</td>\n",
       "    </tr>\n",
       "    <tr>\n",
       "      <th>38</th>\n",
       "      <td>23</td>\n",
       "      <td>490</td>\n",
       "    </tr>\n",
       "    <tr>\n",
       "      <th>39</th>\n",
       "      <td>31</td>\n",
       "      <td>676</td>\n",
       "    </tr>\n",
       "    <tr>\n",
       "      <th>40</th>\n",
       "      <td>40</td>\n",
       "      <td>609</td>\n",
       "    </tr>\n",
       "    <tr>\n",
       "      <th>41</th>\n",
       "      <td>49</td>\n",
       "      <td>700</td>\n",
       "    </tr>\n",
       "    <tr>\n",
       "      <th>42</th>\n",
       "      <td>19</td>\n",
       "      <td>467</td>\n",
       "    </tr>\n",
       "    <tr>\n",
       "      <th>43</th>\n",
       "      <td>35</td>\n",
       "      <td>417</td>\n",
       "    </tr>\n",
       "    <tr>\n",
       "      <th>44</th>\n",
       "      <td>45</td>\n",
       "      <td>123</td>\n",
       "    </tr>\n",
       "    <tr>\n",
       "      <th>45</th>\n",
       "      <td>26</td>\n",
       "      <td>919</td>\n",
       "    </tr>\n",
       "    <tr>\n",
       "      <th>46</th>\n",
       "      <td>41</td>\n",
       "      <td>283</td>\n",
       "    </tr>\n",
       "    <tr>\n",
       "      <th>47</th>\n",
       "      <td>17</td>\n",
       "      <td>698</td>\n",
       "    </tr>\n",
       "    <tr>\n",
       "      <th>48</th>\n",
       "      <td>26</td>\n",
       "      <td>182</td>\n",
       "    </tr>\n",
       "    <tr>\n",
       "      <th>49</th>\n",
       "      <td>43</td>\n",
       "      <td>104</td>\n",
       "    </tr>\n",
       "    <tr>\n",
       "      <th>50</th>\n",
       "      <td>23</td>\n",
       "      <td>248</td>\n",
       "    </tr>\n",
       "  </tbody>\n",
       "</table>\n",
       "</div>"
      ],
      "text/plain": [
       "    col1  col2\n",
       "0     24   178\n",
       "1     15   980\n",
       "2     30   435\n",
       "3     12   351\n",
       "4     46   679\n",
       "5     37   548\n",
       "6     30   992\n",
       "7     48   965\n",
       "8     24   225\n",
       "9     46   926\n",
       "10    29   154\n",
       "11    43   647\n",
       "12    27   420\n",
       "13    14   151\n",
       "14    28   856\n",
       "15    44   723\n",
       "16    29   115\n",
       "17    19   922\n",
       "18    25   738\n",
       "19    49   784\n",
       "20    14   631\n",
       "21    47   362\n",
       "22    13   350\n",
       "23    28   746\n",
       "24    29   923\n",
       "25    35   836\n",
       "26    32   920\n",
       "27    43   834\n",
       "28    32   881\n",
       "29    29   117\n",
       "30    39   612\n",
       "31    12   851\n",
       "32    36   805\n",
       "33    12   778\n",
       "34    47   808\n",
       "35    10   962\n",
       "36    32   397\n",
       "37    13   420\n",
       "38    23   490\n",
       "39    31   676\n",
       "40    40   609\n",
       "41    49   700\n",
       "42    19   467\n",
       "43    35   417\n",
       "44    45   123\n",
       "45    26   919\n",
       "46    41   283\n",
       "47    17   698\n",
       "48    26   182\n",
       "49    43   104\n",
       "50    23   248"
      ]
     },
     "execution_count": 153,
     "metadata": {},
     "output_type": "execute_result"
    }
   ],
   "source": [
    "# Create two different Series, each of length 50, with the following criteria:\n",
    "\n",
    "# b) The second Series should contain random numbers ranging from 100 to 1000.\n",
    "random_int=pd.Series(np.random.randint(10,50,51))\n",
    "random_int1=pd.Series(np.random.randint(100,1000,51))\n",
    "\n",
    "# c) Create a DataFrame by joining these Series by column, and, change the names of the columns to 'col1', 'col2', etc\n",
    "DATA1=pd.concat([random_int,random_int1], axis=1)\n",
    "DATA1.columns=['col1','col2']\n",
    "DATA1"
   ]
  },
  {
   "cell_type": "code",
   "execution_count": null,
   "id": "04bf3682-5bff-4c63-94b7-521082ebf6ee",
   "metadata": {},
   "outputs": [],
   "source": [
    "#12)Perform the following operations using people data set:\n",
    "# a) Delete the 'Email', 'Phone', and 'Date of birth' columns from the dataset.\n",
    "# b) Delete the rows containing any missing values.\n",
    "# d) Print the final output also"
   ]
  },
  {
   "cell_type": "code",
   "execution_count": 163,
   "id": "414f50d9-ebfa-4505-a5e4-8b2f4a9a86d2",
   "metadata": {},
   "outputs": [
    {
     "name": "stdout",
     "output_type": "stream",
     "text": [
      "     Index          User Id First Name Last Name  Gender  \\\n",
      "0        1  8717bbf45cCDbEe     Shelia   Mahoney    Male   \n",
      "1        2  3d5AD30A4cD38ed         Jo    Rivers  Female   \n",
      "3        4  BF2a889C00f0cE1    Whitney    Hooper    Male   \n",
      "4        5  9afFEafAe1CBBB9    Lindsey      Rice  Female   \n",
      "6        7  efeb05c7Cc94EA3     Ernest   Hoffman    Male   \n",
      "..     ...              ...        ...       ...     ...   \n",
      "995    996  fedF4c7Fd9e7cFa       Kurt    Bryant  Female   \n",
      "996    997  ECddaFEDdEc4FAB      Donna     Barry  Female   \n",
      "997    998  2adde51d8B8979E      Cathy  Mckinney  Female   \n",
      "998    999  Fb2FE369D1E171A   Jermaine    Phelps    Male   \n",
      "999   1000  8b756f6231DDC6e        Lee      Tran  Female   \n",
      "\n",
      "                           Job Title  Salary  \n",
      "0                  Probation officer   90000  \n",
      "1                             Dancer   80000  \n",
      "3           Counselling psychologist   65000  \n",
      "4                Biomedical engineer  100000  \n",
      "6                     Health visitor   60000  \n",
      "..                               ...     ...  \n",
      "995                Personnel officer   90000  \n",
      "996          Education administrator   50000  \n",
      "997  Commercial/residential surveyor   60000  \n",
      "998                 Ambulance person  100000  \n",
      "999       Nurse, learning disability   90000  \n",
      "\n",
      "[997 rows x 7 columns]\n"
     ]
    }
   ],
   "source": [
    "drop=df1.drop(['Email', 'Phone',  'Date of birth'],axis=1)\n",
    "print(drop)"
   ]
  },
  {
   "cell_type": "code",
   "execution_count": 164,
   "id": "b4235df7-02ee-4fd9-8675-fdabb916ac48",
   "metadata": {},
   "outputs": [
    {
     "name": "stdout",
     "output_type": "stream",
     "text": [
      "     Index          User Id First Name Last Name  Gender  \\\n",
      "0        1  8717bbf45cCDbEe     Shelia   Mahoney    Male   \n",
      "4        5  9afFEafAe1CBBB9    Lindsey      Rice  Female   \n",
      "6        7  efeb05c7Cc94EA3     Ernest   Hoffman    Male   \n",
      "7        8  fb1BF3FED57E9d7      Doris  Andersen    Male   \n",
      "8        9  421fAB9a3b98F30     Cheryl      Mays    Male   \n",
      "..     ...              ...        ...       ...     ...   \n",
      "995    996  fedF4c7Fd9e7cFa       Kurt    Bryant  Female   \n",
      "996    997  ECddaFEDdEc4FAB      Donna     Barry  Female   \n",
      "997    998  2adde51d8B8979E      Cathy  Mckinney  Female   \n",
      "998    999  Fb2FE369D1E171A   Jermaine    Phelps    Male   \n",
      "999   1000  8b756f6231DDC6e        Lee      Tran  Female   \n",
      "\n",
      "                       Email         Phone Date of birth  \\\n",
      "0        pwarner@example.org  8.571398e+09    27-01-2014   \n",
      "4           elin@example.net  3.904172e+13    15-04-1923   \n",
      "6     jeffharvey@example.com  9.365575e+12    22-12-1984   \n",
      "7       alicia33@example.org  4.709523e+09    02-12-2016   \n",
      "8         jake50@example.com  1.382048e+08    16-12-2012   \n",
      "..                       ...           ...           ...   \n",
      "995   lyonsdaisy@example.net  2.177529e+08    05-01-1959   \n",
      "996  dariusbryan@example.com  1.149711e+13    06-10-2001   \n",
      "997   georgechan@example.org  1.750774e+15    13-05-1918   \n",
      "998      wanda04@example.net  9.152922e+09    31-08-1971   \n",
      "999  deannablack@example.org  7.975254e+13    24-01-1947   \n",
      "\n",
      "                           Job Title  Salary  \n",
      "0                  Probation officer   90000  \n",
      "4                Biomedical engineer  100000  \n",
      "6                     Health visitor   60000  \n",
      "7                         Air broker   65000  \n",
      "8               Designer, multimedia   50000  \n",
      "..                               ...     ...  \n",
      "995                Personnel officer   90000  \n",
      "996          Education administrator   50000  \n",
      "997  Commercial/residential surveyor   60000  \n",
      "998                 Ambulance person  100000  \n",
      "999       Nurse, learning disability   90000  \n",
      "\n",
      "[976 rows x 10 columns]\n"
     ]
    }
   ],
   "source": [
    "drop_na=df1.dropna()\n",
    "print(drop_na)"
   ]
  },
  {
   "cell_type": "code",
   "execution_count": null,
   "id": "62ff3d4a-1af3-4979-9b97-3296c566ccf9",
   "metadata": {},
   "outputs": [],
   "source": [
    "'''13) Create two NumPy arrays, x and y, each containing 100 random float values between 0 and 1. Perform the \n",
    "following tasks using Matplotlib and NumPy:\n",
    " a) Create a scatter plot using x and y, setting the color of the points to red and the marker style to 'o'.\n",
    " b) Add a horizontal line at y = 0.5 using a dashed line style and label it as 'y = 0.5'.\n",
    " c) Add a vertical line at x = 0.5 using a dotted line style and label it as 'x = 0.5'.\n",
    " d) Label the x-axis as 'X-axis' and the y-axis as 'Y-axis'.\n",
    " e) Set the title of the plot as 'Advanced Scatter Plot of Random Values'.\n",
    " f) Display a legend for the scatter plot, the horizontal line, and the vertical line.'''"
   ]
  },
  {
   "cell_type": "code",
   "execution_count": 166,
   "id": "aefe2887-bdb8-4f85-b1c1-b97c4cd8018b",
   "metadata": {},
   "outputs": [],
   "source": [
    "import matplotlib.pyplot as plt\n",
    "\n",
    "import warnings \n",
    "warnings.filterwarnings('ignore')"
   ]
  },
  {
   "cell_type": "code",
   "execution_count": 186,
   "id": "99c4ef75-fef3-4829-980e-6f1f203d5bbd",
   "metadata": {},
   "outputs": [
    {
     "name": "stderr",
     "output_type": "stream",
     "text": [
      "No artists with labels found to put in legend.  Note that artists whose label start with an underscore are ignored when legend() is called with no argument.\n"
     ]
    },
    {
     "data": {
      "image/png": "[encoded data removed]",
      "text/plain": [
       "<Figure size 640x480 with 1 Axes>"
      ]
     },
     "metadata": {},
     "output_type": "display_data"
    }
   ],
   "source": [
    "\n",
    "#a) Create a scatter plot using x and y, setting the color of the points to red and the marker style to 'o'.\n",
    "\n",
    "x=np.random.rand(100)\n",
    "y=np.random.rand(100)\n",
    "plt.scatter(x,y, marker='o',color='red')\n",
    "\n",
    "# d) Label the x-axis as 'X-axis' and the y-axis as 'Y-axis'.\n",
    "\n",
    "plt.xlabel( 'X-axis')\n",
    "plt.ylabel( 'Y-axis')\n",
    "plt.title('Advanced Scatter Plot of Random Values')\n",
    "\n",
    " #f) Display a legend for the scatter plot, the horizontal line, and the vertical line.\n",
    "\n",
    "plt.legend()\n",
    "plt.show()"
   ]
  },
  {
   "cell_type": "code",
   "execution_count": 175,
   "id": "299f4bce-ad89-4a90-9661-8697605f38d5",
   "metadata": {},
   "outputs": [
    {
     "data": {
      "image/png": "[encoded data removed]",
      "text/plain": [
       "<Figure size 640x480 with 1 Axes>"
      ]
     },
     "metadata": {},
     "output_type": "display_data"
    }
   ],
   "source": [
    " # b) Add a horizontal line at y = 0.5 using a dashed line style and label it as 'y = 0.5'.\n",
    "plt.axhline(y=0.5, color='r', linestyle='--', label='y = 0.5')\n",
    "\n",
    "# f) Display a legend for the scatter plot, the horizontal line, and the vertical line.\n",
    "\n",
    "plt.legend()\n",
    "plt.show()"
   ]
  },
  {
   "cell_type": "code",
   "execution_count": 184,
   "id": "8e417246-e918-4a18-84ba-64e896f984a3",
   "metadata": {},
   "outputs": [
    {
     "data": {
      "image/png": "[encoded data removed]",
      "text/plain": [
       "<Figure size 640x480 with 1 Axes>"
      ]
     },
     "metadata": {},
     "output_type": "display_data"
    }
   ],
   "source": [
    "# c) Add a vertical line at x = 0.5 using a dotted line style and label it as 'x = 0.5'.\n",
    "\n",
    "plt.axvline(x=0.5, color='r', linestyle='--', label='X = 0.5')\n",
    "\n",
    "# f) Display a legend for the scatter plot, the horizontal line, and the vertical line.\n",
    "\n",
    "plt.legend()\n",
    "plt.show()"
   ]
  },
  {
   "cell_type": "code",
   "execution_count": 213,
   "id": "e5669b60-c9f7-4ec2-a603-7162d331cd57",
   "metadata": {},
   "outputs": [
    {
     "data": {
      "text/html": [
       "<div>\n",
       "<style scoped>\n",
       "    .dataframe tbody tr th:only-of-type {\n",
       "        vertical-align: middle;\n",
       "    }\n",
       "\n",
       "    .dataframe tbody tr th {\n",
       "        vertical-align: top;\n",
       "    }\n",
       "\n",
       "    .dataframe thead th {\n",
       "        text-align: right;\n",
       "    }\n",
       "</style>\n",
       "<table border=\"1\" class=\"dataframe\">\n",
       "  <thead>\n",
       "    <tr style=\"text-align: right;\">\n",
       "      <th></th>\n",
       "      <th>Date</th>\n",
       "      <th>Temperature</th>\n",
       "      <th>Humidity</th>\n",
       "    </tr>\n",
       "  </thead>\n",
       "  <tbody>\n",
       "    <tr>\n",
       "      <th>0</th>\n",
       "      <td>2023-01-10</td>\n",
       "      <td>23</td>\n",
       "      <td>87</td>\n",
       "    </tr>\n",
       "    <tr>\n",
       "      <th>1</th>\n",
       "      <td>2023-01-11</td>\n",
       "      <td>28</td>\n",
       "      <td>88</td>\n",
       "    </tr>\n",
       "    <tr>\n",
       "      <th>2</th>\n",
       "      <td>2023-01-12</td>\n",
       "      <td>25</td>\n",
       "      <td>89</td>\n",
       "    </tr>\n",
       "    <tr>\n",
       "      <th>3</th>\n",
       "      <td>2023-01-13</td>\n",
       "      <td>27</td>\n",
       "      <td>81</td>\n",
       "    </tr>\n",
       "    <tr>\n",
       "      <th>4</th>\n",
       "      <td>2023-01-14</td>\n",
       "      <td>32</td>\n",
       "      <td>83</td>\n",
       "    </tr>\n",
       "    <tr>\n",
       "      <th>5</th>\n",
       "      <td>2023-01-15</td>\n",
       "      <td>24</td>\n",
       "      <td>81</td>\n",
       "    </tr>\n",
       "    <tr>\n",
       "      <th>6</th>\n",
       "      <td>2023-01-16</td>\n",
       "      <td>25</td>\n",
       "      <td>88</td>\n",
       "    </tr>\n",
       "    <tr>\n",
       "      <th>7</th>\n",
       "      <td>2023-01-17</td>\n",
       "      <td>31</td>\n",
       "      <td>87</td>\n",
       "    </tr>\n",
       "    <tr>\n",
       "      <th>8</th>\n",
       "      <td>2023-01-18</td>\n",
       "      <td>27</td>\n",
       "      <td>89</td>\n",
       "    </tr>\n",
       "    <tr>\n",
       "      <th>9</th>\n",
       "      <td>2023-01-19</td>\n",
       "      <td>28</td>\n",
       "      <td>88</td>\n",
       "    </tr>\n",
       "    <tr>\n",
       "      <th>10</th>\n",
       "      <td>2023-01-20</td>\n",
       "      <td>28</td>\n",
       "      <td>81</td>\n",
       "    </tr>\n",
       "    <tr>\n",
       "      <th>11</th>\n",
       "      <td>2023-01-21</td>\n",
       "      <td>27</td>\n",
       "      <td>85</td>\n",
       "    </tr>\n",
       "    <tr>\n",
       "      <th>12</th>\n",
       "      <td>2023-01-22</td>\n",
       "      <td>20</td>\n",
       "      <td>83</td>\n",
       "    </tr>\n",
       "    <tr>\n",
       "      <th>13</th>\n",
       "      <td>2023-01-23</td>\n",
       "      <td>28</td>\n",
       "      <td>89</td>\n",
       "    </tr>\n",
       "    <tr>\n",
       "      <th>14</th>\n",
       "      <td>2023-01-24</td>\n",
       "      <td>21</td>\n",
       "      <td>81</td>\n",
       "    </tr>\n",
       "    <tr>\n",
       "      <th>15</th>\n",
       "      <td>2023-01-25</td>\n",
       "      <td>22</td>\n",
       "      <td>84</td>\n",
       "    </tr>\n",
       "    <tr>\n",
       "      <th>16</th>\n",
       "      <td>2023-01-26</td>\n",
       "      <td>20</td>\n",
       "      <td>86</td>\n",
       "    </tr>\n",
       "    <tr>\n",
       "      <th>17</th>\n",
       "      <td>2023-01-27</td>\n",
       "      <td>34</td>\n",
       "      <td>81</td>\n",
       "    </tr>\n",
       "    <tr>\n",
       "      <th>18</th>\n",
       "      <td>2023-01-28</td>\n",
       "      <td>23</td>\n",
       "      <td>82</td>\n",
       "    </tr>\n",
       "    <tr>\n",
       "      <th>19</th>\n",
       "      <td>2023-01-29</td>\n",
       "      <td>32</td>\n",
       "      <td>85</td>\n",
       "    </tr>\n",
       "    <tr>\n",
       "      <th>20</th>\n",
       "      <td>2023-01-30</td>\n",
       "      <td>27</td>\n",
       "      <td>85</td>\n",
       "    </tr>\n",
       "    <tr>\n",
       "      <th>21</th>\n",
       "      <td>2023-01-31</td>\n",
       "      <td>25</td>\n",
       "      <td>83</td>\n",
       "    </tr>\n",
       "    <tr>\n",
       "      <th>22</th>\n",
       "      <td>2023-02-01</td>\n",
       "      <td>22</td>\n",
       "      <td>83</td>\n",
       "    </tr>\n",
       "    <tr>\n",
       "      <th>23</th>\n",
       "      <td>2023-02-02</td>\n",
       "      <td>24</td>\n",
       "      <td>83</td>\n",
       "    </tr>\n",
       "    <tr>\n",
       "      <th>24</th>\n",
       "      <td>2023-02-03</td>\n",
       "      <td>28</td>\n",
       "      <td>89</td>\n",
       "    </tr>\n",
       "    <tr>\n",
       "      <th>25</th>\n",
       "      <td>2023-02-04</td>\n",
       "      <td>28</td>\n",
       "      <td>87</td>\n",
       "    </tr>\n",
       "    <tr>\n",
       "      <th>26</th>\n",
       "      <td>2023-02-05</td>\n",
       "      <td>31</td>\n",
       "      <td>82</td>\n",
       "    </tr>\n",
       "    <tr>\n",
       "      <th>27</th>\n",
       "      <td>2023-02-06</td>\n",
       "      <td>34</td>\n",
       "      <td>89</td>\n",
       "    </tr>\n",
       "    <tr>\n",
       "      <th>28</th>\n",
       "      <td>2023-02-07</td>\n",
       "      <td>21</td>\n",
       "      <td>89</td>\n",
       "    </tr>\n",
       "    <tr>\n",
       "      <th>29</th>\n",
       "      <td>2023-02-08</td>\n",
       "      <td>30</td>\n",
       "      <td>88</td>\n",
       "    </tr>\n",
       "    <tr>\n",
       "      <th>30</th>\n",
       "      <td>2023-02-09</td>\n",
       "      <td>22</td>\n",
       "      <td>88</td>\n",
       "    </tr>\n",
       "    <tr>\n",
       "      <th>31</th>\n",
       "      <td>2023-02-10</td>\n",
       "      <td>25</td>\n",
       "      <td>81</td>\n",
       "    </tr>\n",
       "  </tbody>\n",
       "</table>\n",
       "</div>"
      ],
      "text/plain": [
       "         Date  Temperature  Humidity\n",
       "0  2023-01-10           23        87\n",
       "1  2023-01-11           28        88\n",
       "2  2023-01-12           25        89\n",
       "3  2023-01-13           27        81\n",
       "4  2023-01-14           32        83\n",
       "5  2023-01-15           24        81\n",
       "6  2023-01-16           25        88\n",
       "7  2023-01-17           31        87\n",
       "8  2023-01-18           27        89\n",
       "9  2023-01-19           28        88\n",
       "10 2023-01-20           28        81\n",
       "11 2023-01-21           27        85\n",
       "12 2023-01-22           20        83\n",
       "13 2023-01-23           28        89\n",
       "14 2023-01-24           21        81\n",
       "15 2023-01-25           22        84\n",
       "16 2023-01-26           20        86\n",
       "17 2023-01-27           34        81\n",
       "18 2023-01-28           23        82\n",
       "19 2023-01-29           32        85\n",
       "20 2023-01-30           27        85\n",
       "21 2023-01-31           25        83\n",
       "22 2023-02-01           22        83\n",
       "23 2023-02-02           24        83\n",
       "24 2023-02-03           28        89\n",
       "25 2023-02-04           28        87\n",
       "26 2023-02-05           31        82\n",
       "27 2023-02-06           34        89\n",
       "28 2023-02-07           21        89\n",
       "29 2023-02-08           30        88\n",
       "30 2023-02-09           22        88\n",
       "31 2023-02-10           25        81"
      ]
     },
     "execution_count": 213,
     "metadata": {},
     "output_type": "execute_result"
    }
   ],
   "source": [
    "'''14) Create a time-series dataset in a Pandas DataFrame with columns: 'Date', 'Temperature', 'Humidity' and \n",
    "Perform the following tasks using Matplotlib:\n",
    " a) Plot the 'Temperature' and 'Humidity' on the same plot with different y-axes (left y-axis for 'Temperature' and\n",
    " right y-axis for 'Humidity').\n",
    " b) Label the x-axis as 'Date'.\n",
    " c) Set the title of the plot as 'Temperature and Humidity Over Time'.'''\n",
    "\n",
    "#Create a time-series dataset in a Pandas DataFrame with columns: 'Date', 'Temperature', 'Humidity'\n",
    "\n",
    "Date=pd.date_range(start='2023-01-10',end='2023-02-10',freq='D')\n",
    "survey=pd.DataFrame(Date,columns=['Date'])  \n",
    "survey['Temperature']=np.random.randint(20,35,size=(len(Date))) \n",
    "survey['Humidity']=np.random.randint(80,90,size=(len(Date)))\n",
    "survey"
   ]
  },
  {
   "cell_type": "code",
   "execution_count": 226,
   "id": "ad310b06-8b63-4a2a-95fa-92a521a6815a",
   "metadata": {},
   "outputs": [
    {
     "data": {
      "image/png": "[encoded data removed]",
      "text/plain": [
       "<Figure size 640x480 with 2 Axes>"
      ]
     },
     "metadata": {},
     "output_type": "display_data"
    },
    {
     "data": {
      "text/plain": [
       "<Figure size 1200x600 with 0 Axes>"
      ]
     },
     "metadata": {},
     "output_type": "display_data"
    }
   ],
   "source": [
    " #a) Plot the 'Temperature' and 'Humidity' on the same plot with different y-axes (left y-axis for 'Temperature' and\n",
    " # right y-axis for 'Humidity')\n",
    "\n",
    "x=survey['Date']\n",
    "y1=survey['Temperature']\n",
    "y2=survey['Humidity']\n",
    "plt.figure()\n",
    "plt.subplot(1,2,1)\n",
    "plt.xticks(rotation=45) # to rotate and to look clear\n",
    "plt.xlabel('\"Date\"')  #b) Label the x-axis as 'Date'.\n",
    "plt.ylabel('\"Temperature\"')\n",
    "plt.plot(x, y1)\n",
    "\n",
    "plt.subplot(1,2,2)\n",
    "plt.xticks(rotation=45) # to rotate and to look clear\n",
    "plt.xlabel('\"Date\"') # b) Label the x-axis as 'Date'.\n",
    "plt.ylabel('\"Humidity\"')\n",
    "\n",
    "plt.plot(x,y2)\n",
    "plt.title('\"Temperature and Humidity Over Time\"') # c) Set the title of the plot as 'Temperature and Humidity Over Time\n",
    "\n",
    "plt.figure(figsize=(12, 6))\n",
    " \n",
    "\n",
    "plt.show()\n",
    "\n",
    "\n"
   ]
  },
  {
   "cell_type": "code",
   "execution_count": 204,
   "id": "0ac9aaff-cd7c-4d6e-83eb-aa2a5b47a511",
   "metadata": {},
   "outputs": [],
   "source": [
    "'''15)Create a NumPy array data containing 1000 samples from a normal distribution. Perform the following \n",
    "tasks using Matplotlib:\n",
    " a) Plot a histogram of the data with 30 bins.\n",
    " b) Overlay a line plot representing the normal distribution's probability density function (PDF).\n",
    " c) Label the x-axis as 'Value' and the y-axis as 'Frequency/Probability'.\n",
    " d) Set the title of the plot as 'Histogram with PDF Overlay'.'''"
   ]
  },
  {
   "cell_type": "code",
   "execution_count": 250,
   "id": "fcaaa196-1817-4ab2-a705-b04f38363211",
   "metadata": {},
   "outputs": [
    {
     "data": {
      "image/png": "[encoded data removed]",
      "text/plain": [
       "<Figure size 640x480 with 1 Axes>"
      ]
     },
     "metadata": {},
     "output_type": "display_data"
    }
   ],
   "source": [
    "import numpy as np\n",
    "from scipy.stats import norm\n",
    "\n",
    "# NumPy array data containing 1000 samples from a normal distribution\n",
    "sample=np.random.randn(1000)\n",
    "#a) Plot a histogram of the data with 30 bins.\n",
    "plt.hist(sample, bins=30, density=True,alpha=0.6,edgecolor='black', label='Histogram') \n",
    "\n",
    "#b) Overlay a line plot representing the normal distribution's probability density function (PDF).\n",
    "# Calculate the mean and standard deviation of the data\n",
    "mean=np.mean(sample)\n",
    "std=np.std(sample)\n",
    "x=np.linspace(min(sample),max(sample),1000)\n",
    "pdf=norm.pdf(x,mean,std)\n",
    "\n",
    "#c) Label the x-axis as 'Value' and the y-axis as 'Frequency/Probability'.\n",
    "\n",
    "plt.xlabel('Value')\n",
    "plt.ylabel('Frequency/Probability')\n",
    " \n",
    "#d) Set the title of the plot as 'Histogram with PDF Overlay'.'''\n",
    "\n",
    "plt.title('Histogram with PDF Overlay')\n",
    "plt.plot(x,pdf,'r-',lw=2, label='Normal Distribution PDF')\n",
    "plt.legend()\n",
    "plt.show()"
   ]
  },
  {
   "cell_type": "code",
   "execution_count": 251,
   "id": "6bd74eb3-18e1-4d3d-8e5e-c472eed51fdc",
   "metadata": {},
   "outputs": [
    {
     "data": {
      "image/png": "[encoded data removed]",
      "text/plain": [
       "<Figure size 640x480 with 1 Axes>"
      ]
     },
     "metadata": {},
     "output_type": "display_data"
    }
   ],
   "source": [
    "# 16)Set the title of the plot as 'Histogram with PDF Overlay'.\n",
    "\n",
    "# NumPy array data containing 1000 samples from a normal distribution\n",
    "sample=np.random.randn(1000)\n",
    "#a) Plot a histogram of the data with 30 bins.\n",
    "plt.hist(sample, bins=30, density=True,alpha=0.6,edgecolor='black', label='Histogram') \n",
    "\n",
    "#b) Overlay a line plot representing the normal distribution's probability density function (PDF).\n",
    "# Calculate the mean and standard deviation of the data\n",
    "mean=np.mean(sample)\n",
    "std=np.std(sample)\n",
    "x=np.linspace(min(sample),max(sample),1000)\n",
    "pdf=norm.pdf(x,mean,std)\n",
    "\n",
    "#c) Label the x-axis as 'Value' and the y-axis as 'Frequency/Probability'.\n",
    "\n",
    "plt.xlabel('Value')\n",
    "plt.ylabel('Frequency/Probability')\n",
    " \n",
    "#d) Set the title of the plot as 'Histogram with PDF Overlay'.'''\n",
    "\n",
    "plt.title('Histogram with PDF Overlay')\n",
    "plt.plot(x,pdf,lw=2, label='Normal Distribution PDF')\n",
    "plt.legend()\n",
    "plt.show()"
   ]
  },
  {
   "cell_type": "code",
   "execution_count": 271,
   "id": "b77c73ea-a0db-4b15-85ed-f96119cce417",
   "metadata": {},
   "outputs": [
    {
     "data": {
      "image/png": "[encoded data removed]",
      "text/plain": [
       "<Figure size 1000x600 with 1 Axes>"
      ]
     },
     "metadata": {},
     "output_type": "display_data"
    }
   ],
   "source": [
    "'''17)Create a Seaborn scatter plot of two random arrays, color points based on their position relative to the \n",
    "origin (quadrants), add a legend, label the axes, and set the title as 'Quadrant-wise Scatter Plot'.'''\n",
    "\n",
    "import seaborn as sns\n",
    "\n",
    "# Step 1: Generate two random arrays for x and y coordinates\n",
    "\n",
    "np.random.seed(42) \n",
    "x=np.random.randn(100)\n",
    "y=np.random.randn(100)\n",
    "\n",
    "# Step 2: Determine the quadrant of each point\n",
    "\n",
    "def get_quad(x,y):\n",
    "    if x>0 and y>0:\n",
    "        return 'Quadrant I'\n",
    "    elif x<0 and y>0:\n",
    "        return 'Quadrant II'\n",
    "    elif x<0 and y<0:\n",
    "        return 'Quadrant III'\n",
    "    elif x>0 and y<0:\n",
    "        return 'Quadrant IV'\n",
    "    else:\n",
    "        return 'Origin'\n",
    "\n",
    "# Create a DataFrame to store the data\n",
    "\n",
    "store_data=pd.DataFrame({'x':x,'y':y})\n",
    "store_data['Quadrant']=store_data.apply(lambda row: get_quad(row['x'],row['y']),axis=1)\n",
    "\n",
    "plt.figure(figsize=(10,6))\n",
    "\n",
    "# Step 3: Create a scatter plot using Seaborn\n",
    "\n",
    "sns.scatterplot(data=store_data,x='x',y='y',hue='Quadrant',palette='Set1',edgecolor='black',s=100)\n",
    "\n",
    "\n",
    "plt.xlabel('X-AXIS')\n",
    "plt.ylabel('Y-AXIS')\n",
    "plt.title('Quadrant-wise Scatter Plot')\n",
    "plt.axhline(0,color='gray') # Horizontal line at y=0\n",
    "plt.axvline(0,color='gray')  # Vertical line at x=0\n",
    "plt.legend()\n",
    "\n",
    "plt.show()\n",
    "        \n",
    "    \n",
    "        \n",
    "        \n",
    "    \n",
    "\n",
    "\n",
    "\n"
   ]
  },
  {
   "cell_type": "code",
   "execution_count": 296,
   "id": "4e39d6a8-0b03-4bc5-bd09-83218e3af00d",
   "metadata": {},
   "outputs": [
    {
     "data": {
      "text/html": [
       "    <style>\n",
       "        .bk-notebook-logo {\n",
       "            display: block;\n",
       "            width: 20px;\n",
       "            height: 20px;\n",
       "            background-image: url(data:image/png;base64,iVBORw0KGgoAAAANSUhEUgAAABQAAAAUCAYAAACNiR0NAAAABHNCSVQICAgIfAhkiAAAAAlwSFlzAAALEgAACxIB0t1+/AAAABx0RVh0U29mdHdhcmUAQWRvYmUgRmlyZXdvcmtzIENTNui8sowAAAOkSURBVDiNjZRtaJVlGMd/1/08zzln5zjP1LWcU9N0NkN8m2CYjpgQYQXqSs0I84OLIC0hkEKoPtiH3gmKoiJDU7QpLgoLjLIQCpEsNJ1vqUOdO7ppbuec5+V+rj4ctwzd8IIbbi6u+8f1539dt3A78eXC7QizUF7gyV1fD1Yqg4JWz84yffhm0qkFqBogB9rM8tZdtwVsPUhWhGcFJngGeWrPzHm5oaMmkfEg1usvLFyc8jLRqDOMru7AyC8saQr7GG7f5fvDeH7Ej8CM66nIF+8yngt6HWaKh7k49Soy9nXurCi1o3qUbS3zWfrYeQDTB/Qj6kX6Ybhw4B+bOYoLKCC9H3Nu/leUTZ1JdRWkkn2ldcCamzrcf47KKXdAJllSlxAOkRgyHsGC/zRday5Qld9DyoM4/q/rUoy/CXh3jzOu3bHUVZeU+DEn8FInkPBFlu3+nW3Nw0mk6vCDiWg8CeJaxEwuHS3+z5RgY+YBR6V1Z1nxSOfoaPa4LASWxxdNp+VWTk7+4vzaou8v8PN+xo+KY2xsw6une2frhw05CTYOmQvsEhjhWjn0bmXPjpE1+kplmmkP3suftwTubK9Vq22qKmrBhpY4jvd5afdRA3wGjFAgcnTK2s4hY0/GPNIb0nErGMCRxWOOX64Z8RAC4oCXdklmEvcL8o0BfkNK4lUg9HTl+oPlQxdNo3Mg4Nv175e/1LDGzZen30MEjRUtmXSfiTVu1kK8W4txyV6BMKlbgk3lMwYCiusNy9fVfvvwMxv8Ynl6vxoByANLTWplvuj/nF9m2+PDtt1eiHPBr1oIfhCChQMBw6Aw0UulqTKZdfVvfG7VcfIqLG9bcldL/+pdWTLxLUy8Qq38heUIjh4XlzZxzQm19lLFlr8vdQ97rjZVOLf8nclzckbcD4wxXMidpX30sFd37Fv/GtwwhzhxGVAprjbg0gCAEeIgwCZyTV2Z1REEW8O4py0wsjeloKoMr6iCY6dP92H6Vw/oTyICIthibxjm/DfN9lVz8IqtqKYLUXfoKVMVQVVJOElGjrnnUt9T9wbgp8AyYKaGlqingHZU/uG2NTZSVqwHQTWkx9hxjkpWDaCg6Ckj5qebgBVbT3V3NNXMSiWSDdGV3hrtzla7J+duwPOToIg42ChPQOQjspnSlp1V+Gjdged7+8UN5CRAV7a5EdFNwCjEaBR27b3W890TE7g24NAP/mMDXRWrGoFPQI9ls/MWO2dWFAar/xcOIImbbpA3zgAAAABJRU5ErkJggg==);\n",
       "        }\n",
       "    </style>\n",
       "    <div>\n",
       "        <a href=\"https://bokeh.org\" target=\"_blank\" class=\"bk-notebook-logo\"></a>\n",
       "        <span id=\"aaaeb71f-ac1b-4e8f-bad3-1d919798b44d\">Loading BokehJS ...</span>\n",
       "    </div>\n"
      ]
     },
     "metadata": {},
     "output_type": "display_data"
    },
    {
     "data": {
      "application/javascript": [
       "(function(root) {\n",
       "  function now() {\n",
       "    return new Date();\n",
       "  }\n",
       "\n",
       "  const force = true;\n",
       "\n",
       "  if (typeof root._bokeh_onload_callbacks === \"undefined\" || force === true) {\n",
       "    root._bokeh_onload_callbacks = [];\n",
       "    root._bokeh_is_loading = undefined;\n",
       "  }\n",
       "\n",
       "const JS_MIME_TYPE = 'application/javascript';\n",
       "  const HTML_MIME_TYPE = 'text/html';\n",
       "  const EXEC_MIME_TYPE = 'application/vnd.bokehjs_exec.v0+json';\n",
       "  const CLASS_NAME = 'output_bokeh rendered_html';\n",
       "\n",
       "  /**\n",
       "   * Render data to the DOM node\n",
       "   */\n",
       "  function render(props, node) {\n",
       "    const script = document.createElement(\"script\");\n",
       "    node.appendChild(script);\n",
       "  }\n",
       "\n",
       "  /**\n",
       "   * Handle when an output is cleared or removed\n",
       "   */\n",
       "  function handleClearOutput(event, handle) {\n",
       "    function drop(id) {\n",
       "      const view = Bokeh.index.get_by_id(id)\n",
       "      if (view != null) {\n",
       "        view.model.document.clear()\n",
       "        Bokeh.index.delete(view)\n",
       "      }\n",
       "    }\n",
       "\n",
       "    const cell = handle.cell;\n",
       "\n",
       "    const id = cell.output_area._bokeh_element_id;\n",
       "    const server_id = cell.output_area._bokeh_server_id;\n",
       "\n",
       "    // Clean up Bokeh references\n",
       "    if (id != null) {\n",
       "      drop(id)\n",
       "    }\n",
       "\n",
       "    if (server_id !== undefined) {\n",
       "      // Clean up Bokeh references\n",
       "      const cmd_clean = \"from bokeh.io.state import curstate; print(curstate().uuid_to_server['\" + server_id + \"'].get_sessions()[0].document.roots[0]._id)\";\n",
       "      cell.notebook.kernel.execute(cmd_clean, {\n",
       "        iopub: {\n",
       "          output: function(msg) {\n",
       "            const id = msg.content.text.trim()\n",
       "            drop(id)\n",
       "          }\n",
       "        }\n",
       "      });\n",
       "      // Destroy server and session\n",
       "      const cmd_destroy = \"import bokeh.io.notebook as ion; ion.destroy_server('\" + server_id + \"')\";\n",
       "      cell.notebook.kernel.execute(cmd_destroy);\n",
       "    }\n",
       "  }\n",
       "\n",
       "  /**\n",
       "   * Handle when a new output is added\n",
       "   */\n",
       "  function handleAddOutput(event, handle) {\n",
       "    const output_area = handle.output_area;\n",
       "    const output = handle.output;\n",
       "\n",
       "    // limit handleAddOutput to display_data with EXEC_MIME_TYPE content only\n",
       "    if ((output.output_type != \"display_data\") || (!Object.prototype.hasOwnProperty.call(output.data, EXEC_MIME_TYPE))) {\n",
       "      return\n",
       "    }\n",
       "\n",
       "    const toinsert = output_area.element.find(\".\" + CLASS_NAME.split(' ')[0]);\n",
       "\n",
       "    if (output.metadata[EXEC_MIME_TYPE][\"id\"] !== undefined) {\n",
       "      toinsert[toinsert.length - 1].firstChild.textContent = output.data[JS_MIME_TYPE];\n",
       "      // store reference to embed id on output_area\n",
       "      output_area._bokeh_element_id = output.metadata[EXEC_MIME_TYPE][\"id\"];\n",
       "    }\n",
       "    if (output.metadata[EXEC_MIME_TYPE][\"server_id\"] !== undefined) {\n",
       "      const bk_div = document.createElement(\"div\");\n",
       "      bk_div.innerHTML = output.data[HTML_MIME_TYPE];\n",
       "      const script_attrs = bk_div.children[0].attributes;\n",
       "      for (let i = 0; i < script_attrs.length; i++) {\n",
       "        toinsert[toinsert.length - 1].firstChild.setAttribute(script_attrs[i].name, script_attrs[i].value);\n",
       "        toinsert[toinsert.length - 1].firstChild.textContent = bk_div.children[0].textContent\n",
       "      }\n",
       "      // store reference to server id on output_area\n",
       "      output_area._bokeh_server_id = output.metadata[EXEC_MIME_TYPE][\"server_id\"];\n",
       "    }\n",
       "  }\n",
       "\n",
       "  function register_renderer(events, OutputArea) {\n",
       "\n",
       "    function append_mime(data, metadata, element) {\n",
       "      // create a DOM node to render to\n",
       "      const toinsert = this.create_output_subarea(\n",
       "        metadata,\n",
       "        CLASS_NAME,\n",
       "        EXEC_MIME_TYPE\n",
       "      );\n",
       "      this.keyboard_manager.register_events(toinsert);\n",
       "      // Render to node\n",
       "      const props = {data: data, metadata: metadata[EXEC_MIME_TYPE]};\n",
       "      render(props, toinsert[toinsert.length - 1]);\n",
       "      element.append(toinsert);\n",
       "      return toinsert\n",
       "    }\n",
       "\n",
       "    /* Handle when an output is cleared or removed */\n",
       "    events.on('clear_output.CodeCell', handleClearOutput);\n",
       "    events.on('delete.Cell', handleClearOutput);\n",
       "\n",
       "    /* Handle when a new output is added */\n",
       "    events.on('output_added.OutputArea', handleAddOutput);\n",
       "\n",
       "    /**\n",
       "     * Register the mime type and append_mime function with output_area\n",
       "     */\n",
       "    OutputArea.prototype.register_mime_type(EXEC_MIME_TYPE, append_mime, {\n",
       "      /* Is output safe? */\n",
       "      safe: true,\n",
       "      /* Index of renderer in `output_area.display_order` */\n",
       "      index: 0\n",
       "    });\n",
       "  }\n",
       "\n",
       "  // register the mime type if in Jupyter Notebook environment and previously unregistered\n",
       "  if (root.Jupyter !== undefined) {\n",
       "    const events = require('base/js/events');\n",
       "    const OutputArea = require('notebook/js/outputarea').OutputArea;\n",
       "\n",
       "    if (OutputArea.prototype.mime_types().indexOf(EXEC_MIME_TYPE) == -1) {\n",
       "      register_renderer(events, OutputArea);\n",
       "    }\n",
       "  }\n",
       "  if (typeof (root._bokeh_timeout) === \"undefined\" || force === true) {\n",
       "    root._bokeh_timeout = Date.now() + 5000;\n",
       "    root._bokeh_failed_load = false;\n",
       "  }\n",
       "\n",
       "  const NB_LOAD_WARNING = {'data': {'text/html':\n",
       "     \"<div style='background-color: #fdd'>\\n\"+\n",
       "     \"<p>\\n\"+\n",
       "     \"BokehJS does not appear to have successfully loaded. If loading BokehJS from CDN, this \\n\"+\n",
       "     \"may be due to a slow or bad network connection. Possible fixes:\\n\"+\n",
       "     \"</p>\\n\"+\n",
       "     \"<ul>\\n\"+\n",
       "     \"<li>re-rerun `output_notebook()` to attempt to load from CDN again, or</li>\\n\"+\n",
       "     \"<li>use INLINE resources instead, as so:</li>\\n\"+\n",
       "     \"</ul>\\n\"+\n",
       "     \"<code>\\n\"+\n",
       "     \"from bokeh.resources import INLINE\\n\"+\n",
       "     \"output_notebook(resources=INLINE)\\n\"+\n",
       "     \"</code>\\n\"+\n",
       "     \"</div>\"}};\n",
       "\n",
       "  function display_loaded() {\n",
       "    const el = document.getElementById(\"aaaeb71f-ac1b-4e8f-bad3-1d919798b44d\");\n",
       "    if (el != null) {\n",
       "      el.textContent = \"BokehJS is loading...\";\n",
       "    }\n",
       "    if (root.Bokeh !== undefined) {\n",
       "      if (el != null) {\n",
       "        el.textContent = \"BokehJS \" + root.Bokeh.version + \" successfully loaded.\";\n",
       "      }\n",
       "    } else if (Date.now() < root._bokeh_timeout) {\n",
       "      setTimeout(display_loaded, 100)\n",
       "    }\n",
       "  }\n",
       "\n",
       "  function run_callbacks() {\n",
       "    try {\n",
       "      root._bokeh_onload_callbacks.forEach(function(callback) {\n",
       "        if (callback != null)\n",
       "          callback();\n",
       "      });\n",
       "    } finally {\n",
       "      delete root._bokeh_onload_callbacks\n",
       "    }\n",
       "    console.debug(\"Bokeh: all callbacks have finished\");\n",
       "  }\n",
       "\n",
       "  function load_libs(css_urls, js_urls, callback) {\n",
       "    if (css_urls == null) css_urls = [];\n",
       "    if (js_urls == null) js_urls = [];\n",
       "\n",
       "    root._bokeh_onload_callbacks.push(callback);\n",
       "    if (root._bokeh_is_loading > 0) {\n",
       "      console.debug(\"Bokeh: BokehJS is being loaded, scheduling callback at\", now());\n",
       "      return null;\n",
       "    }\n",
       "    if (js_urls == null || js_urls.length === 0) {\n",
       "      run_callbacks();\n",
       "      return null;\n",
       "    }\n",
       "    console.debug(\"Bokeh: BokehJS not loaded, scheduling load and callback at\", now());\n",
       "    root._bokeh_is_loading = css_urls.length + js_urls.length;\n",
       "\n",
       "    function on_load() {\n",
       "      root._bokeh_is_loading--;\n",
       "      if (root._bokeh_is_loading === 0) {\n",
       "        console.debug(\"Bokeh: all BokehJS libraries/stylesheets loaded\");\n",
       "        run_callbacks()\n",
       "      }\n",
       "    }\n",
       "\n",
       "    function on_error(url) {\n",
       "      console.error(\"failed to load \" + url);\n",
       "    }\n",
       "\n",
       "    for (let i = 0; i < css_urls.length; i++) {\n",
       "      const url = css_urls[i];\n",
       "      const element = document.createElement(\"link\");\n",
       "      element.onload = on_load;\n",
       "      element.onerror = on_error.bind(null, url);\n",
       "      element.rel = \"stylesheet\";\n",
       "      element.type = \"text/css\";\n",
       "      element.href = url;\n",
       "      console.debug(\"Bokeh: injecting link tag for BokehJS stylesheet: \", url);\n",
       "      document.body.appendChild(element);\n",
       "    }\n",
       "\n",
       "    for (let i = 0; i < js_urls.length; i++) {\n",
       "      const url = js_urls[i];\n",
       "      const element = document.createElement('script');\n",
       "      element.onload = on_load;\n",
       "      element.onerror = on_error.bind(null, url);\n",
       "      element.async = false;\n",
       "      element.src = url;\n",
       "      console.debug(\"Bokeh: injecting script tag for BokehJS library: \", url);\n",
       "      document.head.appendChild(element);\n",
       "    }\n",
       "  };\n",
       "\n",
       "  function inject_raw_css(css) {\n",
       "    const element = document.createElement(\"style\");\n",
       "    element.appendChild(document.createTextNode(css));\n",
       "    document.body.appendChild(element);\n",
       "  }\n",
       "\n",
       "  const js_urls = [\"https://cdn.bokeh.org/bokeh/release/bokeh-3.3.4.min.js\", \"https://cdn.bokeh.org/bokeh/release/bokeh-gl-3.3.4.min.js\", \"https://cdn.bokeh.org/bokeh/release/bokeh-widgets-3.3.4.min.js\", \"https://cdn.bokeh.org/bokeh/release/bokeh-tables-3.3.4.min.js\", \"https://cdn.bokeh.org/bokeh/release/bokeh-mathjax-3.3.4.min.js\"];\n",
       "  const css_urls = [];\n",
       "\n",
       "  const inline_js = [    function(Bokeh) {\n",
       "      Bokeh.set_log_level(\"info\");\n",
       "    },\n",
       "function(Bokeh) {\n",
       "    }\n",
       "  ];\n",
       "\n",
       "  function run_inline_js() {\n",
       "    if (root.Bokeh !== undefined || force === true) {\n",
       "          for (let i = 0; i < inline_js.length; i++) {\n",
       "      inline_js[i].call(root, root.Bokeh);\n",
       "    }\n",
       "if (force === true) {\n",
       "        display_loaded();\n",
       "      }} else if (Date.now() < root._bokeh_timeout) {\n",
       "      setTimeout(run_inline_js, 100);\n",
       "    } else if (!root._bokeh_failed_load) {\n",
       "      console.log(\"Bokeh: BokehJS failed to load within specified timeout.\");\n",
       "      root._bokeh_failed_load = true;\n",
       "    } else if (force !== true) {\n",
       "      const cell = $(document.getElementById(\"aaaeb71f-ac1b-4e8f-bad3-1d919798b44d\")).parents('.cell').data().cell;\n",
       "      cell.output_area.append_execute_result(NB_LOAD_WARNING)\n",
       "    }\n",
       "  }\n",
       "\n",
       "  if (root._bokeh_is_loading === 0) {\n",
       "    console.debug(\"Bokeh: BokehJS loaded, going straight to plotting\");\n",
       "    run_inline_js();\n",
       "  } else {\n",
       "    load_libs(css_urls, js_urls, function() {\n",
       "      console.debug(\"Bokeh: BokehJS plotting callback run at\", now());\n",
       "      run_inline_js();\n",
       "    });\n",
       "  }\n",
       "}(window));"
      ],
      "application/vnd.bokehjs_load.v0+json": "(function(root) {\n  function now() {\n    return new Date();\n  }\n\n  const force = true;\n\n  if (typeof root._bokeh_onload_callbacks === \"undefined\" || force === true) {\n    root._bokeh_onload_callbacks = [];\n    root._bokeh_is_loading = undefined;\n  }\n\n\n  if (typeof (root._bokeh_timeout) === \"undefined\" || force === true) {\n    root._bokeh_timeout = Date.now() + 5000;\n    root._bokeh_failed_load = false;\n  }\n\n  const NB_LOAD_WARNING = {'data': {'text/html':\n     \"<div style='background-color: #fdd'>\\n\"+\n     \"<p>\\n\"+\n     \"BokehJS does not appear to have successfully loaded. If loading BokehJS from CDN, this \\n\"+\n     \"may be due to a slow or bad network connection. Possible fixes:\\n\"+\n     \"</p>\\n\"+\n     \"<ul>\\n\"+\n     \"<li>re-rerun `output_notebook()` to attempt to load from CDN again, or</li>\\n\"+\n     \"<li>use INLINE resources instead, as so:</li>\\n\"+\n     \"</ul>\\n\"+\n     \"<code>\\n\"+\n     \"from bokeh.resources import INLINE\\n\"+\n     \"output_notebook(resources=INLINE)\\n\"+\n     \"</code>\\n\"+\n     \"</div>\"}};\n\n  function display_loaded() {\n    const el = document.getElementById(\"aaaeb71f-ac1b-4e8f-bad3-1d919798b44d\");\n    if (el != null) {\n      el.textContent = \"BokehJS is loading...\";\n    }\n    if (root.Bokeh !== undefined) {\n      if (el != null) {\n        el.textContent = \"BokehJS \" + root.Bokeh.version + \" successfully loaded.\";\n      }\n    } else if (Date.now() < root._bokeh_timeout) {\n      setTimeout(display_loaded, 100)\n    }\n  }\n\n  function run_callbacks() {\n    try {\n      root._bokeh_onload_callbacks.forEach(function(callback) {\n        if (callback != null)\n          callback();\n      });\n    } finally {\n      delete root._bokeh_onload_callbacks\n    }\n    console.debug(\"Bokeh: all callbacks have finished\");\n  }\n\n  function load_libs(css_urls, js_urls, callback) {\n    if (css_urls == null) css_urls = [];\n    if (js_urls == null) js_urls = [];\n\n    root._bokeh_onload_callbacks.push(callback);\n    if (root._bokeh_is_loading > 0) {\n      console.debug(\"Bokeh: BokehJS is being loaded, scheduling callback at\", now());\n      return null;\n    }\n    if (js_urls == null || js_urls.length === 0) {\n      run_callbacks();\n      return null;\n    }\n    console.debug(\"Bokeh: BokehJS not loaded, scheduling load and callback at\", now());\n    root._bokeh_is_loading = css_urls.length + js_urls.length;\n\n    function on_load() {\n      root._bokeh_is_loading--;\n      if (root._bokeh_is_loading === 0) {\n        console.debug(\"Bokeh: all BokehJS libraries/stylesheets loaded\");\n        run_callbacks()\n      }\n    }\n\n    function on_error(url) {\n      console.error(\"failed to load \" + url);\n    }\n\n    for (let i = 0; i < css_urls.length; i++) {\n      const url = css_urls[i];\n      const element = document.createElement(\"link\");\n      element.onload = on_load;\n      element.onerror = on_error.bind(null, url);\n      element.rel = \"stylesheet\";\n      element.type = \"text/css\";\n      element.href = url;\n      console.debug(\"Bokeh: injecting link tag for BokehJS stylesheet: \", url);\n      document.body.appendChild(element);\n    }\n\n    for (let i = 0; i < js_urls.length; i++) {\n      const url = js_urls[i];\n      const element = document.createElement('script');\n      element.onload = on_load;\n      element.onerror = on_error.bind(null, url);\n      element.async = false;\n      element.src = url;\n      console.debug(\"Bokeh: injecting script tag for BokehJS library: \", url);\n      document.head.appendChild(element);\n    }\n  };\n\n  function inject_raw_css(css) {\n    const element = document.createElement(\"style\");\n    element.appendChild(document.createTextNode(css));\n    document.body.appendChild(element);\n  }\n\n  const js_urls = [\"https://cdn.bokeh.org/bokeh/release/bokeh-3.3.4.min.js\", \"https://cdn.bokeh.org/bokeh/release/bokeh-gl-3.3.4.min.js\", \"https://cdn.bokeh.org/bokeh/release/bokeh-widgets-3.3.4.min.js\", \"https://cdn.bokeh.org/bokeh/release/bokeh-tables-3.3.4.min.js\", \"https://cdn.bokeh.org/bokeh/release/bokeh-mathjax-3.3.4.min.js\"];\n  const css_urls = [];\n\n  const inline_js = [    function(Bokeh) {\n      Bokeh.set_log_level(\"info\");\n    },\nfunction(Bokeh) {\n    }\n  ];\n\n  function run_inline_js() {\n    if (root.Bokeh !== undefined || force === true) {\n          for (let i = 0; i < inline_js.length; i++) {\n      inline_js[i].call(root, root.Bokeh);\n    }\nif (force === true) {\n        display_loaded();\n      }} else if (Date.now() < root._bokeh_timeout) {\n      setTimeout(run_inline_js, 100);\n    } else if (!root._bokeh_failed_load) {\n      console.log(\"Bokeh: BokehJS failed to load within specified timeout.\");\n      root._bokeh_failed_load = true;\n    } else if (force !== true) {\n      const cell = $(document.getElementById(\"aaaeb71f-ac1b-4e8f-bad3-1d919798b44d\")).parents('.cell').data().cell;\n      cell.output_area.append_execute_result(NB_LOAD_WARNING)\n    }\n  }\n\n  if (root._bokeh_is_loading === 0) {\n    console.debug(\"Bokeh: BokehJS loaded, going straight to plotting\");\n    run_inline_js();\n  } else {\n    load_libs(css_urls, js_urls, function() {\n      console.debug(\"Bokeh: BokehJS plotting callback run at\", now());\n      run_inline_js();\n    });\n  }\n}(window));"
     },
     "metadata": {},
     "output_type": "display_data"
    },
    {
     "data": {
      "text/html": [
       "\n",
       "  <div id=\"b62d2f4d-45b4-4fd4-bc39-4f9f584b3a72\" data-root-id=\"p1552\" style=\"display: contents;\"></div>\n"
      ]
     },
     "metadata": {},
     "output_type": "display_data"
    },
    {
     "data": {
      "application/javascript": [
       "(function(root) {\n",
       "  function embed_document(root) {\n",
       "  const docs_json = {\"e35170a3-d84f-4707-98d1-794dce01ac48\":{\"version\":\"3.3.4\",\"title\":\"Bokeh Application\",\"roots\":[{\"type\":\"object\",\"name\":\"Figure\",\"id\":\"p1552\",\"attributes\":{\"width\":400,\"height\":200,\"x_range\":{\"type\":\"object\",\"name\":\"DataRange1d\",\"id\":\"p1553\"},\"y_range\":{\"type\":\"object\",\"name\":\"DataRange1d\",\"id\":\"p1554\"},\"x_scale\":{\"type\":\"object\",\"name\":\"LinearScale\",\"id\":\"p1562\"},\"y_scale\":{\"type\":\"object\",\"name\":\"LinearScale\",\"id\":\"p1563\"},\"title\":{\"type\":\"object\",\"name\":\"Title\",\"id\":\"p1555\",\"attributes\":{\"text\":\"Sine Wave Function\"}},\"renderers\":[{\"type\":\"object\",\"name\":\"GlyphRenderer\",\"id\":\"p1591\",\"attributes\":{\"data_source\":{\"type\":\"object\",\"name\":\"ColumnDataSource\",\"id\":\"p1585\",\"attributes\":{\"selected\":{\"type\":\"object\",\"name\":\"Selection\",\"id\":\"p1586\",\"attributes\":{\"indices\":[],\"line_indices\":[]}},\"selection_policy\":{\"type\":\"object\",\"name\":\"UnionRenderers\",\"id\":\"p1587\"},\"data\":{\"type\":\"map\",\"entries\":[[\"x\",{\"type\":\"ndarray\",\"array\":{\"type\":\"bytes\",\"data\":\"AAAAAAAAAACRGkt8Vz+wP5EaS3xXP8A/2qdwOgNfyD+RGkt8Vz/QPzXhXVstT9Q/2qdwOgNf2D9+boMZ2W7cP5EaS3xXP+A/433Ua0JH4j814V1bLU/kP4dE50oYV+Y/2qdwOgNf6D8sC/op7mbqP35ugxnZbuw/0NEMCcR27j+RGkt8Vz/wPzrMD/RMQ/E/433Ua0JH8j+ML5njN0vzPzXhXVstT/Q/3pIi0yJT9T+HROdKGFf2PzD2q8INW/c/2qdwOgNf+D+DWTWy+GL5PywL+inuZvo/1by+oeNq+z9+boMZ2W78PycgSJHOcv0/0NEMCcR2/j95g9GAuXr/P5EaS3xXPwBAZnMtOFLBAEA6zA/0TEMBQA8l8q9HxQFA433Ua0JHAkC41rYnPckCQIwvmeM3SwNAYYh7nzLNA0A14V1bLU8EQAo6QBco0QRA3pIi0yJTBUCz6wSPHdUFQIdE50oYVwZAXJ3JBhPZBkAw9qvCDVsHQAVPjn4I3QdA2qdwOgNfCECuAFP2/eAIQINZNbL4YglAV7IXbvPkCUAsC/op7mYKQABk3OXo6ApA1by+oeNqC0CpFaFd3uwLQH5ugxnZbgxAUsdl1dPwDEAnIEiRznINQPt4Kk3J9A1A0NEMCcR2DkCkKu/EvvgOQHmD0YC5eg9ATdyzPLT8D0CRGkt8Vz8QQPtGPNpUgBBAZnMtOFLBEEDQnx6WTwIRQDrMD/RMQxFApPgAUkqEEUAPJfKvR8URQHlR4w1FBhJA433Ua0JHEkBNqsXJP4gSQLjWtic9yRJAIgOohToKE0CML5njN0sTQPZbikE1jBNAYYh7nzLNE0DLtGz9Lw4UQDXhXVstTxRAoA1PuSqQFEAKOkAXKNEUQHRmMXUlEhVA3pIi0yJTFUBJvxMxIJQVQLPrBI8d1RVAHRj27BoWFkCHROdKGFcWQPJw2KgVmBZAXJ3JBhPZFkDGybpkEBoXQDD2q8INWxdAmyKdIAucF0AFT45+CN0XQG97f9wFHhhA2qdwOgNfGEBE1GGYAKAYQK4AU/b94BhAGC1EVPshGUA=\"},\"shape\":[100],\"dtype\":\"float64\",\"order\":\"little\"}],[\"y\",{\"type\":\"ndarray\",\"array\":{\"type\":\"bytes\",\"data\":\"AAAAAAAAAAADhrXMjDywP/CDAnguNMA/kayggGI5yD+aiNkBzxLQP9ofIiFb+NM/+5MNU1HJ1z+CQNqEwoHbPxhNPurYHd8/C1i7+O1M4T9GhZoMGvniPxwWPFK3keQ/ABg/lCAV5j+GGZN4xoHnP4hAIRwx1ug/lkFFlgER6j93zoZi8zDrPzKcHq/dNOw/EyzujrQb7T/B8a4NiuTtP/0jPCWPju4/3176khQZ7z8XHIGMi4PvPzTGy1KGze8/g6xao7j27z/vOc8G+P7vP2Zmsvw75u8/70I4BJ6s7z+/l/eBWVLvPwOssILL1+4/xVNiW3I97j+TIxAn7YPtP1EHwCL7q+w/qkxY6Hq26z+RVimJaaTqP5aCD4nhduk/oSg6uxkv6D+158MBZM7mP9KHZvErVuU/8nixWvXH4z8mRkW6WiXiP2ITsJELcOA/8qg+VZVT3T/agWKM2KjZP/gLinSo49U/v412/ecH0j/lKaSyIjPMP+bENsZjOcQ/3FNHxZdVuD+s23zJpD6gP8nbfMmkPqC/6lNHxZdVuL/txDbGYznEv9wppLIiM8y/wo12/ecH0r/0C4p0qOPVv92BYozYqNm/7qg+VZVT3b9jE7CRC3DgvyRGRbpaJeK/83ixWvXH47/Rh2bxK1blv7fnwwFkzua/oCg6uxkv6L+Xgg+J4Xbpv5BWKYlppOq/rExY6Hq2679SB8Ai+6vsv5MjECftg+2/xFNiW3I97r8ErLCCy9fuv7+X94FZUu+/70I4BJ6s779lZrL8O+bvv+85zwb4/u+/g6xao7j27780xstShs3vvxgcgYyLg++/3176khQZ77/9Izwlj47uv8Lxrg2K5O2/EizujrQb7b8xnB6v3TTsv3fOhmLzMOu/l0FFlgER6r+GQCEcMdbov4QZk3jGgee/ABg/lCAV5r8fFjxSt5Hkv0SFmgwa+eK/Cli7+O1M4b8bTT7q2B3fv4dA2oTCgdu/9ZMNU1HJ17/ZHyIhW/jTv52I2QHPEtC/gKyggGI5yL/ogwJ4LjTAvwSGtcyMPLC/B1wUMyamsbw=\"},\"shape\":[100],\"dtype\":\"float64\",\"order\":\"little\"}]]}}},\"view\":{\"type\":\"object\",\"name\":\"CDSView\",\"id\":\"p1592\",\"attributes\":{\"filter\":{\"type\":\"object\",\"name\":\"AllIndices\",\"id\":\"p1593\"}}},\"glyph\":{\"type\":\"object\",\"name\":\"Line\",\"id\":\"p1588\",\"attributes\":{\"x\":{\"type\":\"field\",\"field\":\"x\"},\"y\":{\"type\":\"field\",\"field\":\"y\"},\"line_color\":\"#1f77b4\",\"line_width\":3}},\"nonselection_glyph\":{\"type\":\"object\",\"name\":\"Line\",\"id\":\"p1589\",\"attributes\":{\"x\":{\"type\":\"field\",\"field\":\"x\"},\"y\":{\"type\":\"field\",\"field\":\"y\"},\"line_color\":\"#1f77b4\",\"line_alpha\":0.1,\"line_width\":3}},\"muted_glyph\":{\"type\":\"object\",\"name\":\"Line\",\"id\":\"p1590\",\"attributes\":{\"x\":{\"type\":\"field\",\"field\":\"x\"},\"y\":{\"type\":\"field\",\"field\":\"y\"},\"line_color\":\"#1f77b4\",\"line_alpha\":0.2,\"line_width\":3}}}}],\"toolbar\":{\"type\":\"object\",\"name\":\"Toolbar\",\"id\":\"p1561\",\"attributes\":{\"tools\":[{\"type\":\"object\",\"name\":\"PanTool\",\"id\":\"p1574\"},{\"type\":\"object\",\"name\":\"WheelZoomTool\",\"id\":\"p1575\",\"attributes\":{\"renderers\":\"auto\"}},{\"type\":\"object\",\"name\":\"BoxZoomTool\",\"id\":\"p1576\",\"attributes\":{\"overlay\":{\"type\":\"object\",\"name\":\"BoxAnnotation\",\"id\":\"p1577\",\"attributes\":{\"syncable\":false,\"level\":\"overlay\",\"visible\":false,\"left\":{\"type\":\"number\",\"value\":\"nan\"},\"right\":{\"type\":\"number\",\"value\":\"nan\"},\"top\":{\"type\":\"number\",\"value\":\"nan\"},\"bottom\":{\"type\":\"number\",\"value\":\"nan\"},\"left_units\":\"canvas\",\"right_units\":\"canvas\",\"top_units\":\"canvas\",\"bottom_units\":\"canvas\",\"line_color\":\"black\",\"line_alpha\":1.0,\"line_width\":2,\"line_dash\":[4,4],\"fill_color\":\"lightgrey\",\"fill_alpha\":0.5}}}},{\"type\":\"object\",\"name\":\"SaveTool\",\"id\":\"p1582\"},{\"type\":\"object\",\"name\":\"ResetTool\",\"id\":\"p1583\"},{\"type\":\"object\",\"name\":\"HelpTool\",\"id\":\"p1584\"}]}},\"left\":[{\"type\":\"object\",\"name\":\"LinearAxis\",\"id\":\"p1569\",\"attributes\":{\"ticker\":{\"type\":\"object\",\"name\":\"BasicTicker\",\"id\":\"p1570\",\"attributes\":{\"mantissas\":[1,2,5]}},\"formatter\":{\"type\":\"object\",\"name\":\"BasicTickFormatter\",\"id\":\"p1571\"},\"axis_label\":\"Y-axis\",\"major_label_policy\":{\"type\":\"object\",\"name\":\"AllLabels\",\"id\":\"p1572\"}}}],\"below\":[{\"type\":\"object\",\"name\":\"LinearAxis\",\"id\":\"p1564\",\"attributes\":{\"ticker\":{\"type\":\"object\",\"name\":\"BasicTicker\",\"id\":\"p1565\",\"attributes\":{\"mantissas\":[1,2,5]}},\"formatter\":{\"type\":\"object\",\"name\":\"BasicTickFormatter\",\"id\":\"p1566\"},\"axis_label\":\"X-axis\",\"major_label_policy\":{\"type\":\"object\",\"name\":\"AllLabels\",\"id\":\"p1567\"}}}],\"center\":[{\"type\":\"object\",\"name\":\"Grid\",\"id\":\"p1568\",\"attributes\":{\"axis\":{\"id\":\"p1564\"},\"grid_line_color\":\"gray\"}},{\"type\":\"object\",\"name\":\"Grid\",\"id\":\"p1573\",\"attributes\":{\"dimension\":1,\"axis\":{\"id\":\"p1569\"},\"grid_line_color\":\"gray\"}},{\"type\":\"object\",\"name\":\"Legend\",\"id\":\"p1594\",\"attributes\":{\"items\":[{\"type\":\"object\",\"name\":\"LegendItem\",\"id\":\"p1595\",\"attributes\":{\"label\":{\"type\":\"value\",\"value\":\"sin(x)\"},\"renderers\":[{\"id\":\"p1591\"}]}}]}}]}}]}};\n",
       "  const render_items = [{\"docid\":\"e35170a3-d84f-4707-98d1-794dce01ac48\",\"roots\":{\"p1552\":\"b62d2f4d-45b4-4fd4-bc39-4f9f584b3a72\"},\"root_ids\":[\"p1552\"]}];\n",
       "  root.Bokeh.embed.embed_items_notebook(docs_json, render_items);\n",
       "  }\n",
       "  if (root.Bokeh !== undefined) {\n",
       "    embed_document(root);\n",
       "  } else {\n",
       "    let attempts = 0;\n",
       "    const timer = setInterval(function(root) {\n",
       "      if (root.Bokeh !== undefined) {\n",
       "        clearInterval(timer);\n",
       "        embed_document(root);\n",
       "      } else {\n",
       "        attempts++;\n",
       "        if (attempts > 100) {\n",
       "          clearInterval(timer);\n",
       "          console.log(\"Bokeh: ERROR: Unable to run BokehJS code because BokehJS library is missing\");\n",
       "        }\n",
       "      }\n",
       "    }, 10, root)\n",
       "  }\n",
       "})(window);"
      ],
      "application/vnd.bokehjs_exec.v0+json": ""
     },
     "metadata": {
      "application/vnd.bokehjs_exec.v0+json": {
       "id": "p1552"
      }
     },
     "output_type": "display_data"
    }
   ],
   "source": [
    "\n",
    "'''18)With Bokeh, plot a line chart of a sine wave function, add grid lines, label the axes, and set the title as 'Sine \n",
    "Wave Function'.'''\n",
    "\n",
    "import bokeh.io\n",
    "import bokeh.plotting\n",
    "\n",
    "# Enable Bokeh to output to the notebook\n",
    "bokeh.io.output_notebook()\n",
    "from bokeh.plotting import figure , output_file,show\n",
    "\n",
    "# Step 1: Generate data for the sine wave\n",
    "x=np.linspace(0,2*np.pi,100)  # X values from 0 to 2π \n",
    "y=np.sin(x)  # Y values as the sine of X\n",
    "\n",
    "# Step 2: Create a Bokeh figure\n",
    "p=figure( title ='Sine Wave Function',x_axis_label='X-axis',y_axis_label='Y-axis',width=400,height=200)\n",
    "\n",
    "# Step 3: Add a line to the figure\n",
    "\n",
    "p.line(x,y,legend_label='sin(x)',line_width=3)\n",
    "\n",
    "p.grid.grid_line_color='gray' \n",
    "show(p)\n"
   ]
  },
  {
   "cell_type": "code",
   "execution_count": 307,
   "id": "3f73d2b3-0aba-49b7-b5fc-50d3fa87ed8b",
   "metadata": {},
   "outputs": [
    {
     "data": {
      "text/html": [
       "\n",
       "  <div id=\"dcdb8f93-8387-4bf8-934c-53e21f0ade1a\" data-root-id=\"p1854\" style=\"display: contents;\"></div>\n"
      ]
     },
     "metadata": {},
     "output_type": "display_data"
    },
    {
     "data": {
      "application/javascript": [
       "(function(root) {\n",
       "  function embed_document(root) {\n",
       "  const docs_json = {\"bec5fc1e-a455-459a-8d4e-d1be97026c49\":{\"version\":\"3.3.4\",\"title\":\"Bokeh Application\",\"roots\":[{\"type\":\"object\",\"name\":\"Figure\",\"id\":\"p1854\",\"attributes\":{\"width\":800,\"height\":400,\"x_range\":{\"type\":\"object\",\"name\":\"FactorRange\",\"id\":\"p1864\",\"attributes\":{\"factors\":[\"A\",\"B\",\"C\",\"D\",\"E\"]}},\"y_range\":{\"type\":\"object\",\"name\":\"DataRange1d\",\"id\":\"p1856\"},\"x_scale\":{\"type\":\"object\",\"name\":\"CategoricalScale\",\"id\":\"p1865\"},\"y_scale\":{\"type\":\"object\",\"name\":\"LinearScale\",\"id\":\"p1866\"},\"title\":{\"type\":\"object\",\"name\":\"Title\",\"id\":\"p1857\",\"attributes\":{\"text\":\"Random Categorical Bar Chart\"}},\"renderers\":[{\"type\":\"object\",\"name\":\"GlyphRenderer\",\"id\":\"p1894\",\"attributes\":{\"data_source\":{\"type\":\"object\",\"name\":\"ColumnDataSource\",\"id\":\"p1851\",\"attributes\":{\"selected\":{\"type\":\"object\",\"name\":\"Selection\",\"id\":\"p1852\",\"attributes\":{\"indices\":[],\"line_indices\":[]}},\"selection_policy\":{\"type\":\"object\",\"name\":\"UnionRenderers\",\"id\":\"p1853\"},\"data\":{\"type\":\"map\",\"entries\":[[\"index\",{\"type\":\"ndarray\",\"array\":{\"type\":\"bytes\",\"data\":\"AAAAAAEAAAACAAAAAwAAAAQAAAA=\"},\"shape\":[5],\"dtype\":\"int32\",\"order\":\"little\"}],[\"Category\",{\"type\":\"ndarray\",\"array\":[\"A\",\"B\",\"C\",\"D\",\"E\"],\"shape\":[5],\"dtype\":\"object\",\"order\":\"little\"}],[\"Value\",{\"type\":\"ndarray\",\"array\":{\"type\":\"bytes\",\"data\":\"MQAAADQAAAAqAAAARgAAAA8AAAA=\"},\"shape\":[5],\"dtype\":\"int32\",\"order\":\"little\"}]]}}},\"view\":{\"type\":\"object\",\"name\":\"CDSView\",\"id\":\"p1895\",\"attributes\":{\"filter\":{\"type\":\"object\",\"name\":\"AllIndices\",\"id\":\"p1896\"}}},\"glyph\":{\"type\":\"object\",\"name\":\"VBar\",\"id\":\"p1891\",\"attributes\":{\"x\":{\"type\":\"field\",\"field\":\"Category\"},\"width\":{\"type\":\"value\",\"value\":0.8},\"top\":{\"type\":\"field\",\"field\":\"Value\"},\"fill_color\":{\"type\":\"value\",\"value\":\"#1f77b4\"}}},\"nonselection_glyph\":{\"type\":\"object\",\"name\":\"VBar\",\"id\":\"p1892\",\"attributes\":{\"x\":{\"type\":\"field\",\"field\":\"Category\"},\"width\":{\"type\":\"value\",\"value\":0.8},\"top\":{\"type\":\"field\",\"field\":\"Value\"},\"line_alpha\":{\"type\":\"value\",\"value\":0.1},\"fill_color\":{\"type\":\"value\",\"value\":\"#1f77b4\"},\"fill_alpha\":{\"type\":\"value\",\"value\":0.1},\"hatch_alpha\":{\"type\":\"value\",\"value\":0.1}}},\"muted_glyph\":{\"type\":\"object\",\"name\":\"VBar\",\"id\":\"p1893\",\"attributes\":{\"x\":{\"type\":\"field\",\"field\":\"Category\"},\"width\":{\"type\":\"value\",\"value\":0.8},\"top\":{\"type\":\"field\",\"field\":\"Value\"},\"line_alpha\":{\"type\":\"value\",\"value\":0.2},\"fill_color\":{\"type\":\"value\",\"value\":\"#1f77b4\"},\"fill_alpha\":{\"type\":\"value\",\"value\":0.2},\"hatch_alpha\":{\"type\":\"value\",\"value\":0.2}}}}}],\"toolbar\":{\"type\":\"object\",\"name\":\"Toolbar\",\"id\":\"p1863\",\"attributes\":{\"tools\":[{\"type\":\"object\",\"name\":\"PanTool\",\"id\":\"p1877\"},{\"type\":\"object\",\"name\":\"WheelZoomTool\",\"id\":\"p1878\",\"attributes\":{\"renderers\":\"auto\"}},{\"type\":\"object\",\"name\":\"BoxZoomTool\",\"id\":\"p1879\",\"attributes\":{\"overlay\":{\"type\":\"object\",\"name\":\"BoxAnnotation\",\"id\":\"p1880\",\"attributes\":{\"syncable\":false,\"level\":\"overlay\",\"visible\":false,\"left\":{\"type\":\"number\",\"value\":\"nan\"},\"right\":{\"type\":\"number\",\"value\":\"nan\"},\"top\":{\"type\":\"number\",\"value\":\"nan\"},\"bottom\":{\"type\":\"number\",\"value\":\"nan\"},\"left_units\":\"canvas\",\"right_units\":\"canvas\",\"top_units\":\"canvas\",\"bottom_units\":\"canvas\",\"line_color\":\"black\",\"line_alpha\":1.0,\"line_width\":2,\"line_dash\":[4,4],\"fill_color\":\"lightgrey\",\"fill_alpha\":0.5}}}},{\"type\":\"object\",\"name\":\"SaveTool\",\"id\":\"p1885\"},{\"type\":\"object\",\"name\":\"ResetTool\",\"id\":\"p1886\"},{\"type\":\"object\",\"name\":\"HelpTool\",\"id\":\"p1887\"},{\"type\":\"object\",\"name\":\"HoverTool\",\"id\":\"p1899\",\"attributes\":{\"renderers\":\"auto\",\"tooltips\":[[\"Category\",\"@Category\"],[\"Value\",\"@Value\"]]}}]}},\"left\":[{\"type\":\"object\",\"name\":\"LinearAxis\",\"id\":\"p1872\",\"attributes\":{\"ticker\":{\"type\":\"object\",\"name\":\"BasicTicker\",\"id\":\"p1873\",\"attributes\":{\"mantissas\":[1,2,5]}},\"formatter\":{\"type\":\"object\",\"name\":\"BasicTickFormatter\",\"id\":\"p1874\"},\"axis_label\":\"Va lue\",\"major_label_policy\":{\"type\":\"object\",\"name\":\"AllLabels\",\"id\":\"p1875\"}}}],\"below\":[{\"type\":\"object\",\"name\":\"CategoricalAxis\",\"id\":\"p1867\",\"attributes\":{\"ticker\":{\"type\":\"object\",\"name\":\"CategoricalTicker\",\"id\":\"p1868\"},\"formatter\":{\"type\":\"object\",\"name\":\"CategoricalTickFormatter\",\"id\":\"p1869\"},\"axis_label\":\"Category\",\"major_label_policy\":{\"type\":\"object\",\"name\":\"AllLabels\",\"id\":\"p1870\"}}}],\"center\":[{\"type\":\"object\",\"name\":\"Grid\",\"id\":\"p1871\",\"attributes\":{\"axis\":{\"id\":\"p1867\"}}},{\"type\":\"object\",\"name\":\"Grid\",\"id\":\"p1876\",\"attributes\":{\"dimension\":1,\"axis\":{\"id\":\"p1872\"}}},{\"type\":\"object\",\"name\":\"Legend\",\"id\":\"p1897\",\"attributes\":{\"location\":\"top_center\",\"orientation\":\"horizontal\",\"title\":\"Categories\",\"items\":[{\"type\":\"object\",\"name\":\"LegendItem\",\"id\":\"p1898\",\"attributes\":{\"label\":{\"type\":\"field\",\"field\":\"Category\"},\"renderers\":[{\"id\":\"p1894\"}]}}]}}]}}]}};\n",
       "  const render_items = [{\"docid\":\"bec5fc1e-a455-459a-8d4e-d1be97026c49\",\"roots\":{\"p1854\":\"dcdb8f93-8387-4bf8-934c-53e21f0ade1a\"},\"root_ids\":[\"p1854\"]}];\n",
       "  root.Bokeh.embed.embed_items_notebook(docs_json, render_items);\n",
       "  }\n",
       "  if (root.Bokeh !== undefined) {\n",
       "    embed_document(root);\n",
       "  } else {\n",
       "    let attempts = 0;\n",
       "    const timer = setInterval(function(root) {\n",
       "      if (root.Bokeh !== undefined) {\n",
       "        clearInterval(timer);\n",
       "        embed_document(root);\n",
       "      } else {\n",
       "        attempts++;\n",
       "        if (attempts > 100) {\n",
       "          clearInterval(timer);\n",
       "          console.log(\"Bokeh: ERROR: Unable to run BokehJS code because BokehJS library is missing\");\n",
       "        }\n",
       "      }\n",
       "    }, 10, root)\n",
       "  }\n",
       "})(window);"
      ],
      "application/vnd.bokehjs_exec.v0+json": ""
     },
     "metadata": {
      "application/vnd.bokehjs_exec.v0+json": {
       "id": "p1854"
      }
     },
     "output_type": "display_data"
    }
   ],
   "source": [
    " ''''19)Using Bokeh, generate a bar chart of randomly generated categorical data, color bars based on their \n",
    "values, add hover tooltips to display exact values, label the axes, and set the title as 'Random Categorical \n",
    "Bar Chart'''\n",
    "\n",
    "from bokeh.models import ColumnDataSource, HoverTool\n",
    "from bokeh.transform import factor_cmap\n",
    "from bokeh.palettes import Viridis256\n",
    "\n",
    "\n",
    "# Step 1: Generate random categorical data\n",
    "categories = ['A', 'B', 'C', 'D', 'E']  # Define categories\n",
    "values = np.random.randint(1, 100, size=len(categories))  # Generate random values\n",
    "\n",
    "# Create a DataFrame\n",
    "df = pd.DataFrame({'Category': categories, 'Value': values})\n",
    "\n",
    "# Step 2: Create a ColumnDataSource from the DataFrame\n",
    "source = ColumnDataSource(df)\n",
    "\n",
    "# Step 3: Create a Bokeh figure\n",
    "p = figure(x_range=categories, \n",
    "           height=400, \n",
    "           width=800, \n",
    "           title=\"Random Categorical Bar Chart\", \n",
    "           x_axis_label='Category', \n",
    "           y_axis_label='Va lue')\n",
    "\n",
    "# Step 4: Add a bar glyph with color mapping\n",
    "p.vbar(x='Category', top='Value', width=0.8, source=source, legend_field='Category',line_color='black')\n",
    "\n",
    "# Step 5: Add hover tooltips to display exact values\n",
    "hover = HoverTool()\n",
    "hover.tooltips = [(\"Category\", \"@Category\"),(\"Value\", \"@Value\")]\n",
    "p.add_tools(hover)\n",
    "\n",
    "# Customize the legend\n",
    "p.legend.title = \"Categories\"\n",
    "p.legend.orientation = \"horizontal\"\n",
    "p.legend.location = \"top_center\"\n",
    "\n",
    "# Display the plot\n",
    "show(p)\n"
   ]
  },
  {
   "cell_type": "code",
   "execution_count": 328,
   "id": "2b7b5173-c94a-45f0-93d9-a69784047725",
   "metadata": {},
   "outputs": [
    {
     "data": {
      "application/vnd.plotly.v1+json": {
       "config": {
        "plotlyServerURL": "https://plot.ly"
       },
       "data": [
        {
         "line": {
          "color": "blue"
         },
         "mode": "lines",
         "name": "Random Data",
         "type": "scatter",
         "x": [
          0,
          1,
          2,
          3,
          4,
          5,
          6,
          7,
          8,
          9,
          10,
          11,
          12,
          13,
          14,
          15,
          16,
          17,
          18,
          19,
          20,
          21,
          22,
          23,
          24,
          25,
          26,
          27,
          28,
          29,
          30,
          31,
          32,
          33,
          34,
          35,
          36,
          37,
          38,
          39,
          40,
          41,
          42,
          43,
          44,
          45,
          46,
          47,
          48,
          49,
          50,
          51,
          52,
          53,
          54,
          55,
          56,
          57,
          58,
          59,
          60,
          61,
          62,
          63,
          64,
          65,
          66,
          67,
          68,
          69,
          70,
          71,
          72,
          73,
          74,
          75,
          76,
          77,
          78,
          79,
          80,
          81,
          82,
          83,
          84,
          85,
          86,
          87,
          88,
          89,
          90,
          91,
          92,
          93,
          94,
          95,
          96,
          97,
          98,
          99
         ],
         "y": [
          0.4967141530112327,
          -0.13826430117118466,
          0.6476885381006925,
          1.5230298564080254,
          -0.23415337472333597,
          -0.23413695694918055,
          1.5792128155073915,
          0.7674347291529088,
          -0.4694743859349521,
          0.5425600435859647,
          -0.46341769281246226,
          -0.46572975357025687,
          0.24196227156603412,
          -1.913280244657798,
          -1.7249178325130328,
          -0.5622875292409727,
          -1.0128311203344238,
          0.3142473325952739,
          -0.9080240755212109,
          -1.4123037013352915,
          1.465648768921554,
          -0.22577630048653566,
          0.06752820468792384,
          -1.4247481862134568,
          -0.5443827245251827,
          0.11092258970986608,
          -1.1509935774223028,
          0.37569801834567196,
          -0.600638689918805,
          -0.2916937497932768,
          -0.6017066122293969,
          1.8522781845089378,
          -0.013497224737933921,
          -1.0577109289559004,
          0.822544912103189,
          -1.2208436499710222,
          0.2088635950047554,
          -1.9596701238797756,
          -1.3281860488984305,
          0.19686123586912352,
          0.7384665799954104,
          0.1713682811899705,
          -0.11564828238824053,
          -0.3011036955892888,
          -1.4785219903674274,
          -0.7198442083947086,
          -0.4606387709597875,
          1.0571222262189157,
          0.3436182895684614,
          -1.763040155362734,
          0.324083969394795,
          -0.38508228041631654,
          -0.6769220003059587,
          0.6116762888408679,
          1.030999522495951,
          0.9312801191161986,
          -0.8392175232226385,
          -0.3092123758512146,
          0.33126343140356396,
          0.9755451271223592,
          -0.47917423784528995,
          -0.18565897666381712,
          -1.1063349740060282,
          -1.1962066240806708,
          0.812525822394198,
          1.356240028570823,
          -0.07201012158033385,
          1.0035328978920242,
          0.36163602504763415,
          -0.6451197546051243,
          0.36139560550841393,
          1.5380365664659692,
          -0.03582603910995154,
          1.5646436558140062,
          -2.6197451040897444,
          0.8219025043752238,
          0.08704706823817122,
          -0.29900735046586746,
          0.0917607765355023,
          -1.9875689146008928,
          -0.21967188783751193,
          0.3571125715117464,
          1.477894044741516,
          -0.5182702182736474,
          -0.8084936028931876,
          -0.5017570435845365,
          0.9154021177020741,
          0.32875110965968446,
          -0.5297602037670388,
          0.5132674331133561,
          0.09707754934804039,
          0.9686449905328892,
          -0.7020530938773524,
          -0.3276621465977682,
          -0.39210815313215763,
          -1.4635149481321186,
          0.29612027706457605,
          0.26105527217988933,
          0.00511345664246089,
          -0.23458713337514692
         ]
        }
       ],
       "layout": {
        "autosize": true,
        "template": {
         "data": {
          "bar": [
           {
            "error_x": {
             "color": "#2a3f5f"
            },
            "error_y": {
             "color": "#2a3f5f"
            },
            "marker": {
             "line": {
              "color": "white",
              "width": 0.5
             },
             "pattern": {
              "fillmode": "overlay",
              "size": 10,
              "solidity": 0.2
             }
            },
            "type": "bar"
           }
          ],
          "barpolar": [
           {
            "marker": {
             "line": {
              "color": "white",
              "width": 0.5
             },
             "pattern": {
              "fillmode": "overlay",
              "size": 10,
              "solidity": 0.2
             }
            },
            "type": "barpolar"
           }
          ],
          "carpet": [
           {
            "aaxis": {
             "endlinecolor": "#2a3f5f",
             "gridcolor": "#C8D4E3",
             "linecolor": "#C8D4E3",
             "minorgridcolor": "#C8D4E3",
             "startlinecolor": "#2a3f5f"
            },
            "baxis": {
             "endlinecolor": "#2a3f5f",
             "gridcolor": "#C8D4E3",
             "linecolor": "#C8D4E3",
             "minorgridcolor": "#C8D4E3",
             "startlinecolor": "#2a3f5f"
            },
            "type": "carpet"
           }
          ],
          "choropleth": [
           {
            "colorbar": {
             "outlinewidth": 0,
             "ticks": ""
            },
            "type": "choropleth"
           }
          ],
          "contour": [
           {
            "colorbar": {
             "outlinewidth": 0,
             "ticks": ""
            },
            "colorscale": [
             [
              0,
              "#0d0887"
             ],
             [
              0.1111111111111111,
              "#46039f"
             ],
             [
              0.2222222222222222,
              "#7201a8"
             ],
             [
              0.3333333333333333,
              "#9c179e"
             ],
             [
              0.4444444444444444,
              "#bd3786"
             ],
             [
              0.5555555555555556,
              "#d8576b"
             ],
             [
              0.6666666666666666,
              "#ed7953"
             ],
             [
              0.7777777777777778,
              "#fb9f3a"
             ],
             [
              0.8888888888888888,
              "#fdca26"
             ],
             [
              1,
              "#f0f921"
             ]
            ],
            "type": "contour"
           }
          ],
          "contourcarpet": [
           {
            "colorbar": {
             "outlinewidth": 0,
             "ticks": ""
            },
            "type": "contourcarpet"
           }
          ],
          "heatmap": [
           {
            "colorbar": {
             "outlinewidth": 0,
             "ticks": ""
            },
            "colorscale": [
             [
              0,
              "#0d0887"
             ],
             [
              0.1111111111111111,
              "#46039f"
             ],
             [
              0.2222222222222222,
              "#7201a8"
             ],
             [
              0.3333333333333333,
              "#9c179e"
             ],
             [
              0.4444444444444444,
              "#bd3786"
             ],
             [
              0.5555555555555556,
              "#d8576b"
             ],
             [
              0.6666666666666666,
              "#ed7953"
             ],
             [
              0.7777777777777778,
              "#fb9f3a"
             ],
             [
              0.8888888888888888,
              "#fdca26"
             ],
             [
              1,
              "#f0f921"
             ]
            ],
            "type": "heatmap"
           }
          ],
          "heatmapgl": [
           {
            "colorbar": {
             "outlinewidth": 0,
             "ticks": ""
            },
            "colorscale": [
             [
              0,
              "#0d0887"
             ],
             [
              0.1111111111111111,
              "#46039f"
             ],
             [
              0.2222222222222222,
              "#7201a8"
             ],
             [
              0.3333333333333333,
              "#9c179e"
             ],
             [
              0.4444444444444444,
              "#bd3786"
             ],
             [
              0.5555555555555556,
              "#d8576b"
             ],
             [
              0.6666666666666666,
              "#ed7953"
             ],
             [
              0.7777777777777778,
              "#fb9f3a"
             ],
             [
              0.8888888888888888,
              "#fdca26"
             ],
             [
              1,
              "#f0f921"
             ]
            ],
            "type": "heatmapgl"
           }
          ],
          "histogram": [
           {
            "marker": {
             "pattern": {
              "fillmode": "overlay",
              "size": 10,
              "solidity": 0.2
             }
            },
            "type": "histogram"
           }
          ],
          "histogram2d": [
           {
            "colorbar": {
             "outlinewidth": 0,
             "ticks": ""
            },
            "colorscale": [
             [
              0,
              "#0d0887"
             ],
             [
              0.1111111111111111,
              "#46039f"
             ],
             [
              0.2222222222222222,
              "#7201a8"
             ],
             [
              0.3333333333333333,
              "#9c179e"
             ],
             [
              0.4444444444444444,
              "#bd3786"
             ],
             [
              0.5555555555555556,
              "#d8576b"
             ],
             [
              0.6666666666666666,
              "#ed7953"
             ],
             [
              0.7777777777777778,
              "#fb9f3a"
             ],
             [
              0.8888888888888888,
              "#fdca26"
             ],
             [
              1,
              "#f0f921"
             ]
            ],
            "type": "histogram2d"
           }
          ],
          "histogram2dcontour": [
           {
            "colorbar": {
             "outlinewidth": 0,
             "ticks": ""
            },
            "colorscale": [
             [
              0,
              "#0d0887"
             ],
             [
              0.1111111111111111,
              "#46039f"
             ],
             [
              0.2222222222222222,
              "#7201a8"
             ],
             [
              0.3333333333333333,
              "#9c179e"
             ],
             [
              0.4444444444444444,
              "#bd3786"
             ],
             [
              0.5555555555555556,
              "#d8576b"
             ],
             [
              0.6666666666666666,
              "#ed7953"
             ],
             [
              0.7777777777777778,
              "#fb9f3a"
             ],
             [
              0.8888888888888888,
              "#fdca26"
             ],
             [
              1,
              "#f0f921"
             ]
            ],
            "type": "histogram2dcontour"
           }
          ],
          "mesh3d": [
           {
            "colorbar": {
             "outlinewidth": 0,
             "ticks": ""
            },
            "type": "mesh3d"
           }
          ],
          "parcoords": [
           {
            "line": {
             "colorbar": {
              "outlinewidth": 0,
              "ticks": ""
             }
            },
            "type": "parcoords"
           }
          ],
          "pie": [
           {
            "automargin": true,
            "type": "pie"
           }
          ],
          "scatter": [
           {
            "fillpattern": {
             "fillmode": "overlay",
             "size": 10,
             "solidity": 0.2
            },
            "type": "scatter"
           }
          ],
          "scatter3d": [
           {
            "line": {
             "colorbar": {
              "outlinewidth": 0,
              "ticks": ""
             }
            },
            "marker": {
             "colorbar": {
              "outlinewidth": 0,
              "ticks": ""
             }
            },
            "type": "scatter3d"
           }
          ],
          "scattercarpet": [
           {
            "marker": {
             "colorbar": {
              "outlinewidth": 0,
              "ticks": ""
             }
            },
            "type": "scattercarpet"
           }
          ],
          "scattergeo": [
           {
            "marker": {
             "colorbar": {
              "outlinewidth": 0,
              "ticks": ""
             }
            },
            "type": "scattergeo"
           }
          ],
          "scattergl": [
           {
            "marker": {
             "colorbar": {
              "outlinewidth": 0,
              "ticks": ""
             }
            },
            "type": "scattergl"
           }
          ],
          "scattermapbox": [
           {
            "marker": {
             "colorbar": {
              "outlinewidth": 0,
              "ticks": ""
             }
            },
            "type": "scattermapbox"
           }
          ],
          "scatterpolar": [
           {
            "marker": {
             "colorbar": {
              "outlinewidth": 0,
              "ticks": ""
             }
            },
            "type": "scatterpolar"
           }
          ],
          "scatterpolargl": [
           {
            "marker": {
             "colorbar": {
              "outlinewidth": 0,
              "ticks": ""
             }
            },
            "type": "scatterpolargl"
           }
          ],
          "scatterternary": [
           {
            "marker": {
             "colorbar": {
              "outlinewidth": 0,
              "ticks": ""
             }
            },
            "type": "scatterternary"
           }
          ],
          "surface": [
           {
            "colorbar": {
             "outlinewidth": 0,
             "ticks": ""
            },
            "colorscale": [
             [
              0,
              "#0d0887"
             ],
             [
              0.1111111111111111,
              "#46039f"
             ],
             [
              0.2222222222222222,
              "#7201a8"
             ],
             [
              0.3333333333333333,
              "#9c179e"
             ],
             [
              0.4444444444444444,
              "#bd3786"
             ],
             [
              0.5555555555555556,
              "#d8576b"
             ],
             [
              0.6666666666666666,
              "#ed7953"
             ],
             [
              0.7777777777777778,
              "#fb9f3a"
             ],
             [
              0.8888888888888888,
              "#fdca26"
             ],
             [
              1,
              "#f0f921"
             ]
            ],
            "type": "surface"
           }
          ],
          "table": [
           {
            "cells": {
             "fill": {
              "color": "#EBF0F8"
             },
             "line": {
              "color": "white"
             }
            },
            "header": {
             "fill": {
              "color": "#C8D4E3"
             },
             "line": {
              "color": "white"
             }
            },
            "type": "table"
           }
          ]
         },
         "layout": {
          "annotationdefaults": {
           "arrowcolor": "#2a3f5f",
           "arrowhead": 0,
           "arrowwidth": 1
          },
          "autotypenumbers": "strict",
          "coloraxis": {
           "colorbar": {
            "outlinewidth": 0,
            "ticks": ""
           }
          },
          "colorscale": {
           "diverging": [
            [
             0,
             "#8e0152"
            ],
            [
             0.1,
             "#c51b7d"
            ],
            [
             0.2,
             "#de77ae"
            ],
            [
             0.3,
             "#f1b6da"
            ],
            [
             0.4,
             "#fde0ef"
            ],
            [
             0.5,
             "#f7f7f7"
            ],
            [
             0.6,
             "#e6f5d0"
            ],
            [
             0.7,
             "#b8e186"
            ],
            [
             0.8,
             "#7fbc41"
            ],
            [
             0.9,
             "#4d9221"
            ],
            [
             1,
             "#276419"
            ]
           ],
           "sequential": [
            [
             0,
             "#0d0887"
            ],
            [
             0.1111111111111111,
             "#46039f"
            ],
            [
             0.2222222222222222,
             "#7201a8"
            ],
            [
             0.3333333333333333,
             "#9c179e"
            ],
            [
             0.4444444444444444,
             "#bd3786"
            ],
            [
             0.5555555555555556,
             "#d8576b"
            ],
            [
             0.6666666666666666,
             "#ed7953"
            ],
            [
             0.7777777777777778,
             "#fb9f3a"
            ],
            [
             0.8888888888888888,
             "#fdca26"
            ],
            [
             1,
             "#f0f921"
            ]
           ],
           "sequentialminus": [
            [
             0,
             "#0d0887"
            ],
            [
             0.1111111111111111,
             "#46039f"
            ],
            [
             0.2222222222222222,
             "#7201a8"
            ],
            [
             0.3333333333333333,
             "#9c179e"
            ],
            [
             0.4444444444444444,
             "#bd3786"
            ],
            [
             0.5555555555555556,
             "#d8576b"
            ],
            [
             0.6666666666666666,
             "#ed7953"
            ],
            [
             0.7777777777777778,
             "#fb9f3a"
            ],
            [
             0.8888888888888888,
             "#fdca26"
            ],
            [
             1,
             "#f0f921"
            ]
           ]
          },
          "colorway": [
           "#636efa",
           "#EF553B",
           "#00cc96",
           "#ab63fa",
           "#FFA15A",
           "#19d3f3",
           "#FF6692",
           "#B6E880",
           "#FF97FF",
           "#FECB52"
          ],
          "font": {
           "color": "#2a3f5f"
          },
          "geo": {
           "bgcolor": "white",
           "lakecolor": "white",
           "landcolor": "white",
           "showlakes": true,
           "showland": true,
           "subunitcolor": "#C8D4E3"
          },
          "hoverlabel": {
           "align": "left"
          },
          "hovermode": "closest",
          "mapbox": {
           "style": "light"
          },
          "paper_bgcolor": "white",
          "plot_bgcolor": "white",
          "polar": {
           "angularaxis": {
            "gridcolor": "#EBF0F8",
            "linecolor": "#EBF0F8",
            "ticks": ""
           },
           "bgcolor": "white",
           "radialaxis": {
            "gridcolor": "#EBF0F8",
            "linecolor": "#EBF0F8",
            "ticks": ""
           }
          },
          "scene": {
           "xaxis": {
            "backgroundcolor": "white",
            "gridcolor": "#DFE8F3",
            "gridwidth": 2,
            "linecolor": "#EBF0F8",
            "showbackground": true,
            "ticks": "",
            "zerolinecolor": "#EBF0F8"
           },
           "yaxis": {
            "backgroundcolor": "white",
            "gridcolor": "#DFE8F3",
            "gridwidth": 2,
            "linecolor": "#EBF0F8",
            "showbackground": true,
            "ticks": "",
            "zerolinecolor": "#EBF0F8"
           },
           "zaxis": {
            "backgroundcolor": "white",
            "gridcolor": "#DFE8F3",
            "gridwidth": 2,
            "linecolor": "#EBF0F8",
            "showbackground": true,
            "ticks": "",
            "zerolinecolor": "#EBF0F8"
           }
          },
          "shapedefaults": {
           "line": {
            "color": "#2a3f5f"
           }
          },
          "ternary": {
           "aaxis": {
            "gridcolor": "#DFE8F3",
            "linecolor": "#A2B1C6",
            "ticks": ""
           },
           "baxis": {
            "gridcolor": "#DFE8F3",
            "linecolor": "#A2B1C6",
            "ticks": ""
           },
           "bgcolor": "white",
           "caxis": {
            "gridcolor": "#DFE8F3",
            "linecolor": "#A2B1C6",
            "ticks": ""
           }
          },
          "title": {
           "x": 0.05
          },
          "xaxis": {
           "automargin": true,
           "gridcolor": "#EBF0F8",
           "linecolor": "#EBF0F8",
           "ticks": "",
           "title": {
            "standoff": 15
           },
           "zerolinecolor": "#EBF0F8",
           "zerolinewidth": 2
          },
          "yaxis": {
           "automargin": true,
           "gridcolor": "#EBF0F8",
           "linecolor": "#EBF0F8",
           "ticks": "",
           "title": {
            "standoff": 15
           },
           "zerolinecolor": "#EBF0F8",
           "zerolinewidth": 2
          }
         }
        },
        "title": {
         "text": "Simple Line Plot"
        },
        "xaxis": {
         "autorange": true,
         "range": [
          0,
          99
         ],
         "title": {
          "text": "X-axis"
         },
         "type": "linear"
        },
        "yaxis": {
         "autorange": true,
         "range": [
          -2.8681908423452267,
          2.10072392276442
         ],
         "title": {
          "text": "y-axis"
         },
         "type": "linear"
        }
       }
      },
      "image/png": "[encoded data removed]",
      "text/html": [
       "<div>                            <div id=\"973d6b13-7829-415b-928d-5d7bbf5723e8\" class=\"plotly-graph-div\" style=\"height:525px; width:100%;\"></div>            <script type=\"text/javascript\">                require([\"plotly\"], function(Plotly) {                    window.PLOTLYENV=window.PLOTLYENV || {};                                    if (document.getElementById(\"973d6b13-7829-415b-928d-5d7bbf5723e8\")) {                    Plotly.newPlot(                        \"973d6b13-7829-415b-928d-5d7bbf5723e8\",                        [{\"line\":{\"color\":\"blue\"},\"mode\":\"lines\",\"name\":\"Random Data\",\"x\":[0,1,2,3,4,5,6,7,8,9,10,11,12,13,14,15,16,17,18,19,20,21,22,23,24,25,26,27,28,29,30,31,32,33,34,35,36,37,38,39,40,41,42,43,44,45,46,47,48,49,50,51,52,53,54,55,56,57,58,59,60,61,62,63,64,65,66,67,68,69,70,71,72,73,74,75,76,77,78,79,80,81,82,83,84,85,86,87,88,89,90,91,92,93,94,95,96,97,98,99],\"y\":[0.4967141530112327,-0.13826430117118466,0.6476885381006925,1.5230298564080254,-0.23415337472333597,-0.23413695694918055,1.5792128155073915,0.7674347291529088,-0.4694743859349521,0.5425600435859647,-0.46341769281246226,-0.46572975357025687,0.24196227156603412,-1.913280244657798,-1.7249178325130328,-0.5622875292409727,-1.0128311203344238,0.3142473325952739,-0.9080240755212109,-1.4123037013352915,1.465648768921554,-0.22577630048653566,0.06752820468792384,-1.4247481862134568,-0.5443827245251827,0.11092258970986608,-1.1509935774223028,0.37569801834567196,-0.600638689918805,-0.2916937497932768,-0.6017066122293969,1.8522781845089378,-0.013497224737933921,-1.0577109289559004,0.822544912103189,-1.2208436499710222,0.2088635950047554,-1.9596701238797756,-1.3281860488984305,0.19686123586912352,0.7384665799954104,0.1713682811899705,-0.11564828238824053,-0.3011036955892888,-1.4785219903674274,-0.7198442083947086,-0.4606387709597875,1.0571222262189157,0.3436182895684614,-1.763040155362734,0.324083969394795,-0.38508228041631654,-0.6769220003059587,0.6116762888408679,1.030999522495951,0.9312801191161986,-0.8392175232226385,-0.3092123758512146,0.33126343140356396,0.9755451271223592,-0.47917423784528995,-0.18565897666381712,-1.1063349740060282,-1.1962066240806708,0.812525822394198,1.356240028570823,-0.07201012158033385,1.0035328978920242,0.36163602504763415,-0.6451197546051243,0.36139560550841393,1.5380365664659692,-0.03582603910995154,1.5646436558140062,-2.6197451040897444,0.8219025043752238,0.08704706823817122,-0.29900735046586746,0.0917607765355023,-1.9875689146008928,-0.21967188783751193,0.3571125715117464,1.477894044741516,-0.5182702182736474,-0.8084936028931876,-0.5017570435845365,0.9154021177020741,0.32875110965968446,-0.5297602037670388,0.5132674331133561,0.09707754934804039,0.9686449905328892,-0.7020530938773524,-0.3276621465977682,-0.39210815313215763,-1.4635149481321186,0.29612027706457605,0.26105527217988933,0.00511345664246089,-0.23458713337514692],\"type\":\"scatter\"}],                        {\"template\":{\"data\":{\"barpolar\":[{\"marker\":{\"line\":{\"color\":\"white\",\"width\":0.5},\"pattern\":{\"fillmode\":\"overlay\",\"size\":10,\"solidity\":0.2}},\"type\":\"barpolar\"}],\"bar\":[{\"error_x\":{\"color\":\"#2a3f5f\"},\"error_y\":{\"color\":\"#2a3f5f\"},\"marker\":{\"line\":{\"color\":\"white\",\"width\":0.5},\"pattern\":{\"fillmode\":\"overlay\",\"size\":10,\"solidity\":0.2}},\"type\":\"bar\"}],\"carpet\":[{\"aaxis\":{\"endlinecolor\":\"#2a3f5f\",\"gridcolor\":\"#C8D4E3\",\"linecolor\":\"#C8D4E3\",\"minorgridcolor\":\"#C8D4E3\",\"startlinecolor\":\"#2a3f5f\"},\"baxis\":{\"endlinecolor\":\"#2a3f5f\",\"gridcolor\":\"#C8D4E3\",\"linecolor\":\"#C8D4E3\",\"minorgridcolor\":\"#C8D4E3\",\"startlinecolor\":\"#2a3f5f\"},\"type\":\"carpet\"}],\"choropleth\":[{\"colorbar\":{\"outlinewidth\":0,\"ticks\":\"\"},\"type\":\"choropleth\"}],\"contourcarpet\":[{\"colorbar\":{\"outlinewidth\":0,\"ticks\":\"\"},\"type\":\"contourcarpet\"}],\"contour\":[{\"colorbar\":{\"outlinewidth\":0,\"ticks\":\"\"},\"colorscale\":[[0.0,\"#0d0887\"],[0.1111111111111111,\"#46039f\"],[0.2222222222222222,\"#7201a8\"],[0.3333333333333333,\"#9c179e\"],[0.4444444444444444,\"#bd3786\"],[0.5555555555555556,\"#d8576b\"],[0.6666666666666666,\"#ed7953\"],[0.7777777777777778,\"#fb9f3a\"],[0.8888888888888888,\"#fdca26\"],[1.0,\"#f0f921\"]],\"type\":\"contour\"}],\"heatmapgl\":[{\"colorbar\":{\"outlinewidth\":0,\"ticks\":\"\"},\"colorscale\":[[0.0,\"#0d0887\"],[0.1111111111111111,\"#46039f\"],[0.2222222222222222,\"#7201a8\"],[0.3333333333333333,\"#9c179e\"],[0.4444444444444444,\"#bd3786\"],[0.5555555555555556,\"#d8576b\"],[0.6666666666666666,\"#ed7953\"],[0.7777777777777778,\"#fb9f3a\"],[0.8888888888888888,\"#fdca26\"],[1.0,\"#f0f921\"]],\"type\":\"heatmapgl\"}],\"heatmap\":[{\"colorbar\":{\"outlinewidth\":0,\"ticks\":\"\"},\"colorscale\":[[0.0,\"#0d0887\"],[0.1111111111111111,\"#46039f\"],[0.2222222222222222,\"#7201a8\"],[0.3333333333333333,\"#9c179e\"],[0.4444444444444444,\"#bd3786\"],[0.5555555555555556,\"#d8576b\"],[0.6666666666666666,\"#ed7953\"],[0.7777777777777778,\"#fb9f3a\"],[0.8888888888888888,\"#fdca26\"],[1.0,\"#f0f921\"]],\"type\":\"heatmap\"}],\"histogram2dcontour\":[{\"colorbar\":{\"outlinewidth\":0,\"ticks\":\"\"},\"colorscale\":[[0.0,\"#0d0887\"],[0.1111111111111111,\"#46039f\"],[0.2222222222222222,\"#7201a8\"],[0.3333333333333333,\"#9c179e\"],[0.4444444444444444,\"#bd3786\"],[0.5555555555555556,\"#d8576b\"],[0.6666666666666666,\"#ed7953\"],[0.7777777777777778,\"#fb9f3a\"],[0.8888888888888888,\"#fdca26\"],[1.0,\"#f0f921\"]],\"type\":\"histogram2dcontour\"}],\"histogram2d\":[{\"colorbar\":{\"outlinewidth\":0,\"ticks\":\"\"},\"colorscale\":[[0.0,\"#0d0887\"],[0.1111111111111111,\"#46039f\"],[0.2222222222222222,\"#7201a8\"],[0.3333333333333333,\"#9c179e\"],[0.4444444444444444,\"#bd3786\"],[0.5555555555555556,\"#d8576b\"],[0.6666666666666666,\"#ed7953\"],[0.7777777777777778,\"#fb9f3a\"],[0.8888888888888888,\"#fdca26\"],[1.0,\"#f0f921\"]],\"type\":\"histogram2d\"}],\"histogram\":[{\"marker\":{\"pattern\":{\"fillmode\":\"overlay\",\"size\":10,\"solidity\":0.2}},\"type\":\"histogram\"}],\"mesh3d\":[{\"colorbar\":{\"outlinewidth\":0,\"ticks\":\"\"},\"type\":\"mesh3d\"}],\"parcoords\":[{\"line\":{\"colorbar\":{\"outlinewidth\":0,\"ticks\":\"\"}},\"type\":\"parcoords\"}],\"pie\":[{\"automargin\":true,\"type\":\"pie\"}],\"scatter3d\":[{\"line\":{\"colorbar\":{\"outlinewidth\":0,\"ticks\":\"\"}},\"marker\":{\"colorbar\":{\"outlinewidth\":0,\"ticks\":\"\"}},\"type\":\"scatter3d\"}],\"scattercarpet\":[{\"marker\":{\"colorbar\":{\"outlinewidth\":0,\"ticks\":\"\"}},\"type\":\"scattercarpet\"}],\"scattergeo\":[{\"marker\":{\"colorbar\":{\"outlinewidth\":0,\"ticks\":\"\"}},\"type\":\"scattergeo\"}],\"scattergl\":[{\"marker\":{\"colorbar\":{\"outlinewidth\":0,\"ticks\":\"\"}},\"type\":\"scattergl\"}],\"scattermapbox\":[{\"marker\":{\"colorbar\":{\"outlinewidth\":0,\"ticks\":\"\"}},\"type\":\"scattermapbox\"}],\"scatterpolargl\":[{\"marker\":{\"colorbar\":{\"outlinewidth\":0,\"ticks\":\"\"}},\"type\":\"scatterpolargl\"}],\"scatterpolar\":[{\"marker\":{\"colorbar\":{\"outlinewidth\":0,\"ticks\":\"\"}},\"type\":\"scatterpolar\"}],\"scatter\":[{\"fillpattern\":{\"fillmode\":\"overlay\",\"size\":10,\"solidity\":0.2},\"type\":\"scatter\"}],\"scatterternary\":[{\"marker\":{\"colorbar\":{\"outlinewidth\":0,\"ticks\":\"\"}},\"type\":\"scatterternary\"}],\"surface\":[{\"colorbar\":{\"outlinewidth\":0,\"ticks\":\"\"},\"colorscale\":[[0.0,\"#0d0887\"],[0.1111111111111111,\"#46039f\"],[0.2222222222222222,\"#7201a8\"],[0.3333333333333333,\"#9c179e\"],[0.4444444444444444,\"#bd3786\"],[0.5555555555555556,\"#d8576b\"],[0.6666666666666666,\"#ed7953\"],[0.7777777777777778,\"#fb9f3a\"],[0.8888888888888888,\"#fdca26\"],[1.0,\"#f0f921\"]],\"type\":\"surface\"}],\"table\":[{\"cells\":{\"fill\":{\"color\":\"#EBF0F8\"},\"line\":{\"color\":\"white\"}},\"header\":{\"fill\":{\"color\":\"#C8D4E3\"},\"line\":{\"color\":\"white\"}},\"type\":\"table\"}]},\"layout\":{\"annotationdefaults\":{\"arrowcolor\":\"#2a3f5f\",\"arrowhead\":0,\"arrowwidth\":1},\"autotypenumbers\":\"strict\",\"coloraxis\":{\"colorbar\":{\"outlinewidth\":0,\"ticks\":\"\"}},\"colorscale\":{\"diverging\":[[0,\"#8e0152\"],[0.1,\"#c51b7d\"],[0.2,\"#de77ae\"],[0.3,\"#f1b6da\"],[0.4,\"#fde0ef\"],[0.5,\"#f7f7f7\"],[0.6,\"#e6f5d0\"],[0.7,\"#b8e186\"],[0.8,\"#7fbc41\"],[0.9,\"#4d9221\"],[1,\"#276419\"]],\"sequential\":[[0.0,\"#0d0887\"],[0.1111111111111111,\"#46039f\"],[0.2222222222222222,\"#7201a8\"],[0.3333333333333333,\"#9c179e\"],[0.4444444444444444,\"#bd3786\"],[0.5555555555555556,\"#d8576b\"],[0.6666666666666666,\"#ed7953\"],[0.7777777777777778,\"#fb9f3a\"],[0.8888888888888888,\"#fdca26\"],[1.0,\"#f0f921\"]],\"sequentialminus\":[[0.0,\"#0d0887\"],[0.1111111111111111,\"#46039f\"],[0.2222222222222222,\"#7201a8\"],[0.3333333333333333,\"#9c179e\"],[0.4444444444444444,\"#bd3786\"],[0.5555555555555556,\"#d8576b\"],[0.6666666666666666,\"#ed7953\"],[0.7777777777777778,\"#fb9f3a\"],[0.8888888888888888,\"#fdca26\"],[1.0,\"#f0f921\"]]},\"colorway\":[\"#636efa\",\"#EF553B\",\"#00cc96\",\"#ab63fa\",\"#FFA15A\",\"#19d3f3\",\"#FF6692\",\"#B6E880\",\"#FF97FF\",\"#FECB52\"],\"font\":{\"color\":\"#2a3f5f\"},\"geo\":{\"bgcolor\":\"white\",\"lakecolor\":\"white\",\"landcolor\":\"white\",\"showlakes\":true,\"showland\":true,\"subunitcolor\":\"#C8D4E3\"},\"hoverlabel\":{\"align\":\"left\"},\"hovermode\":\"closest\",\"mapbox\":{\"style\":\"light\"},\"paper_bgcolor\":\"white\",\"plot_bgcolor\":\"white\",\"polar\":{\"angularaxis\":{\"gridcolor\":\"#EBF0F8\",\"linecolor\":\"#EBF0F8\",\"ticks\":\"\"},\"bgcolor\":\"white\",\"radialaxis\":{\"gridcolor\":\"#EBF0F8\",\"linecolor\":\"#EBF0F8\",\"ticks\":\"\"}},\"scene\":{\"xaxis\":{\"backgroundcolor\":\"white\",\"gridcolor\":\"#DFE8F3\",\"gridwidth\":2,\"linecolor\":\"#EBF0F8\",\"showbackground\":true,\"ticks\":\"\",\"zerolinecolor\":\"#EBF0F8\"},\"yaxis\":{\"backgroundcolor\":\"white\",\"gridcolor\":\"#DFE8F3\",\"gridwidth\":2,\"linecolor\":\"#EBF0F8\",\"showbackground\":true,\"ticks\":\"\",\"zerolinecolor\":\"#EBF0F8\"},\"zaxis\":{\"backgroundcolor\":\"white\",\"gridcolor\":\"#DFE8F3\",\"gridwidth\":2,\"linecolor\":\"#EBF0F8\",\"showbackground\":true,\"ticks\":\"\",\"zerolinecolor\":\"#EBF0F8\"}},\"shapedefaults\":{\"line\":{\"color\":\"#2a3f5f\"}},\"ternary\":{\"aaxis\":{\"gridcolor\":\"#DFE8F3\",\"linecolor\":\"#A2B1C6\",\"ticks\":\"\"},\"baxis\":{\"gridcolor\":\"#DFE8F3\",\"linecolor\":\"#A2B1C6\",\"ticks\":\"\"},\"bgcolor\":\"white\",\"caxis\":{\"gridcolor\":\"#DFE8F3\",\"linecolor\":\"#A2B1C6\",\"ticks\":\"\"}},\"title\":{\"x\":0.05},\"xaxis\":{\"automargin\":true,\"gridcolor\":\"#EBF0F8\",\"linecolor\":\"#EBF0F8\",\"ticks\":\"\",\"title\":{\"standoff\":15},\"zerolinecolor\":\"#EBF0F8\",\"zerolinewidth\":2},\"yaxis\":{\"automargin\":true,\"gridcolor\":\"#EBF0F8\",\"linecolor\":\"#EBF0F8\",\"ticks\":\"\",\"title\":{\"standoff\":15},\"zerolinecolor\":\"#EBF0F8\",\"zerolinewidth\":2}}},\"title\":{\"text\":\"Simple Line Plot\"},\"xaxis\":{\"title\":{\"text\":\"X-axis\"}},\"yaxis\":{\"title\":{\"text\":\"y-axis\"}}},                        {\"responsive\": true}                    ).then(function(){\n",
       "                            \n",
       "var gd = document.getElementById('973d6b13-7829-415b-928d-5d7bbf5723e8');\n",
       "var x = new MutationObserver(function (mutations, observer) {{\n",
       "        var display = window.getComputedStyle(gd).display;\n",
       "        if (!display || display === 'none') {{\n",
       "            console.log([gd, 'removed!']);\n",
       "            Plotly.purge(gd);\n",
       "            observer.disconnect();\n",
       "        }}\n",
       "}});\n",
       "\n",
       "// Listen for the removal of the full notebook cells\n",
       "var notebookContainer = gd.closest('#notebook-container');\n",
       "if (notebookContainer) {{\n",
       "    x.observe(notebookContainer, {childList: true});\n",
       "}}\n",
       "\n",
       "// Listen for the clearing of the current output cell\n",
       "var outputEl = gd.closest('.output');\n",
       "if (outputEl) {{\n",
       "    x.observe(outputEl, {childList: true});\n",
       "}}\n",
       "\n",
       "                        })                };                });            </script>        </div>"
      ]
     },
     "metadata": {},
     "output_type": "display_data"
    }
   ],
   "source": [
    "'''20) Using Plotly, create a basic line plot of a randomly generated dataset, label the axes, and set the title as \n",
    "'Simple Line Plot'''\n",
    "\n",
    "import plotly.graph_objects as go\n",
    "import plotly.express as px\n",
    "np.random.seed(42)  \n",
    "x=np.arange(0,100)\n",
    "y=np.random.randn(100)\n",
    "fig=go.Figure()\n",
    "\n",
    "# Add a line trace\n",
    "fig.add_trace(go.Scatter(x=x,y=y,mode='lines',name='Random Data', \n",
    "                         line=dict(color='blue')))\n",
    "# Update layout with titles and labels\n",
    "fig.update_layout(title='Simple Line Plot',xaxis_title='X-axis', yaxis_title='y-axis', template='plotly_white')\n",
    "\n",
    "fig.show()\n"
   ]
  },
  {
   "cell_type": "code",
   "execution_count": 335,
   "id": "d24a2766-dd6a-400a-bb69-3799bdcf31ce",
   "metadata": {},
   "outputs": [
    {
     "data": {
      "application/vnd.plotly.v1+json": {
       "config": {
        "plotlyServerURL": "https://plot.ly"
       },
       "data": [
        {
         "domain": {
          "x": [
           0,
           1
          ],
          "y": [
           0,
           1
          ]
         },
         "hovertemplate": "Category=%{label}<br>Value=%{value}<extra></extra>",
         "labels": [
          "Category A",
          "Category B",
          "Category C",
          "Category D",
          "Category E"
         ],
         "legendgroup": "",
         "name": "",
         "showlegend": true,
         "textinfo": "percent+label",
         "textposition": "inside",
         "type": "pie",
         "values": [
          61,
          24,
          81,
          70,
          30
         ]
        }
       ],
       "layout": {
        "autosize": true,
        "legend": {
         "tracegroupgap": 0
        },
        "template": {
         "data": {
          "bar": [
           {
            "error_x": {
             "color": "#2a3f5f"
            },
            "error_y": {
             "color": "#2a3f5f"
            },
            "marker": {
             "line": {
              "color": "#E5ECF6",
              "width": 0.5
             },
             "pattern": {
              "fillmode": "overlay",
              "size": 10,
              "solidity": 0.2
             }
            },
            "type": "bar"
           }
          ],
          "barpolar": [
           {
            "marker": {
             "line": {
              "color": "#E5ECF6",
              "width": 0.5
             },
             "pattern": {
              "fillmode": "overlay",
              "size": 10,
              "solidity": 0.2
             }
            },
            "type": "barpolar"
           }
          ],
          "carpet": [
           {
            "aaxis": {
             "endlinecolor": "#2a3f5f",
             "gridcolor": "white",
             "linecolor": "white",
             "minorgridcolor": "white",
             "startlinecolor": "#2a3f5f"
            },
            "baxis": {
             "endlinecolor": "#2a3f5f",
             "gridcolor": "white",
             "linecolor": "white",
             "minorgridcolor": "white",
             "startlinecolor": "#2a3f5f"
            },
            "type": "carpet"
           }
          ],
          "choropleth": [
           {
            "colorbar": {
             "outlinewidth": 0,
             "ticks": ""
            },
            "type": "choropleth"
           }
          ],
          "contour": [
           {
            "colorbar": {
             "outlinewidth": 0,
             "ticks": ""
            },
            "colorscale": [
             [
              0,
              "#0d0887"
             ],
             [
              0.1111111111111111,
              "#46039f"
             ],
             [
              0.2222222222222222,
              "#7201a8"
             ],
             [
              0.3333333333333333,
              "#9c179e"
             ],
             [
              0.4444444444444444,
              "#bd3786"
             ],
             [
              0.5555555555555556,
              "#d8576b"
             ],
             [
              0.6666666666666666,
              "#ed7953"
             ],
             [
              0.7777777777777778,
              "#fb9f3a"
             ],
             [
              0.8888888888888888,
              "#fdca26"
             ],
             [
              1,
              "#f0f921"
             ]
            ],
            "type": "contour"
           }
          ],
          "contourcarpet": [
           {
            "colorbar": {
             "outlinewidth": 0,
             "ticks": ""
            },
            "type": "contourcarpet"
           }
          ],
          "heatmap": [
           {
            "colorbar": {
             "outlinewidth": 0,
             "ticks": ""
            },
            "colorscale": [
             [
              0,
              "#0d0887"
             ],
             [
              0.1111111111111111,
              "#46039f"
             ],
             [
              0.2222222222222222,
              "#7201a8"
             ],
             [
              0.3333333333333333,
              "#9c179e"
             ],
             [
              0.4444444444444444,
              "#bd3786"
             ],
             [
              0.5555555555555556,
              "#d8576b"
             ],
             [
              0.6666666666666666,
              "#ed7953"
             ],
             [
              0.7777777777777778,
              "#fb9f3a"
             ],
             [
              0.8888888888888888,
              "#fdca26"
             ],
             [
              1,
              "#f0f921"
             ]
            ],
            "type": "heatmap"
           }
          ],
          "heatmapgl": [
           {
            "colorbar": {
             "outlinewidth": 0,
             "ticks": ""
            },
            "colorscale": [
             [
              0,
              "#0d0887"
             ],
             [
              0.1111111111111111,
              "#46039f"
             ],
             [
              0.2222222222222222,
              "#7201a8"
             ],
             [
              0.3333333333333333,
              "#9c179e"
             ],
             [
              0.4444444444444444,
              "#bd3786"
             ],
             [
              0.5555555555555556,
              "#d8576b"
             ],
             [
              0.6666666666666666,
              "#ed7953"
             ],
             [
              0.7777777777777778,
              "#fb9f3a"
             ],
             [
              0.8888888888888888,
              "#fdca26"
             ],
             [
              1,
              "#f0f921"
             ]
            ],
            "type": "heatmapgl"
           }
          ],
          "histogram": [
           {
            "marker": {
             "pattern": {
              "fillmode": "overlay",
              "size": 10,
              "solidity": 0.2
             }
            },
            "type": "histogram"
           }
          ],
          "histogram2d": [
           {
            "colorbar": {
             "outlinewidth": 0,
             "ticks": ""
            },
            "colorscale": [
             [
              0,
              "#0d0887"
             ],
             [
              0.1111111111111111,
              "#46039f"
             ],
             [
              0.2222222222222222,
              "#7201a8"
             ],
             [
              0.3333333333333333,
              "#9c179e"
             ],
             [
              0.4444444444444444,
              "#bd3786"
             ],
             [
              0.5555555555555556,
              "#d8576b"
             ],
             [
              0.6666666666666666,
              "#ed7953"
             ],
             [
              0.7777777777777778,
              "#fb9f3a"
             ],
             [
              0.8888888888888888,
              "#fdca26"
             ],
             [
              1,
              "#f0f921"
             ]
            ],
            "type": "histogram2d"
           }
          ],
          "histogram2dcontour": [
           {
            "colorbar": {
             "outlinewidth": 0,
             "ticks": ""
            },
            "colorscale": [
             [
              0,
              "#0d0887"
             ],
             [
              0.1111111111111111,
              "#46039f"
             ],
             [
              0.2222222222222222,
              "#7201a8"
             ],
             [
              0.3333333333333333,
              "#9c179e"
             ],
             [
              0.4444444444444444,
              "#bd3786"
             ],
             [
              0.5555555555555556,
              "#d8576b"
             ],
             [
              0.6666666666666666,
              "#ed7953"
             ],
             [
              0.7777777777777778,
              "#fb9f3a"
             ],
             [
              0.8888888888888888,
              "#fdca26"
             ],
             [
              1,
              "#f0f921"
             ]
            ],
            "type": "histogram2dcontour"
           }
          ],
          "mesh3d": [
           {
            "colorbar": {
             "outlinewidth": 0,
             "ticks": ""
            },
            "type": "mesh3d"
           }
          ],
          "parcoords": [
           {
            "line": {
             "colorbar": {
              "outlinewidth": 0,
              "ticks": ""
             }
            },
            "type": "parcoords"
           }
          ],
          "pie": [
           {
            "automargin": true,
            "type": "pie"
           }
          ],
          "scatter": [
           {
            "fillpattern": {
             "fillmode": "overlay",
             "size": 10,
             "solidity": 0.2
            },
            "type": "scatter"
           }
          ],
          "scatter3d": [
           {
            "line": {
             "colorbar": {
              "outlinewidth": 0,
              "ticks": ""
             }
            },
            "marker": {
             "colorbar": {
              "outlinewidth": 0,
              "ticks": ""
             }
            },
            "type": "scatter3d"
           }
          ],
          "scattercarpet": [
           {
            "marker": {
             "colorbar": {
              "outlinewidth": 0,
              "ticks": ""
             }
            },
            "type": "scattercarpet"
           }
          ],
          "scattergeo": [
           {
            "marker": {
             "colorbar": {
              "outlinewidth": 0,
              "ticks": ""
             }
            },
            "type": "scattergeo"
           }
          ],
          "scattergl": [
           {
            "marker": {
             "colorbar": {
              "outlinewidth": 0,
              "ticks": ""
             }
            },
            "type": "scattergl"
           }
          ],
          "scattermapbox": [
           {
            "marker": {
             "colorbar": {
              "outlinewidth": 0,
              "ticks": ""
             }
            },
            "type": "scattermapbox"
           }
          ],
          "scatterpolar": [
           {
            "marker": {
             "colorbar": {
              "outlinewidth": 0,
              "ticks": ""
             }
            },
            "type": "scatterpolar"
           }
          ],
          "scatterpolargl": [
           {
            "marker": {
             "colorbar": {
              "outlinewidth": 0,
              "ticks": ""
             }
            },
            "type": "scatterpolargl"
           }
          ],
          "scatterternary": [
           {
            "marker": {
             "colorbar": {
              "outlinewidth": 0,
              "ticks": ""
             }
            },
            "type": "scatterternary"
           }
          ],
          "surface": [
           {
            "colorbar": {
             "outlinewidth": 0,
             "ticks": ""
            },
            "colorscale": [
             [
              0,
              "#0d0887"
             ],
             [
              0.1111111111111111,
              "#46039f"
             ],
             [
              0.2222222222222222,
              "#7201a8"
             ],
             [
              0.3333333333333333,
              "#9c179e"
             ],
             [
              0.4444444444444444,
              "#bd3786"
             ],
             [
              0.5555555555555556,
              "#d8576b"
             ],
             [
              0.6666666666666666,
              "#ed7953"
             ],
             [
              0.7777777777777778,
              "#fb9f3a"
             ],
             [
              0.8888888888888888,
              "#fdca26"
             ],
             [
              1,
              "#f0f921"
             ]
            ],
            "type": "surface"
           }
          ],
          "table": [
           {
            "cells": {
             "fill": {
              "color": "#EBF0F8"
             },
             "line": {
              "color": "white"
             }
            },
            "header": {
             "fill": {
              "color": "#C8D4E3"
             },
             "line": {
              "color": "white"
             }
            },
            "type": "table"
           }
          ]
         },
         "layout": {
          "annotationdefaults": {
           "arrowcolor": "#2a3f5f",
           "arrowhead": 0,
           "arrowwidth": 1
          },
          "autotypenumbers": "strict",
          "coloraxis": {
           "colorbar": {
            "outlinewidth": 0,
            "ticks": ""
           }
          },
          "colorscale": {
           "diverging": [
            [
             0,
             "#8e0152"
            ],
            [
             0.1,
             "#c51b7d"
            ],
            [
             0.2,
             "#de77ae"
            ],
            [
             0.3,
             "#f1b6da"
            ],
            [
             0.4,
             "#fde0ef"
            ],
            [
             0.5,
             "#f7f7f7"
            ],
            [
             0.6,
             "#e6f5d0"
            ],
            [
             0.7,
             "#b8e186"
            ],
            [
             0.8,
             "#7fbc41"
            ],
            [
             0.9,
             "#4d9221"
            ],
            [
             1,
             "#276419"
            ]
           ],
           "sequential": [
            [
             0,
             "#0d0887"
            ],
            [
             0.1111111111111111,
             "#46039f"
            ],
            [
             0.2222222222222222,
             "#7201a8"
            ],
            [
             0.3333333333333333,
             "#9c179e"
            ],
            [
             0.4444444444444444,
             "#bd3786"
            ],
            [
             0.5555555555555556,
             "#d8576b"
            ],
            [
             0.6666666666666666,
             "#ed7953"
            ],
            [
             0.7777777777777778,
             "#fb9f3a"
            ],
            [
             0.8888888888888888,
             "#fdca26"
            ],
            [
             1,
             "#f0f921"
            ]
           ],
           "sequentialminus": [
            [
             0,
             "#0d0887"
            ],
            [
             0.1111111111111111,
             "#46039f"
            ],
            [
             0.2222222222222222,
             "#7201a8"
            ],
            [
             0.3333333333333333,
             "#9c179e"
            ],
            [
             0.4444444444444444,
             "#bd3786"
            ],
            [
             0.5555555555555556,
             "#d8576b"
            ],
            [
             0.6666666666666666,
             "#ed7953"
            ],
            [
             0.7777777777777778,
             "#fb9f3a"
            ],
            [
             0.8888888888888888,
             "#fdca26"
            ],
            [
             1,
             "#f0f921"
            ]
           ]
          },
          "colorway": [
           "#636efa",
           "#EF553B",
           "#00cc96",
           "#ab63fa",
           "#FFA15A",
           "#19d3f3",
           "#FF6692",
           "#B6E880",
           "#FF97FF",
           "#FECB52"
          ],
          "font": {
           "color": "#2a3f5f"
          },
          "geo": {
           "bgcolor": "white",
           "lakecolor": "white",
           "landcolor": "#E5ECF6",
           "showlakes": true,
           "showland": true,
           "subunitcolor": "white"
          },
          "hoverlabel": {
           "align": "left"
          },
          "hovermode": "closest",
          "mapbox": {
           "style": "light"
          },
          "paper_bgcolor": "white",
          "plot_bgcolor": "#E5ECF6",
          "polar": {
           "angularaxis": {
            "gridcolor": "white",
            "linecolor": "white",
            "ticks": ""
           },
           "bgcolor": "#E5ECF6",
           "radialaxis": {
            "gridcolor": "white",
            "linecolor": "white",
            "ticks": ""
           }
          },
          "scene": {
           "xaxis": {
            "backgroundcolor": "#E5ECF6",
            "gridcolor": "white",
            "gridwidth": 2,
            "linecolor": "white",
            "showbackground": true,
            "ticks": "",
            "zerolinecolor": "white"
           },
           "yaxis": {
            "backgroundcolor": "#E5ECF6",
            "gridcolor": "white",
            "gridwidth": 2,
            "linecolor": "white",
            "showbackground": true,
            "ticks": "",
            "zerolinecolor": "white"
           },
           "zaxis": {
            "backgroundcolor": "#E5ECF6",
            "gridcolor": "white",
            "gridwidth": 2,
            "linecolor": "white",
            "showbackground": true,
            "ticks": "",
            "zerolinecolor": "white"
           }
          },
          "shapedefaults": {
           "line": {
            "color": "#2a3f5f"
           }
          },
          "ternary": {
           "aaxis": {
            "gridcolor": "white",
            "linecolor": "white",
            "ticks": ""
           },
           "baxis": {
            "gridcolor": "white",
            "linecolor": "white",
            "ticks": ""
           },
           "bgcolor": "#E5ECF6",
           "caxis": {
            "gridcolor": "white",
            "linecolor": "white",
            "ticks": ""
           }
          },
          "title": {
           "x": 0.05
          },
          "xaxis": {
           "automargin": true,
           "gridcolor": "white",
           "linecolor": "white",
           "ticks": "",
           "title": {
            "standoff": 15
           },
           "zerolinecolor": "white",
           "zerolinewidth": 2
          },
          "yaxis": {
           "automargin": true,
           "gridcolor": "white",
           "linecolor": "white",
           "ticks": "",
           "title": {
            "standoff": 15
           },
           "zerolinecolor": "white",
           "zerolinewidth": 2
          }
         }
        },
        "title": {
         "text": "Interactive Pie Chart"
        }
       }
      },
      "image/png": "[encoded data removed]",
      "text/html": [
       "<div>                            <div id=\"4fcd3121-3309-4558-b386-fb569555ff76\" class=\"plotly-graph-div\" style=\"height:525px; width:100%;\"></div>            <script type=\"text/javascript\">                require([\"plotly\"], function(Plotly) {                    window.PLOTLYENV=window.PLOTLYENV || {};                                    if (document.getElementById(\"4fcd3121-3309-4558-b386-fb569555ff76\")) {                    Plotly.newPlot(                        \"4fcd3121-3309-4558-b386-fb569555ff76\",                        [{\"domain\":{\"x\":[0.0,1.0],\"y\":[0.0,1.0]},\"hovertemplate\":\"Category=%{label}<br>Value=%{value}<extra></extra>\",\"labels\":[\"Category A\",\"Category B\",\"Category C\",\"Category D\",\"Category E\"],\"legendgroup\":\"\",\"name\":\"\",\"showlegend\":true,\"values\":[61,24,81,70,30],\"type\":\"pie\",\"textinfo\":\"percent+label\",\"textposition\":\"inside\"}],                        {\"template\":{\"data\":{\"histogram2dcontour\":[{\"type\":\"histogram2dcontour\",\"colorbar\":{\"outlinewidth\":0,\"ticks\":\"\"},\"colorscale\":[[0.0,\"#0d0887\"],[0.1111111111111111,\"#46039f\"],[0.2222222222222222,\"#7201a8\"],[0.3333333333333333,\"#9c179e\"],[0.4444444444444444,\"#bd3786\"],[0.5555555555555556,\"#d8576b\"],[0.6666666666666666,\"#ed7953\"],[0.7777777777777778,\"#fb9f3a\"],[0.8888888888888888,\"#fdca26\"],[1.0,\"#f0f921\"]]}],\"choropleth\":[{\"type\":\"choropleth\",\"colorbar\":{\"outlinewidth\":0,\"ticks\":\"\"}}],\"histogram2d\":[{\"type\":\"histogram2d\",\"colorbar\":{\"outlinewidth\":0,\"ticks\":\"\"},\"colorscale\":[[0.0,\"#0d0887\"],[0.1111111111111111,\"#46039f\"],[0.2222222222222222,\"#7201a8\"],[0.3333333333333333,\"#9c179e\"],[0.4444444444444444,\"#bd3786\"],[0.5555555555555556,\"#d8576b\"],[0.6666666666666666,\"#ed7953\"],[0.7777777777777778,\"#fb9f3a\"],[0.8888888888888888,\"#fdca26\"],[1.0,\"#f0f921\"]]}],\"heatmap\":[{\"type\":\"heatmap\",\"colorbar\":{\"outlinewidth\":0,\"ticks\":\"\"},\"colorscale\":[[0.0,\"#0d0887\"],[0.1111111111111111,\"#46039f\"],[0.2222222222222222,\"#7201a8\"],[0.3333333333333333,\"#9c179e\"],[0.4444444444444444,\"#bd3786\"],[0.5555555555555556,\"#d8576b\"],[0.6666666666666666,\"#ed7953\"],[0.7777777777777778,\"#fb9f3a\"],[0.8888888888888888,\"#fdca26\"],[1.0,\"#f0f921\"]]}],\"heatmapgl\":[{\"type\":\"heatmapgl\",\"colorbar\":{\"outlinewidth\":0,\"ticks\":\"\"},\"colorscale\":[[0.0,\"#0d0887\"],[0.1111111111111111,\"#46039f\"],[0.2222222222222222,\"#7201a8\"],[0.3333333333333333,\"#9c179e\"],[0.4444444444444444,\"#bd3786\"],[0.5555555555555556,\"#d8576b\"],[0.6666666666666666,\"#ed7953\"],[0.7777777777777778,\"#fb9f3a\"],[0.8888888888888888,\"#fdca26\"],[1.0,\"#f0f921\"]]}],\"contourcarpet\":[{\"type\":\"contourcarpet\",\"colorbar\":{\"outlinewidth\":0,\"ticks\":\"\"}}],\"contour\":[{\"type\":\"contour\",\"colorbar\":{\"outlinewidth\":0,\"ticks\":\"\"},\"colorscale\":[[0.0,\"#0d0887\"],[0.1111111111111111,\"#46039f\"],[0.2222222222222222,\"#7201a8\"],[0.3333333333333333,\"#9c179e\"],[0.4444444444444444,\"#bd3786\"],[0.5555555555555556,\"#d8576b\"],[0.6666666666666666,\"#ed7953\"],[0.7777777777777778,\"#fb9f3a\"],[0.8888888888888888,\"#fdca26\"],[1.0,\"#f0f921\"]]}],\"surface\":[{\"type\":\"surface\",\"colorbar\":{\"outlinewidth\":0,\"ticks\":\"\"},\"colorscale\":[[0.0,\"#0d0887\"],[0.1111111111111111,\"#46039f\"],[0.2222222222222222,\"#7201a8\"],[0.3333333333333333,\"#9c179e\"],[0.4444444444444444,\"#bd3786\"],[0.5555555555555556,\"#d8576b\"],[0.6666666666666666,\"#ed7953\"],[0.7777777777777778,\"#fb9f3a\"],[0.8888888888888888,\"#fdca26\"],[1.0,\"#f0f921\"]]}],\"mesh3d\":[{\"type\":\"mesh3d\",\"colorbar\":{\"outlinewidth\":0,\"ticks\":\"\"}}],\"scatter\":[{\"fillpattern\":{\"fillmode\":\"overlay\",\"size\":10,\"solidity\":0.2},\"type\":\"scatter\"}],\"parcoords\":[{\"type\":\"parcoords\",\"line\":{\"colorbar\":{\"outlinewidth\":0,\"ticks\":\"\"}}}],\"scatterpolargl\":[{\"type\":\"scatterpolargl\",\"marker\":{\"colorbar\":{\"outlinewidth\":0,\"ticks\":\"\"}}}],\"bar\":[{\"error_x\":{\"color\":\"#2a3f5f\"},\"error_y\":{\"color\":\"#2a3f5f\"},\"marker\":{\"line\":{\"color\":\"#E5ECF6\",\"width\":0.5},\"pattern\":{\"fillmode\":\"overlay\",\"size\":10,\"solidity\":0.2}},\"type\":\"bar\"}],\"scattergeo\":[{\"type\":\"scattergeo\",\"marker\":{\"colorbar\":{\"outlinewidth\":0,\"ticks\":\"\"}}}],\"scatterpolar\":[{\"type\":\"scatterpolar\",\"marker\":{\"colorbar\":{\"outlinewidth\":0,\"ticks\":\"\"}}}],\"histogram\":[{\"marker\":{\"pattern\":{\"fillmode\":\"overlay\",\"size\":10,\"solidity\":0.2}},\"type\":\"histogram\"}],\"scattergl\":[{\"type\":\"scattergl\",\"marker\":{\"colorbar\":{\"outlinewidth\":0,\"ticks\":\"\"}}}],\"scatter3d\":[{\"type\":\"scatter3d\",\"line\":{\"colorbar\":{\"outlinewidth\":0,\"ticks\":\"\"}},\"marker\":{\"colorbar\":{\"outlinewidth\":0,\"ticks\":\"\"}}}],\"scattermapbox\":[{\"type\":\"scattermapbox\",\"marker\":{\"colorbar\":{\"outlinewidth\":0,\"ticks\":\"\"}}}],\"scatterternary\":[{\"type\":\"scatterternary\",\"marker\":{\"colorbar\":{\"outlinewidth\":0,\"ticks\":\"\"}}}],\"scattercarpet\":[{\"type\":\"scattercarpet\",\"marker\":{\"colorbar\":{\"outlinewidth\":0,\"ticks\":\"\"}}}],\"carpet\":[{\"aaxis\":{\"endlinecolor\":\"#2a3f5f\",\"gridcolor\":\"white\",\"linecolor\":\"white\",\"minorgridcolor\":\"white\",\"startlinecolor\":\"#2a3f5f\"},\"baxis\":{\"endlinecolor\":\"#2a3f5f\",\"gridcolor\":\"white\",\"linecolor\":\"white\",\"minorgridcolor\":\"white\",\"startlinecolor\":\"#2a3f5f\"},\"type\":\"carpet\"}],\"table\":[{\"cells\":{\"fill\":{\"color\":\"#EBF0F8\"},\"line\":{\"color\":\"white\"}},\"header\":{\"fill\":{\"color\":\"#C8D4E3\"},\"line\":{\"color\":\"white\"}},\"type\":\"table\"}],\"barpolar\":[{\"marker\":{\"line\":{\"color\":\"#E5ECF6\",\"width\":0.5},\"pattern\":{\"fillmode\":\"overlay\",\"size\":10,\"solidity\":0.2}},\"type\":\"barpolar\"}],\"pie\":[{\"automargin\":true,\"type\":\"pie\"}]},\"layout\":{\"autotypenumbers\":\"strict\",\"colorway\":[\"#636efa\",\"#EF553B\",\"#00cc96\",\"#ab63fa\",\"#FFA15A\",\"#19d3f3\",\"#FF6692\",\"#B6E880\",\"#FF97FF\",\"#FECB52\"],\"font\":{\"color\":\"#2a3f5f\"},\"hovermode\":\"closest\",\"hoverlabel\":{\"align\":\"left\"},\"paper_bgcolor\":\"white\",\"plot_bgcolor\":\"#E5ECF6\",\"polar\":{\"bgcolor\":\"#E5ECF6\",\"angularaxis\":{\"gridcolor\":\"white\",\"linecolor\":\"white\",\"ticks\":\"\"},\"radialaxis\":{\"gridcolor\":\"white\",\"linecolor\":\"white\",\"ticks\":\"\"}},\"ternary\":{\"bgcolor\":\"#E5ECF6\",\"aaxis\":{\"gridcolor\":\"white\",\"linecolor\":\"white\",\"ticks\":\"\"},\"baxis\":{\"gridcolor\":\"white\",\"linecolor\":\"white\",\"ticks\":\"\"},\"caxis\":{\"gridcolor\":\"white\",\"linecolor\":\"white\",\"ticks\":\"\"}},\"coloraxis\":{\"colorbar\":{\"outlinewidth\":0,\"ticks\":\"\"}},\"colorscale\":{\"sequential\":[[0.0,\"#0d0887\"],[0.1111111111111111,\"#46039f\"],[0.2222222222222222,\"#7201a8\"],[0.3333333333333333,\"#9c179e\"],[0.4444444444444444,\"#bd3786\"],[0.5555555555555556,\"#d8576b\"],[0.6666666666666666,\"#ed7953\"],[0.7777777777777778,\"#fb9f3a\"],[0.8888888888888888,\"#fdca26\"],[1.0,\"#f0f921\"]],\"sequentialminus\":[[0.0,\"#0d0887\"],[0.1111111111111111,\"#46039f\"],[0.2222222222222222,\"#7201a8\"],[0.3333333333333333,\"#9c179e\"],[0.4444444444444444,\"#bd3786\"],[0.5555555555555556,\"#d8576b\"],[0.6666666666666666,\"#ed7953\"],[0.7777777777777778,\"#fb9f3a\"],[0.8888888888888888,\"#fdca26\"],[1.0,\"#f0f921\"]],\"diverging\":[[0,\"#8e0152\"],[0.1,\"#c51b7d\"],[0.2,\"#de77ae\"],[0.3,\"#f1b6da\"],[0.4,\"#fde0ef\"],[0.5,\"#f7f7f7\"],[0.6,\"#e6f5d0\"],[0.7,\"#b8e186\"],[0.8,\"#7fbc41\"],[0.9,\"#4d9221\"],[1,\"#276419\"]]},\"xaxis\":{\"gridcolor\":\"white\",\"linecolor\":\"white\",\"ticks\":\"\",\"title\":{\"standoff\":15},\"zerolinecolor\":\"white\",\"automargin\":true,\"zerolinewidth\":2},\"yaxis\":{\"gridcolor\":\"white\",\"linecolor\":\"white\",\"ticks\":\"\",\"title\":{\"standoff\":15},\"zerolinecolor\":\"white\",\"automargin\":true,\"zerolinewidth\":2},\"scene\":{\"xaxis\":{\"backgroundcolor\":\"#E5ECF6\",\"gridcolor\":\"white\",\"linecolor\":\"white\",\"showbackground\":true,\"ticks\":\"\",\"zerolinecolor\":\"white\",\"gridwidth\":2},\"yaxis\":{\"backgroundcolor\":\"#E5ECF6\",\"gridcolor\":\"white\",\"linecolor\":\"white\",\"showbackground\":true,\"ticks\":\"\",\"zerolinecolor\":\"white\",\"gridwidth\":2},\"zaxis\":{\"backgroundcolor\":\"#E5ECF6\",\"gridcolor\":\"white\",\"linecolor\":\"white\",\"showbackground\":true,\"ticks\":\"\",\"zerolinecolor\":\"white\",\"gridwidth\":2}},\"shapedefaults\":{\"line\":{\"color\":\"#2a3f5f\"}},\"annotationdefaults\":{\"arrowcolor\":\"#2a3f5f\",\"arrowhead\":0,\"arrowwidth\":1},\"geo\":{\"bgcolor\":\"white\",\"landcolor\":\"#E5ECF6\",\"subunitcolor\":\"white\",\"showland\":true,\"showlakes\":true,\"lakecolor\":\"white\"},\"title\":{\"x\":0.05},\"mapbox\":{\"style\":\"light\"}}},\"legend\":{\"tracegroupgap\":0},\"title\":{\"text\":\"Interactive Pie Chart\"}},                        {\"responsive\": true}                    ).then(function(){\n",
       "                            \n",
       "var gd = document.getElementById('4fcd3121-3309-4558-b386-fb569555ff76');\n",
       "var x = new MutationObserver(function (mutations, observer) {{\n",
       "        var display = window.getComputedStyle(gd).display;\n",
       "        if (!display || display === 'none') {{\n",
       "            console.log([gd, 'removed!']);\n",
       "            Plotly.purge(gd);\n",
       "            observer.disconnect();\n",
       "        }}\n",
       "}});\n",
       "\n",
       "// Listen for the removal of the full notebook cells\n",
       "var notebookContainer = gd.closest('#notebook-container');\n",
       "if (notebookContainer) {{\n",
       "    x.observe(notebookContainer, {childList: true});\n",
       "}}\n",
       "\n",
       "// Listen for the clearing of the current output cell\n",
       "var outputEl = gd.closest('.output');\n",
       "if (outputEl) {{\n",
       "    x.observe(outputEl, {childList: true});\n",
       "}}\n",
       "\n",
       "                        })                };                });            </script>        </div>"
      ]
     },
     "metadata": {},
     "output_type": "display_data"
    }
   ],
   "source": [
    "'''#21) Using Plotly, create an interactive pie chart of randomly generated data, add labels and percentages, set \n",
    "the title as 'Interactive Pie Chart'.'''\n",
    "\n",
    "\n",
    "\n",
    "# Step 1: Generate random data\n",
    "np.random.seed(42)  # For reproducibility\n",
    "categories = ['Category A', 'Category B', 'Category C', 'Category D', 'Category E']\n",
    "values = np.random.randint(10, 100, size=len(categories))  # Random values for each category\n",
    "\n",
    "# Create a DataFrame with the data\n",
    "df = pd.DataFrame({'Category': categories, 'Value': values})\n",
    "\n",
    "# Step 2: Create an interactive pie chart using Plotly\n",
    "fig = px.pie(df, values='Value', names='Category', title='Interactive Pie Chart')  \n",
    "\n",
    "# Step 3: Add labels and percentages\n",
    "fig.update_traces(textposition='inside',textinfo='percent+label')  # Display percentages and category labels inside the slices\n",
    "\n",
    "# Show the plot\n",
    "fig.show()\n",
    "\n"
   ]
  },
  {
   "cell_type": "code",
   "execution_count": null,
   "id": "956c249c-0933-4d4c-b526-17e733fb4866",
   "metadata": {},
   "outputs": [],
   "source": []
  }
 ],
 "metadata": {
  "kernelspec": {
   "display_name": "Python 3 (ipykernel)",
   "language": "python",
   "name": "python3"
  },
  "language_info": {
   "codemirror_mode": {
    "name": "ipython",
    "version": 3
   },
   "file_extension": ".py",
   "mimetype": "text/x-python",
   "name": "python",
   "nbconvert_exporter": "python",
   "pygments_lexer": "ipython3",
   "version": "3.11.7"
  }
 },
 "nbformat": 4,
 "nbformat_minor": 5
}
